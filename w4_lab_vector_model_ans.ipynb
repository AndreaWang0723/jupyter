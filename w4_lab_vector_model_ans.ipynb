{
  "cells": [
    {
      "cell_type": "markdown",
      "metadata": {
        "id": "view-in-github",
        "colab_type": "text"
      },
      "source": [
        "<a href=\"https://colab.research.google.com/github/AndreaWang0723/jupyter/blob/master/w4_lab_vector_model_ans.ipynb\" target=\"_parent\"><img src=\"https://colab.research.google.com/assets/colab-badge.svg\" alt=\"Open In Colab\"/></a>"
      ]
    },
    {
      "cell_type": "markdown",
      "id": "18117881-1575-4349-95ba-9bc6b2cea328",
      "metadata": {
        "id": "18117881-1575-4349-95ba-9bc6b2cea328"
      },
      "source": [
        "# W4 Lab Exercise\n",
        "This is the lab exercise for MIS590: Information Retrieval. </br>\n",
        "In this lab, you will gain the following experience:</br>\n",
        "- Understand Vector Space Models (VSMs) for Information Retrieval.\n",
        "- Develop Practical Skills in Vector-Based Document Representation, Including TF-IDF, Word2Vec, and BERT.\n",
        "- Compare the Effectiveness of Different Term Weighting Schemes.\n",
        "- Enhance Analytical Thinking in Evaluating IR Models\n",
        "</br>\n",
        "\n",
        "**Note:** When you see a pencil icon ✏️ in this notebook, it's time for you to code!"
      ]
    },
    {
      "cell_type": "markdown",
      "id": "2ffaa68b",
      "metadata": {
        "id": "2ffaa68b"
      },
      "source": [
        "# 1. Preliminaries"
      ]
    },
    {
      "cell_type": "markdown",
      "id": "111ef730",
      "metadata": {
        "id": "111ef730"
      },
      "source": [
        "## 1.1 Install and Import Libraries"
      ]
    },
    {
      "cell_type": "code",
      "execution_count": null,
      "id": "0bae653b-f98f-4f96-826b-e8fdc579a542",
      "metadata": {
        "tags": [],
        "colab": {
          "base_uri": "https://localhost:8080/"
        },
        "id": "0bae653b-f98f-4f96-826b-e8fdc579a542",
        "outputId": "d7caafab-c83d-416f-8523-9c59adb82af8"
      },
      "outputs": [
        {
          "output_type": "stream",
          "name": "stdout",
          "text": [
            "Requirement already satisfied: nltk in /usr/local/lib/python3.10/dist-packages (3.8.1)\n",
            "Requirement already satisfied: click in /usr/local/lib/python3.10/dist-packages (from nltk) (8.1.7)\n",
            "Requirement already satisfied: joblib in /usr/local/lib/python3.10/dist-packages (from nltk) (1.4.2)\n",
            "Requirement already satisfied: regex>=2021.8.3 in /usr/local/lib/python3.10/dist-packages (from nltk) (2024.9.11)\n",
            "Requirement already satisfied: tqdm in /usr/local/lib/python3.10/dist-packages (from nltk) (4.66.5)\n",
            "Requirement already satisfied: torch in /usr/local/lib/python3.10/dist-packages (2.4.1+cu121)\n",
            "Requirement already satisfied: filelock in /usr/local/lib/python3.10/dist-packages (from torch) (3.16.1)\n",
            "Requirement already satisfied: typing-extensions>=4.8.0 in /usr/local/lib/python3.10/dist-packages (from torch) (4.12.2)\n",
            "Requirement already satisfied: sympy in /usr/local/lib/python3.10/dist-packages (from torch) (1.13.3)\n",
            "Requirement already satisfied: networkx in /usr/local/lib/python3.10/dist-packages (from torch) (3.3)\n",
            "Requirement already satisfied: jinja2 in /usr/local/lib/python3.10/dist-packages (from torch) (3.1.4)\n",
            "Requirement already satisfied: fsspec in /usr/local/lib/python3.10/dist-packages (from torch) (2024.6.1)\n",
            "Requirement already satisfied: MarkupSafe>=2.0 in /usr/local/lib/python3.10/dist-packages (from jinja2->torch) (2.1.5)\n",
            "Requirement already satisfied: mpmath<1.4,>=1.1.0 in /usr/local/lib/python3.10/dist-packages (from sympy->torch) (1.3.0)\n",
            "Requirement already satisfied: numpy in /usr/local/lib/python3.10/dist-packages (1.26.4)\n",
            "Requirement already satisfied: gensim in /usr/local/lib/python3.10/dist-packages (4.3.3)\n",
            "Requirement already satisfied: numpy<2.0,>=1.18.5 in /usr/local/lib/python3.10/dist-packages (from gensim) (1.26.4)\n",
            "Requirement already satisfied: scipy<1.14.0,>=1.7.0 in /usr/local/lib/python3.10/dist-packages (from gensim) (1.13.1)\n",
            "Requirement already satisfied: smart-open>=1.8.1 in /usr/local/lib/python3.10/dist-packages (from gensim) (7.0.5)\n",
            "Requirement already satisfied: wrapt in /usr/local/lib/python3.10/dist-packages (from smart-open>=1.8.1->gensim) (1.16.0)\n",
            "\u001b[31mERROR: Could not find a version that satisfies the requirement string (from versions: none)\u001b[0m\u001b[31m\n",
            "\u001b[0m\u001b[31mERROR: No matching distribution found for string\u001b[0m\u001b[31m\n",
            "\u001b[0mRequirement already satisfied: transformers in /usr/local/lib/python3.10/dist-packages (4.44.2)\n",
            "Requirement already satisfied: filelock in /usr/local/lib/python3.10/dist-packages (from transformers) (3.16.1)\n",
            "Requirement already satisfied: huggingface-hub<1.0,>=0.23.2 in /usr/local/lib/python3.10/dist-packages (from transformers) (0.24.7)\n",
            "Requirement already satisfied: numpy>=1.17 in /usr/local/lib/python3.10/dist-packages (from transformers) (1.26.4)\n",
            "Requirement already satisfied: packaging>=20.0 in /usr/local/lib/python3.10/dist-packages (from transformers) (24.1)\n",
            "Requirement already satisfied: pyyaml>=5.1 in /usr/local/lib/python3.10/dist-packages (from transformers) (6.0.2)\n",
            "Requirement already satisfied: regex!=2019.12.17 in /usr/local/lib/python3.10/dist-packages (from transformers) (2024.9.11)\n",
            "Requirement already satisfied: requests in /usr/local/lib/python3.10/dist-packages (from transformers) (2.32.3)\n",
            "Requirement already satisfied: safetensors>=0.4.1 in /usr/local/lib/python3.10/dist-packages (from transformers) (0.4.5)\n",
            "Requirement already satisfied: tokenizers<0.20,>=0.19 in /usr/local/lib/python3.10/dist-packages (from transformers) (0.19.1)\n",
            "Requirement already satisfied: tqdm>=4.27 in /usr/local/lib/python3.10/dist-packages (from transformers) (4.66.5)\n",
            "Requirement already satisfied: fsspec>=2023.5.0 in /usr/local/lib/python3.10/dist-packages (from huggingface-hub<1.0,>=0.23.2->transformers) (2024.6.1)\n",
            "Requirement already satisfied: typing-extensions>=3.7.4.3 in /usr/local/lib/python3.10/dist-packages (from huggingface-hub<1.0,>=0.23.2->transformers) (4.12.2)\n",
            "Requirement already satisfied: charset-normalizer<4,>=2 in /usr/local/lib/python3.10/dist-packages (from requests->transformers) (3.3.2)\n",
            "Requirement already satisfied: idna<4,>=2.5 in /usr/local/lib/python3.10/dist-packages (from requests->transformers) (3.10)\n",
            "Requirement already satisfied: urllib3<3,>=1.21.1 in /usr/local/lib/python3.10/dist-packages (from requests->transformers) (2.2.3)\n",
            "Requirement already satisfied: certifi>=2017.4.17 in /usr/local/lib/python3.10/dist-packages (from requests->transformers) (2024.8.30)\n",
            "Requirement already satisfied: scikit-learn in /usr/local/lib/python3.10/dist-packages (1.5.2)\n",
            "Requirement already satisfied: numpy>=1.19.5 in /usr/local/lib/python3.10/dist-packages (from scikit-learn) (1.26.4)\n",
            "Requirement already satisfied: scipy>=1.6.0 in /usr/local/lib/python3.10/dist-packages (from scikit-learn) (1.13.1)\n",
            "Requirement already satisfied: joblib>=1.2.0 in /usr/local/lib/python3.10/dist-packages (from scikit-learn) (1.4.2)\n",
            "Requirement already satisfied: threadpoolctl>=3.1.0 in /usr/local/lib/python3.10/dist-packages (from scikit-learn) (3.5.0)\n"
          ]
        }
      ],
      "source": [
        "# Install the necessary packages\n",
        "!pip install nltk\n",
        "!pip install torch\n",
        "!pip install numpy\n",
        "!pip install gensim\n",
        "!pip install string\n",
        "!pip install transformers\n",
        "!pip install scikit-learn"
      ]
    },
    {
      "cell_type": "code",
      "execution_count": null,
      "id": "53e49647",
      "metadata": {
        "scrolled": true,
        "tags": [],
        "id": "53e49647"
      },
      "outputs": [],
      "source": [
        "import math\n",
        "import string\n",
        "from collections import defaultdict"
      ]
    },
    {
      "cell_type": "markdown",
      "id": "ecece4d5",
      "metadata": {
        "id": "ecece4d5"
      },
      "source": [
        "## 1.2 Input: Query & Document Collections (Corpus)"
      ]
    },
    {
      "cell_type": "code",
      "execution_count": null,
      "id": "a0ce3b5f",
      "metadata": {
        "tags": [],
        "id": "a0ce3b5f"
      },
      "outputs": [],
      "source": [
        "query = \"sleep deprivation\"\n",
        "\n",
        "corpus = [\n",
        "    \"Sleepless nights in the lab have become my new normal. I tried to fix the experiment setup, but the apparatus seems to have a mind of its own. My advisor says results are just around the corner, but the corner keeps moving. Coffee is my only true companion these days.\",\n",
        "    \"I thought grad school would be intellectually stimulating, but it's mostly paperwork and waiting for emails. The departmental printer jammed again, and now I'm late for a meeting. The cafeteria ran out of the good snacks, so I'm surviving on vending machine chips. Sleep has become a luxury I can no longer afford.\",\n",
        "    \"Writing the dissertation feels like climbing an endless mountain. Every time I finish a chapter, my supervisor suggests new revisions. The impostor syndrome is real, and I wonder if they made a mistake accepting me. Maybe I should have gone to clown college instead. I am utterly deprived of any semblance of a normal life.\",\n",
        "    \"My research data got corrupted, and now I have to start over. The lab mouse escaped, and we spent hours trying to find it. The grant proposal deadline is tomorrow, and the online submission portal is down. At least my pet cactus hasn't died yet.\",\n",
        "    \"The group meeting turned into a three-hour debate over font choices for the presentation. I'm pretty sure my colleague is stealing my lunch from the fridge. The photocopier is out to get me; it never works when I'm in a hurry. Is there a PhD in napping? Because I'd ace that.\",\n",
        "    \"I haven't seen the sun in days due to endless coding sessions. The simulation keeps crashing, and Stack Overflow doesn't have the answers. My roommate thinks I'm a ghost haunting the apartment. Instant noodles have become my primary food group.\",\n",
        "    \"Attending conferences sounded fun until I realized they involve a lot of awkward networking. I accidentally spilled coffee on a famous professor's shoes. My poster fell down twice during the session. Next time, I'll just send a cardboard cutout of myself.\",\n",
        "    \"The university gym membership was supposed to keep me healthy, but I've only used it once. I tried to attend a yoga class after staying up late for a deadline, but I fell asleep during the meditation. Maybe instead of the gym, my bed is more essential for keeping me healthy.\",\n",
        "    \"My teaching assistantship involves grading endless stacks of exams. Students keep emailing me for extensions with creative excuses. One claimed their dog sleeps on the laptop so they cannot use it for the exam. I was deprived of excuses for not completing my dissertation draft, and I might have got some good ones.\",\n",
        "    \"Group projects are the worst when you're the only one doing the work. My team members are as elusive as Bigfoot. The project is due next week, and I haven't heard from them. Perhaps I should just write a paper on the sociological implications of group work avoidance.\"\n",
        "]\n",
        "\n",
        "# Binary labels for the documents' relevancy to the query\n",
        "# Relevant ones: 1, 2, 5, 6, 8\n",
        "corpus_relevancy_label = [1, 1, 0, 0, 1, 1, 0, 1, 0, 0]"
      ]
    },
    {
      "cell_type": "code",
      "execution_count": null,
      "id": "0c614242",
      "metadata": {
        "tags": [],
        "colab": {
          "base_uri": "https://localhost:8080/"
        },
        "id": "0c614242",
        "outputId": "7a919db3-a625-4b32-db92-f2f6fedae77b"
      },
      "outputs": [
        {
          "output_type": "stream",
          "name": "stdout",
          "text": [
            "Query: sleep deprivation\n",
            "\n",
            "Document 1:\n",
            "Sleepless nights in the lab have become my new normal. I tried to fix the experiment setup, but the apparatus seems to have a mind of its own. My advisor says results are just around the corner, but the corner keeps moving. Coffee is my only true companion these days.\n",
            "\n",
            "Document 2:\n",
            "I thought grad school would be intellectually stimulating, but it's mostly paperwork and waiting for emails. The departmental printer jammed again, and now I'm late for a meeting. The cafeteria ran out of the good snacks, so I'm surviving on vending machine chips. Sleep has become a luxury I can no longer afford.\n",
            "\n",
            "Document 3:\n",
            "Writing the dissertation feels like climbing an endless mountain. Every time I finish a chapter, my supervisor suggests new revisions. The impostor syndrome is real, and I wonder if they made a mistake accepting me. Maybe I should have gone to clown college instead. I am utterly deprived of any semblance of a normal life.\n",
            "\n",
            "Document 4:\n",
            "My research data got corrupted, and now I have to start over. The lab mouse escaped, and we spent hours trying to find it. The grant proposal deadline is tomorrow, and the online submission portal is down. At least my pet cactus hasn't died yet.\n",
            "\n",
            "Document 5:\n",
            "The group meeting turned into a three-hour debate over font choices for the presentation. I'm pretty sure my colleague is stealing my lunch from the fridge. The photocopier is out to get me; it never works when I'm in a hurry. Is there a PhD in napping? Because I'd ace that.\n",
            "\n",
            "Document 6:\n",
            "I haven't seen the sun in days due to endless coding sessions. The simulation keeps crashing, and Stack Overflow doesn't have the answers. My roommate thinks I'm a ghost haunting the apartment. Instant noodles have become my primary food group.\n",
            "\n",
            "Document 7:\n",
            "Attending conferences sounded fun until I realized they involve a lot of awkward networking. I accidentally spilled coffee on a famous professor's shoes. My poster fell down twice during the session. Next time, I'll just send a cardboard cutout of myself.\n",
            "\n",
            "Document 8:\n",
            "The university gym membership was supposed to keep me healthy, but I've only used it once. I tried to attend a yoga class after staying up late for a deadline, but I fell asleep during the meditation. Maybe instead of the gym, my bed is more essential for keeping me healthy.\n",
            "\n",
            "Document 9:\n",
            "My teaching assistantship involves grading endless stacks of exams. Students keep emailing me for extensions with creative excuses. One claimed their dog sleeps on the laptop so they cannot use it for the exam. I was deprived of excuses for not completing my dissertation draft, and I might have got some good ones.\n",
            "\n",
            "Document 10:\n",
            "Group projects are the worst when you're the only one doing the work. My team members are as elusive as Bigfoot. The project is due next week, and I haven't heard from them. Perhaps I should just write a paper on the sociological implications of group work avoidance.\n",
            "\n"
          ]
        }
      ],
      "source": [
        "print(f\"Query: {query}\\n\")\n",
        "for idx, doc in enumerate(corpus):\n",
        "    print(f\"Document {idx+1}:\\n{doc}\\n\")"
      ]
    },
    {
      "cell_type": "markdown",
      "id": "2e16ff55-2eb7-41d7-839d-73bb5272d04f",
      "metadata": {
        "id": "2e16ff55-2eb7-41d7-839d-73bb5272d04f"
      },
      "source": [
        "# 2. Vector Space Model: TF-IDF"
      ]
    },
    {
      "cell_type": "markdown",
      "id": "6c3088e0",
      "metadata": {
        "id": "6c3088e0"
      },
      "source": [
        "## 2.1 Data Preprocessing"
      ]
    },
    {
      "cell_type": "markdown",
      "id": "d5c747d5",
      "metadata": {
        "id": "d5c747d5"
      },
      "source": [
        "### Steps for textual data preprocessing\n",
        "1. Tokenization (= word segmentation)\n",
        "2. Punctualtion and non-alphabetic token removal\n",
        "3. Stopwords removal\n",
        "4. Lemmatization / stemming"
      ]
    },
    {
      "cell_type": "markdown",
      "id": "fb0c16eb-1361-4977-a248-dd636a79fb5d",
      "metadata": {
        "id": "fb0c16eb-1361-4977-a248-dd636a79fb5d"
      },
      "source": [
        "### Import libraries"
      ]
    },
    {
      "cell_type": "code",
      "execution_count": null,
      "id": "30b23131-7e52-4097-8978-dd5b999ab25d",
      "metadata": {
        "colab": {
          "base_uri": "https://localhost:8080/"
        },
        "id": "30b23131-7e52-4097-8978-dd5b999ab25d",
        "outputId": "e2d87f84-b428-4d32-aa01-7aa284c80c33"
      },
      "outputs": [
        {
          "output_type": "stream",
          "name": "stderr",
          "text": [
            "[nltk_data] Downloading package punkt to /root/nltk_data...\n",
            "[nltk_data]   Unzipping tokenizers/punkt.zip.\n",
            "[nltk_data] Downloading package stopwords to /root/nltk_data...\n",
            "[nltk_data]   Unzipping corpora/stopwords.zip.\n",
            "[nltk_data] Downloading package averaged_perceptron_tagger to\n",
            "[nltk_data]     /root/nltk_data...\n",
            "[nltk_data]   Unzipping taggers/averaged_perceptron_tagger.zip.\n",
            "[nltk_data] Downloading package wordnet to /root/nltk_data...\n"
          ]
        },
        {
          "output_type": "execute_result",
          "data": {
            "text/plain": [
              "True"
            ]
          },
          "metadata": {},
          "execution_count": 5
        }
      ],
      "source": [
        "import nltk\n",
        "from nltk.corpus import stopwords\n",
        "from nltk.tokenize import word_tokenize\n",
        "from nltk import pos_tag\n",
        "from nltk.stem import WordNetLemmatizer\n",
        "from nltk.stem import PorterStemmer\n",
        "from nltk.corpus import wordnet as wn\n",
        "\n",
        "# Download necessary NLTK resources\n",
        "nltk.download('punkt')\n",
        "nltk.download('stopwords')\n",
        "nltk.download('averaged_perceptron_tagger')\n",
        "nltk.download('wordnet')"
      ]
    },
    {
      "cell_type": "code",
      "execution_count": null,
      "id": "538cd901",
      "metadata": {
        "tags": [],
        "colab": {
          "base_uri": "https://localhost:8080/"
        },
        "id": "538cd901",
        "outputId": "c2a11a8d-6a7a-4be7-cf2a-dc33807e6354"
      },
      "outputs": [
        {
          "output_type": "stream",
          "name": "stdout",
          "text": [
            "Example Sentence:\n",
            "The graduate student was typing, procrastinating, questioning herself, and finally submitting the dissertation while dreaming about sleep.\n"
          ]
        }
      ],
      "source": [
        "# Initialize stopwords, lemmatizer, and punctuation list\n",
        "stop_words = set(stopwords.words('english'))\n",
        "stemmer = PorterStemmer()\n",
        "lemmatizer = WordNetLemmatizer()\n",
        "punctuation_table = str.maketrans('', '', string.punctuation)\n",
        "\n",
        "# We will use this sentence as example to showcase the different steps of data preprocessing\n",
        "example_sentence = \"The graduate student was typing, procrastinating, questioning herself, and finally submitting the dissertation while dreaming about sleep.\"\n",
        "print(f\"Example Sentence:\\n{example_sentence}\")"
      ]
    },
    {
      "cell_type": "markdown",
      "id": "c42202e7",
      "metadata": {
        "id": "c42202e7"
      },
      "source": [
        "### What is tokenization?"
      ]
    },
    {
      "cell_type": "code",
      "execution_count": null,
      "id": "0eb5ba16",
      "metadata": {
        "tags": [],
        "colab": {
          "base_uri": "https://localhost:8080/"
        },
        "id": "0eb5ba16",
        "outputId": "2d8378a1-aeda-4f3c-b646-e6d3cd3de6d6"
      },
      "outputs": [
        {
          "output_type": "stream",
          "name": "stdout",
          "text": [
            "['the', 'graduate', 'student', 'was', 'typing', ',', 'procrastinating', ',', 'questioning', 'herself', ',', 'and', 'finally', 'submitting', 'the', 'dissertation', 'while', 'dreaming', 'about', 'sleep', '.']\n"
          ]
        }
      ],
      "source": [
        "tokens = word_tokenize(example_sentence.lower())\n",
        "print(tokens)"
      ]
    },
    {
      "cell_type": "markdown",
      "id": "68961a99",
      "metadata": {
        "id": "68961a99"
      },
      "source": [
        "### A quick removal of punctualtions and non-alphabetic words"
      ]
    },
    {
      "cell_type": "code",
      "execution_count": null,
      "id": "77b14e1a",
      "metadata": {
        "tags": [],
        "colab": {
          "base_uri": "https://localhost:8080/"
        },
        "id": "77b14e1a",
        "outputId": "a445c8f9-96b8-451f-d0bd-0c75f1e99759"
      },
      "outputs": [
        {
          "output_type": "stream",
          "name": "stdout",
          "text": [
            "['the', 'graduate', 'student', 'was', 'typing', 'procrastinating', 'questioning', 'herself', 'and', 'finally', 'submitting', 'the', 'dissertation', 'while', 'dreaming', 'about', 'sleep']\n"
          ]
        }
      ],
      "source": [
        "tokens_noPunc = [word.translate(punctuation_table) for word in tokens if word.isalpha()]\n",
        "print(tokens_noPunc)"
      ]
    },
    {
      "cell_type": "markdown",
      "id": "f3a8030b",
      "metadata": {
        "id": "f3a8030b"
      },
      "source": [
        "### What are stopwords?"
      ]
    },
    {
      "cell_type": "code",
      "execution_count": null,
      "id": "906e138c",
      "metadata": {
        "tags": [],
        "colab": {
          "base_uri": "https://localhost:8080/"
        },
        "id": "906e138c",
        "outputId": "ea251326-c2b0-42d4-e2db-82a803e7de3c"
      },
      "outputs": [
        {
          "output_type": "stream",
          "name": "stdout",
          "text": [
            "['graduate', 'student', 'typing', 'procrastinating', 'questioning', 'finally', 'submitting', 'dissertation', 'dreaming', 'sleep']\n"
          ]
        }
      ],
      "source": [
        "tokens_noSW = [word for word in tokens_noPunc if word not in stop_words]\n",
        "print(tokens_noSW)"
      ]
    },
    {
      "cell_type": "markdown",
      "id": "c5b25394",
      "metadata": {
        "id": "c5b25394"
      },
      "source": [
        "### What is lemmatization?"
      ]
    },
    {
      "cell_type": "code",
      "execution_count": null,
      "id": "6427e0ff",
      "metadata": {
        "tags": [],
        "colab": {
          "base_uri": "https://localhost:8080/"
        },
        "id": "6427e0ff",
        "outputId": "95da67ed-de98-41d1-b4cd-bbd5abaa447b"
      },
      "outputs": [
        {
          "output_type": "stream",
          "name": "stdout",
          "text": [
            "Original\tLemmatized\n",
            "\n",
            "graduate\tgraduate\n",
            "student\tstudent\n",
            "typing\ttyping\n",
            "procrastinating\tprocrastinating\n",
            "questioning\tquestioning\n",
            "finally\tfinally\n",
            "submitting\tsubmitting\n",
            "dissertation\tdissertation\n",
            "dreaming\tdreaming\n",
            "sleep\tsleep\n"
          ]
        }
      ],
      "source": [
        "print(\"Original\\tLemmatized\\n\")\n",
        "\n",
        "# Here we use pre-stopword removal tokens\n",
        "lemmatized_tokens = [lemmatizer.lemmatize(token) for token in tokens_noSW]\n",
        "for ori, lem in zip(tokens_noSW, lemmatized_tokens):\n",
        "    print(f\"{ori}\\t{lem}\")"
      ]
    },
    {
      "cell_type": "markdown",
      "id": "a0671810",
      "metadata": {
        "id": "a0671810"
      },
      "source": [
        "### Observe the results above and discuss the following:\n",
        "- What is lemmatization?\n",
        "- I guess you cannot tell what lemmatization is from the results above. Let's try lemmatization in another way."
      ]
    },
    {
      "cell_type": "markdown",
      "id": "675c21d4",
      "metadata": {
        "id": "675c21d4"
      },
      "source": [
        "### How about we tell the lemmatizer more information of the tokens?"
      ]
    },
    {
      "cell_type": "code",
      "execution_count": null,
      "id": "21a94a3f",
      "metadata": {
        "tags": [],
        "colab": {
          "base_uri": "https://localhost:8080/"
        },
        "id": "21a94a3f",
        "outputId": "a270e7ec-fa50-41d2-f665-1b6f0e1ff61b"
      },
      "outputs": [
        {
          "output_type": "stream",
          "name": "stdout",
          "text": [
            "[('the', 'DT'), ('graduate', 'NN'), ('student', 'NN'), ('was', 'VBD'), ('typing', 'VBG'), (',', ','), ('procrastinating', 'VBG'), (',', ','), ('questioning', 'VBG'), ('herself', 'PRP'), (',', ','), ('and', 'CC'), ('finally', 'RB'), ('submitting', 'VBG'), ('the', 'DT'), ('dissertation', 'NN'), ('while', 'IN'), ('dreaming', 'VBG'), ('about', 'RB'), ('sleep', 'NN'), ('.', '.')]\n"
          ]
        }
      ],
      "source": [
        "# Part-of-Speech Tagging\n",
        "tagged_tokens = pos_tag(tokens)\n",
        "print(tagged_tokens)"
      ]
    },
    {
      "cell_type": "markdown",
      "id": "a4205ac6",
      "metadata": {
        "id": "a4205ac6"
      },
      "source": [
        "### Then we do the punctuation, non-alphabetic tokens, and stopword removal."
      ]
    },
    {
      "cell_type": "code",
      "execution_count": null,
      "id": "d6af0e29",
      "metadata": {
        "tags": [],
        "colab": {
          "base_uri": "https://localhost:8080/"
        },
        "id": "d6af0e29",
        "outputId": "7a18e87b-0a60-4686-d8a8-c1628bae7d6b"
      },
      "outputs": [
        {
          "output_type": "stream",
          "name": "stdout",
          "text": [
            "[('the', 'DT'), ('graduate', 'NN'), ('student', 'NN'), ('was', 'VBD'), ('typing', 'VBG'), ('procrastinating', 'VBG'), ('questioning', 'VBG'), ('herself', 'PRP'), ('and', 'CC'), ('finally', 'RB'), ('submitting', 'VBG'), ('the', 'DT'), ('dissertation', 'NN'), ('while', 'IN'), ('dreaming', 'VBG'), ('about', 'RB'), ('sleep', 'NN')]\n",
            "[('graduate', 'NN'), ('student', 'NN'), ('typing', 'VBG'), ('procrastinating', 'VBG'), ('questioning', 'VBG'), ('finally', 'RB'), ('submitting', 'VBG'), ('dissertation', 'NN'), ('dreaming', 'VBG'), ('sleep', 'NN')]\n"
          ]
        }
      ],
      "source": [
        "# Remove punctuation and non-alphabetic tokens\n",
        "tagged_tokens_noPunc = [(word[0].translate(punctuation_table), word[1]) for word in tagged_tokens if word[0].isalpha()]\n",
        "print(tagged_tokens_noPunc)\n",
        "\n",
        "# Remove stopwords\n",
        "tagged_tokens_noSW = [(word[0], word[1]) for word in tagged_tokens_noPunc if word[0] not in stop_words]\n",
        "print(tagged_tokens_noSW)"
      ]
    },
    {
      "cell_type": "markdown",
      "id": "07f9ffbf",
      "metadata": {
        "id": "07f9ffbf"
      },
      "source": [
        "### Take 2: what is lemmatization?"
      ]
    },
    {
      "cell_type": "code",
      "execution_count": null,
      "id": "f1f708fc",
      "metadata": {
        "tags": [],
        "colab": {
          "base_uri": "https://localhost:8080/"
        },
        "id": "f1f708fc",
        "outputId": "0d06fba7-8d98-48be-e67d-f9e6d14810b9"
      },
      "outputs": [
        {
          "output_type": "stream",
          "name": "stdout",
          "text": [
            "Original\tLemmatized\n",
            "\n",
            "graduate\tgraduate\n",
            "student\tstudent\n",
            "typing\ttype\n",
            "procrastinating\tprocrastinate\n",
            "questioning\tquestion\n",
            "finally\tfinally\n",
            "submitting\tsubmit\n",
            "dissertation\tdissertation\n",
            "dreaming\tdream\n",
            "sleep\tsleep\n"
          ]
        }
      ],
      "source": [
        "# Convert treebank POS tags to wordnet POS tags so the lemmatizer can read them\n",
        "def get_wordnet_pos(treebank_tag):\n",
        "    if treebank_tag.startswith('J'):\n",
        "        return wn.ADJ\n",
        "    elif treebank_tag.startswith('V'):\n",
        "        return wn.VERB\n",
        "    elif treebank_tag.startswith('R'):\n",
        "        return wn.ADV\n",
        "    else:\n",
        "        return wn.NOUN\n",
        "\n",
        "print(\"Original\\tLemmatized\\n\")\n",
        "tagged_tokens_lemmatized = [lemmatizer.lemmatize(token, get_wordnet_pos(tag)) for token, tag in tagged_tokens_noSW]\n",
        "for ori, lem in zip(tagged_tokens_noSW, tagged_tokens_lemmatized):\n",
        "    print(f\"{ori[0]}\\t{lem}\")"
      ]
    },
    {
      "cell_type": "markdown",
      "id": "bb33e82c",
      "metadata": {
        "id": "bb33e82c"
      },
      "source": [
        "### Observe the results above and discuss the following:\n",
        "- What is lemmatization?"
      ]
    },
    {
      "cell_type": "markdown",
      "id": "bfc4fb82",
      "metadata": {
        "id": "bfc4fb82"
      },
      "source": [
        "### What is stemming?"
      ]
    },
    {
      "cell_type": "code",
      "execution_count": null,
      "id": "a2edec23",
      "metadata": {
        "tags": [],
        "colab": {
          "base_uri": "https://localhost:8080/"
        },
        "id": "a2edec23",
        "outputId": "ed837033-8dbb-447d-c48e-850225f66e34"
      },
      "outputs": [
        {
          "output_type": "stream",
          "name": "stdout",
          "text": [
            "Original\tStemmed\n",
            "\n",
            "graduate\tgraduat\n",
            "student\tstudent\n",
            "type\ttype\n",
            "procrastinate\tprocrastin\n",
            "question\tquestion\n",
            "finally\tfinal\n",
            "submit\tsubmit\n",
            "dissertation\tdissert\n",
            "dream\tdream\n",
            "sleep\tsleep\n"
          ]
        }
      ],
      "source": [
        "print(\"Original\\tStemmed\\n\")\n",
        "tokens_stemmed = [stemmer.stem(word) for word in tagged_tokens_lemmatized]\n",
        "for ori, stem in zip(tagged_tokens_lemmatized, tokens_stemmed):\n",
        "    print(f\"{ori}\\t{stem}\")"
      ]
    },
    {
      "cell_type": "markdown",
      "id": "b9a2efd5",
      "metadata": {
        "id": "b9a2efd5"
      },
      "source": [
        "### Observe the results above and discuss the following:\n",
        "- What is stemming?\n",
        "- Why is stemming helpful in imporving TF-IDF performance?"
      ]
    },
    {
      "cell_type": "markdown",
      "id": "e9536305",
      "metadata": {
        "id": "e9536305"
      },
      "source": [
        "### ✏️ Now let's preprocess the query and the documents!"
      ]
    },
    {
      "cell_type": "code",
      "execution_count": null,
      "id": "9b3c6fe1",
      "metadata": {
        "tags": [],
        "id": "9b3c6fe1"
      },
      "outputs": [],
      "source": [
        "# TODO\n",
        "# Preprocessing function\n",
        "def preprocess_text(text):\n",
        "\n",
        "    # Step 1: # Convert to lowercase and tokenize text into words\n",
        "    tokens = word_tokenize(text.lower())\n",
        "\n",
        "    # Step 2: Tag part-of-speech of the tokens\n",
        "    tokens = pos_tag(tokens)\n",
        "\n",
        "    # Step 3: Remove punctuation and non-alphabetic tokens\n",
        "    tokens = [(word[0].translate(punctuation_table), word[1]) for word in tokens if word[0].isalpha()]\n",
        "\n",
        "    # Step 4: Remove stopwords\n",
        "    tokens = [(word[0], word[1]) for word in tokens if word[0] not in stop_words]\n",
        "\n",
        "    # Step 5: Lemmatize tokens\n",
        "    tokens = [lemmatizer.lemmatize(token, get_wordnet_pos(tag)) for token, tag in tokens]\n",
        "\n",
        "    # Step 6: Stem tokens\n",
        "    tokens = [stemmer.stem(word) for word in tokens]\n",
        "\n",
        "    return tokens"
      ]
    },
    {
      "cell_type": "code",
      "execution_count": null,
      "id": "d78d7fcb",
      "metadata": {
        "tags": [],
        "colab": {
          "base_uri": "https://localhost:8080/"
        },
        "id": "d78d7fcb",
        "outputId": "a0fa6c30-52c1-4e74-f5d0-2f510c8edb1b"
      },
      "outputs": [
        {
          "output_type": "stream",
          "name": "stdout",
          "text": [
            "Query: ['sleep', 'depriv']\n",
            "\n",
            "Document 1: ['sleepless', 'night', 'lab', 'becom', 'new', 'normal', 'tri', 'fix', 'experi', 'setup', 'apparatu', 'seem', 'mind', 'advisor', 'say', 'result', 'around', 'corner', 'corner', 'keep', 'move', 'coffe', 'true', 'companion', 'day']\n",
            "Document 2: ['think', 'grad', 'school', 'would', 'intellectu', 'stimul', 'mostli', 'paperwork', 'wait', 'email', 'department', 'printer', 'jam', 'late', 'meet', 'cafeteria', 'run', 'good', 'snack', 'surviv', 'vend', 'machin', 'chip', 'sleep', 'becom', 'luxuri', 'longer', 'afford']\n",
            "Document 3: ['write', 'dissert', 'feel', 'like', 'climb', 'endless', 'mountain', 'everi', 'time', 'finish', 'chapter', 'supervisor', 'suggest', 'new', 'revis', 'impostor', 'syndrom', 'real', 'wonder', 'make', 'mistak', 'accept', 'mayb', 'go', 'clown', 'colleg', 'instead', 'utterli', 'depriv', 'semblanc', 'normal', 'life']\n",
            "Document 4: ['research', 'data', 'get', 'corrupt', 'start', 'lab', 'mous', 'escap', 'spend', 'hour', 'tri', 'find', 'grant', 'propos', 'deadlin', 'tomorrow', 'onlin', 'submiss', 'portal', 'least', 'pet', 'cactu', 'die', 'yet']\n",
            "Document 5: ['group', 'meet', 'turn', 'debat', 'font', 'choic', 'present', 'pretti', 'sure', 'colleagu', 'steal', 'lunch', 'fridg', 'photocopi', 'get', 'never', 'work', 'hurri', 'phd', 'nap', 'ace']\n",
            "Document 6: ['see', 'sun', 'day', 'due', 'endless', 'cod', 'session', 'simul', 'keep', 'crash', 'stack', 'overflow', 'answer', 'roommat', 'think', 'ghost', 'haunt', 'apart', 'instant', 'noodl', 'becom', 'primari', 'food', 'group']\n",
            "Document 7: ['attend', 'confer', 'sound', 'fun', 'realiz', 'involv', 'lot', 'awkward', 'network', 'accident', 'spill', 'coffe', 'famou', 'professor', 'shoe', 'poster', 'fell', 'twice', 'session', 'next', 'time', 'send', 'cardboard', 'cutout']\n",
            "Document 8: ['univers', 'gym', 'membership', 'suppos', 'keep', 'healthi', 'use', 'tri', 'attend', 'yoga', 'class', 'stay', 'late', 'deadlin', 'fell', 'asleep', 'medit', 'mayb', 'instead', 'gym', 'bed', 'essenti', 'keep', 'healthi']\n",
            "Document 9: ['teach', 'assistantship', 'involv', 'grade', 'endless', 'stack', 'exam', 'student', 'keep', 'email', 'extens', 'creativ', 'excus', 'one', 'claim', 'dog', 'sleep', 'laptop', 'use', 'exam', 'depriv', 'excus', 'complet', 'dissert', 'draft', 'might', 'get', 'good', 'one']\n",
            "Document 10: ['group', 'project', 'bad', 'one', 'work', 'team', 'member', 'elus', 'bigfoot', 'project', 'due', 'next', 'week', 'hear', 'perhap', 'write', 'paper', 'sociolog', 'implic', 'group', 'work', 'avoid']\n"
          ]
        }
      ],
      "source": [
        "# Apply preprocessing to each document in the corpus\n",
        "preprocessed_query = preprocess_text(query)\n",
        "print(f\"Query: {preprocessed_query}\\n\")\n",
        "\n",
        "preprocessed_corpus = [preprocess_text(doc) for doc in corpus]\n",
        "# Print preprocessed corpus\n",
        "for idx, doc in enumerate(preprocessed_corpus):\n",
        "    print(f\"Document {idx+1}: {doc}\")"
      ]
    },
    {
      "cell_type": "markdown",
      "id": "544cea0b",
      "metadata": {
        "id": "544cea0b"
      },
      "source": [
        "## ✏️ 2.2 Compute Term Frequency (TF)"
      ]
    },
    {
      "cell_type": "code",
      "execution_count": null,
      "id": "874163f9",
      "metadata": {
        "tags": [],
        "colab": {
          "base_uri": "https://localhost:8080/"
        },
        "id": "874163f9",
        "outputId": "cb677ee8-d574-4342-b234-c30bde5677b8"
      },
      "outputs": [
        {
          "output_type": "stream",
          "name": "stdout",
          "text": [
            "TF for Document 1: {'sleepless': 0.04, 'night': 0.04, 'lab': 0.04, 'becom': 0.04, 'new': 0.04, 'normal': 0.04, 'tri': 0.04, 'fix': 0.04, 'experi': 0.04, 'setup': 0.04, 'apparatu': 0.04, 'seem': 0.04, 'mind': 0.04, 'advisor': 0.04, 'say': 0.04, 'result': 0.04, 'around': 0.04, 'corner': 0.08, 'keep': 0.04, 'move': 0.04, 'coffe': 0.04, 'true': 0.04, 'companion': 0.04, 'day': 0.04}\n",
            "\n",
            "TF for Document 2: {'think': 0.03571428571428571, 'grad': 0.03571428571428571, 'school': 0.03571428571428571, 'would': 0.03571428571428571, 'intellectu': 0.03571428571428571, 'stimul': 0.03571428571428571, 'mostli': 0.03571428571428571, 'paperwork': 0.03571428571428571, 'wait': 0.03571428571428571, 'email': 0.03571428571428571, 'department': 0.03571428571428571, 'printer': 0.03571428571428571, 'jam': 0.03571428571428571, 'late': 0.03571428571428571, 'meet': 0.03571428571428571, 'cafeteria': 0.03571428571428571, 'run': 0.03571428571428571, 'good': 0.03571428571428571, 'snack': 0.03571428571428571, 'surviv': 0.03571428571428571, 'vend': 0.03571428571428571, 'machin': 0.03571428571428571, 'chip': 0.03571428571428571, 'sleep': 0.03571428571428571, 'becom': 0.03571428571428571, 'luxuri': 0.03571428571428571, 'longer': 0.03571428571428571, 'afford': 0.03571428571428571}\n",
            "\n",
            "TF for Document 3: {'write': 0.03125, 'dissert': 0.03125, 'feel': 0.03125, 'like': 0.03125, 'climb': 0.03125, 'endless': 0.03125, 'mountain': 0.03125, 'everi': 0.03125, 'time': 0.03125, 'finish': 0.03125, 'chapter': 0.03125, 'supervisor': 0.03125, 'suggest': 0.03125, 'new': 0.03125, 'revis': 0.03125, 'impostor': 0.03125, 'syndrom': 0.03125, 'real': 0.03125, 'wonder': 0.03125, 'make': 0.03125, 'mistak': 0.03125, 'accept': 0.03125, 'mayb': 0.03125, 'go': 0.03125, 'clown': 0.03125, 'colleg': 0.03125, 'instead': 0.03125, 'utterli': 0.03125, 'depriv': 0.03125, 'semblanc': 0.03125, 'normal': 0.03125, 'life': 0.03125}\n",
            "\n",
            "TF for Document 4: {'research': 0.041666666666666664, 'data': 0.041666666666666664, 'get': 0.041666666666666664, 'corrupt': 0.041666666666666664, 'start': 0.041666666666666664, 'lab': 0.041666666666666664, 'mous': 0.041666666666666664, 'escap': 0.041666666666666664, 'spend': 0.041666666666666664, 'hour': 0.041666666666666664, 'tri': 0.041666666666666664, 'find': 0.041666666666666664, 'grant': 0.041666666666666664, 'propos': 0.041666666666666664, 'deadlin': 0.041666666666666664, 'tomorrow': 0.041666666666666664, 'onlin': 0.041666666666666664, 'submiss': 0.041666666666666664, 'portal': 0.041666666666666664, 'least': 0.041666666666666664, 'pet': 0.041666666666666664, 'cactu': 0.041666666666666664, 'die': 0.041666666666666664, 'yet': 0.041666666666666664}\n",
            "\n",
            "TF for Document 5: {'group': 0.047619047619047616, 'meet': 0.047619047619047616, 'turn': 0.047619047619047616, 'debat': 0.047619047619047616, 'font': 0.047619047619047616, 'choic': 0.047619047619047616, 'present': 0.047619047619047616, 'pretti': 0.047619047619047616, 'sure': 0.047619047619047616, 'colleagu': 0.047619047619047616, 'steal': 0.047619047619047616, 'lunch': 0.047619047619047616, 'fridg': 0.047619047619047616, 'photocopi': 0.047619047619047616, 'get': 0.047619047619047616, 'never': 0.047619047619047616, 'work': 0.047619047619047616, 'hurri': 0.047619047619047616, 'phd': 0.047619047619047616, 'nap': 0.047619047619047616, 'ace': 0.047619047619047616}\n",
            "\n",
            "TF for Document 6: {'see': 0.041666666666666664, 'sun': 0.041666666666666664, 'day': 0.041666666666666664, 'due': 0.041666666666666664, 'endless': 0.041666666666666664, 'cod': 0.041666666666666664, 'session': 0.041666666666666664, 'simul': 0.041666666666666664, 'keep': 0.041666666666666664, 'crash': 0.041666666666666664, 'stack': 0.041666666666666664, 'overflow': 0.041666666666666664, 'answer': 0.041666666666666664, 'roommat': 0.041666666666666664, 'think': 0.041666666666666664, 'ghost': 0.041666666666666664, 'haunt': 0.041666666666666664, 'apart': 0.041666666666666664, 'instant': 0.041666666666666664, 'noodl': 0.041666666666666664, 'becom': 0.041666666666666664, 'primari': 0.041666666666666664, 'food': 0.041666666666666664, 'group': 0.041666666666666664}\n",
            "\n",
            "TF for Document 7: {'attend': 0.041666666666666664, 'confer': 0.041666666666666664, 'sound': 0.041666666666666664, 'fun': 0.041666666666666664, 'realiz': 0.041666666666666664, 'involv': 0.041666666666666664, 'lot': 0.041666666666666664, 'awkward': 0.041666666666666664, 'network': 0.041666666666666664, 'accident': 0.041666666666666664, 'spill': 0.041666666666666664, 'coffe': 0.041666666666666664, 'famou': 0.041666666666666664, 'professor': 0.041666666666666664, 'shoe': 0.041666666666666664, 'poster': 0.041666666666666664, 'fell': 0.041666666666666664, 'twice': 0.041666666666666664, 'session': 0.041666666666666664, 'next': 0.041666666666666664, 'time': 0.041666666666666664, 'send': 0.041666666666666664, 'cardboard': 0.041666666666666664, 'cutout': 0.041666666666666664}\n",
            "\n",
            "TF for Document 8: {'univers': 0.041666666666666664, 'gym': 0.08333333333333333, 'membership': 0.041666666666666664, 'suppos': 0.041666666666666664, 'keep': 0.08333333333333333, 'healthi': 0.08333333333333333, 'use': 0.041666666666666664, 'tri': 0.041666666666666664, 'attend': 0.041666666666666664, 'yoga': 0.041666666666666664, 'class': 0.041666666666666664, 'stay': 0.041666666666666664, 'late': 0.041666666666666664, 'deadlin': 0.041666666666666664, 'fell': 0.041666666666666664, 'asleep': 0.041666666666666664, 'medit': 0.041666666666666664, 'mayb': 0.041666666666666664, 'instead': 0.041666666666666664, 'bed': 0.041666666666666664, 'essenti': 0.041666666666666664}\n",
            "\n",
            "TF for Document 9: {'teach': 0.034482758620689655, 'assistantship': 0.034482758620689655, 'involv': 0.034482758620689655, 'grade': 0.034482758620689655, 'endless': 0.034482758620689655, 'stack': 0.034482758620689655, 'exam': 0.06896551724137931, 'student': 0.034482758620689655, 'keep': 0.034482758620689655, 'email': 0.034482758620689655, 'extens': 0.034482758620689655, 'creativ': 0.034482758620689655, 'excus': 0.06896551724137931, 'one': 0.06896551724137931, 'claim': 0.034482758620689655, 'dog': 0.034482758620689655, 'sleep': 0.034482758620689655, 'laptop': 0.034482758620689655, 'use': 0.034482758620689655, 'depriv': 0.034482758620689655, 'complet': 0.034482758620689655, 'dissert': 0.034482758620689655, 'draft': 0.034482758620689655, 'might': 0.034482758620689655, 'get': 0.034482758620689655, 'good': 0.034482758620689655}\n",
            "\n",
            "TF for Document 10: {'group': 0.09090909090909091, 'project': 0.09090909090909091, 'bad': 0.045454545454545456, 'one': 0.045454545454545456, 'work': 0.09090909090909091, 'team': 0.045454545454545456, 'member': 0.045454545454545456, 'elus': 0.045454545454545456, 'bigfoot': 0.045454545454545456, 'due': 0.045454545454545456, 'next': 0.045454545454545456, 'week': 0.045454545454545456, 'hear': 0.045454545454545456, 'perhap': 0.045454545454545456, 'write': 0.045454545454545456, 'paper': 0.045454545454545456, 'sociolog': 0.045454545454545456, 'implic': 0.045454545454545456, 'avoid': 0.045454545454545456}\n",
            "\n"
          ]
        }
      ],
      "source": [
        "# Function to compute term frequency (TF) for each document\n",
        "def compute_tf(doc):\n",
        "\n",
        "    # Initialize the TF dictionary\n",
        "    tf_dict = {}\n",
        "\n",
        "    # TODO\n",
        "    # Count the term frequency\n",
        "    for word in doc:\n",
        "        tf_dict[word] = tf_dict.get(word, 0) + 1\n",
        "\n",
        "    # TODO\n",
        "    # Divide term counts by total number of terms in the document\n",
        "    total_terms = len(doc)\n",
        "    for word in tf_dict:\n",
        "        tf_dict[word] = tf_dict[word] / total_terms\n",
        "\n",
        "    return tf_dict\n",
        "\n",
        "# Compute TF for each document in the corpus\n",
        "tf_corpus = [compute_tf(doc) for doc in preprocessed_corpus]\n",
        "\n",
        "# Print TF values for each document\n",
        "for idx, tf in enumerate(tf_corpus):\n",
        "    print(f\"TF for Document {idx+1}: {tf}\\n\")"
      ]
    },
    {
      "cell_type": "markdown",
      "id": "4cd3a5b8",
      "metadata": {
        "id": "4cd3a5b8"
      },
      "source": [
        "## ✏️ 2.3 Compute Inverse Document Frequency (IDF)"
      ]
    },
    {
      "cell_type": "code",
      "execution_count": null,
      "id": "b72b4c5c",
      "metadata": {
        "tags": [],
        "colab": {
          "base_uri": "https://localhost:8080/"
        },
        "id": "b72b4c5c",
        "outputId": "d98428d0-6430-465b-bd4a-669624a515de"
      },
      "outputs": [
        {
          "output_type": "stream",
          "name": "stdout",
          "text": [
            "IDF for Corpus:\n",
            "apparatu: 3.302585092994046\n",
            "mind: 3.302585092994046\n",
            "keep: 1.916290731874155\n",
            "new: 2.6094379124341005\n",
            "move: 3.302585092994046\n",
            "around: 3.302585092994046\n",
            "sleepless: 3.302585092994046\n",
            "corner: 3.302585092994046\n",
            "advisor: 3.302585092994046\n",
            "normal: 2.6094379124341005\n",
            "day: 2.6094379124341005\n",
            "becom: 2.203972804325936\n",
            "fix: 3.302585092994046\n",
            "experi: 3.302585092994046\n",
            "lab: 2.6094379124341005\n",
            "companion: 3.302585092994046\n",
            "seem: 3.302585092994046\n",
            "true: 3.302585092994046\n",
            "coffe: 2.6094379124341005\n",
            "say: 3.302585092994046\n",
            "tri: 2.203972804325936\n",
            "night: 3.302585092994046\n",
            "result: 3.302585092994046\n",
            "setup: 3.302585092994046\n",
            "late: 2.6094379124341005\n",
            "vend: 3.302585092994046\n",
            "department: 3.302585092994046\n",
            "wait: 3.302585092994046\n",
            "would: 3.302585092994046\n",
            "run: 3.302585092994046\n",
            "email: 2.6094379124341005\n",
            "think: 2.6094379124341005\n",
            "printer: 3.302585092994046\n",
            "stimul: 3.302585092994046\n",
            "surviv: 3.302585092994046\n",
            "meet: 2.6094379124341005\n",
            "snack: 3.302585092994046\n",
            "paperwork: 3.302585092994046\n",
            "afford: 3.302585092994046\n",
            "school: 3.302585092994046\n",
            "mostli: 3.302585092994046\n",
            "luxuri: 3.302585092994046\n",
            "grad: 3.302585092994046\n",
            "chip: 3.302585092994046\n",
            "good: 2.6094379124341005\n",
            "sleep: 2.6094379124341005\n",
            "machin: 3.302585092994046\n",
            "jam: 3.302585092994046\n",
            "cafeteria: 3.302585092994046\n",
            "intellectu: 3.302585092994046\n",
            "longer: 3.302585092994046\n",
            "climb: 3.302585092994046\n",
            "finish: 3.302585092994046\n",
            "colleg: 3.302585092994046\n",
            "impostor: 3.302585092994046\n",
            "go: 3.302585092994046\n",
            "suggest: 3.302585092994046\n",
            "dissert: 2.6094379124341005\n",
            "make: 3.302585092994046\n",
            "revis: 3.302585092994046\n",
            "time: 2.6094379124341005\n",
            "depriv: 2.6094379124341005\n",
            "feel: 3.302585092994046\n",
            "mountain: 3.302585092994046\n",
            "supervisor: 3.302585092994046\n",
            "everi: 3.302585092994046\n",
            "mayb: 2.6094379124341005\n",
            "life: 3.302585092994046\n",
            "write: 2.6094379124341005\n",
            "utterli: 3.302585092994046\n",
            "like: 3.302585092994046\n",
            "accept: 3.302585092994046\n",
            "mistak: 3.302585092994046\n",
            "syndrom: 3.302585092994046\n",
            "semblanc: 3.302585092994046\n",
            "instead: 2.6094379124341005\n",
            "endless: 2.203972804325936\n",
            "real: 3.302585092994046\n",
            "wonder: 3.302585092994046\n",
            "chapter: 3.302585092994046\n",
            "clown: 3.302585092994046\n",
            "mous: 3.302585092994046\n",
            "submiss: 3.302585092994046\n",
            "corrupt: 3.302585092994046\n",
            "hour: 3.302585092994046\n",
            "find: 3.302585092994046\n",
            "least: 3.302585092994046\n",
            "yet: 3.302585092994046\n",
            "cactu: 3.302585092994046\n",
            "deadlin: 2.6094379124341005\n",
            "start: 3.302585092994046\n",
            "tomorrow: 3.302585092994046\n",
            "spend: 3.302585092994046\n",
            "research: 3.302585092994046\n",
            "propos: 3.302585092994046\n",
            "escap: 3.302585092994046\n",
            "data: 3.302585092994046\n",
            "pet: 3.302585092994046\n",
            "grant: 3.302585092994046\n",
            "portal: 3.302585092994046\n",
            "die: 3.302585092994046\n",
            "get: 2.203972804325936\n",
            "onlin: 3.302585092994046\n",
            "nap: 3.302585092994046\n",
            "phd: 3.302585092994046\n",
            "hurri: 3.302585092994046\n",
            "steal: 3.302585092994046\n",
            "work: 2.6094379124341005\n",
            "photocopi: 3.302585092994046\n",
            "pretti: 3.302585092994046\n",
            "choic: 3.302585092994046\n",
            "debat: 3.302585092994046\n",
            "ace: 3.302585092994046\n",
            "never: 3.302585092994046\n",
            "present: 3.302585092994046\n",
            "font: 3.302585092994046\n",
            "sure: 3.302585092994046\n",
            "colleagu: 3.302585092994046\n",
            "fridg: 3.302585092994046\n",
            "lunch: 3.302585092994046\n",
            "turn: 3.302585092994046\n",
            "group: 2.203972804325936\n",
            "cod: 3.302585092994046\n",
            "overflow: 3.302585092994046\n",
            "haunt: 3.302585092994046\n",
            "answer: 3.302585092994046\n",
            "sun: 3.302585092994046\n",
            "food: 3.302585092994046\n",
            "instant: 3.302585092994046\n",
            "stack: 2.6094379124341005\n",
            "primari: 3.302585092994046\n",
            "see: 3.302585092994046\n",
            "ghost: 3.302585092994046\n",
            "apart: 3.302585092994046\n",
            "crash: 3.302585092994046\n",
            "roommat: 3.302585092994046\n",
            "noodl: 3.302585092994046\n",
            "session: 2.6094379124341005\n",
            "due: 2.6094379124341005\n",
            "simul: 3.302585092994046\n",
            "accident: 3.302585092994046\n",
            "realiz: 3.302585092994046\n",
            "famou: 3.302585092994046\n",
            "fun: 3.302585092994046\n",
            "network: 3.302585092994046\n",
            "awkward: 3.302585092994046\n",
            "cardboard: 3.302585092994046\n",
            "involv: 2.6094379124341005\n",
            "sound: 3.302585092994046\n",
            "professor: 3.302585092994046\n",
            "confer: 3.302585092994046\n",
            "poster: 3.302585092994046\n",
            "attend: 2.6094379124341005\n",
            "send: 3.302585092994046\n",
            "cutout: 3.302585092994046\n",
            "fell: 2.6094379124341005\n",
            "shoe: 3.302585092994046\n",
            "next: 2.6094379124341005\n",
            "spill: 3.302585092994046\n",
            "twice: 3.302585092994046\n",
            "lot: 3.302585092994046\n",
            "medit: 3.302585092994046\n",
            "stay: 3.302585092994046\n",
            "healthi: 3.302585092994046\n",
            "suppos: 3.302585092994046\n",
            "use: 2.6094379124341005\n",
            "gym: 3.302585092994046\n",
            "univers: 3.302585092994046\n",
            "asleep: 3.302585092994046\n",
            "bed: 3.302585092994046\n",
            "membership: 3.302585092994046\n",
            "essenti: 3.302585092994046\n",
            "class: 3.302585092994046\n",
            "yoga: 3.302585092994046\n",
            "draft: 3.302585092994046\n",
            "one: 2.6094379124341005\n",
            "grade: 3.302585092994046\n",
            "claim: 3.302585092994046\n",
            "laptop: 3.302585092994046\n",
            "excus: 3.302585092994046\n",
            "might: 3.302585092994046\n",
            "assistantship: 3.302585092994046\n",
            "extens: 3.302585092994046\n",
            "creativ: 3.302585092994046\n",
            "dog: 3.302585092994046\n",
            "teach: 3.302585092994046\n",
            "exam: 3.302585092994046\n",
            "student: 3.302585092994046\n",
            "complet: 3.302585092994046\n",
            "member: 3.302585092994046\n",
            "week: 3.302585092994046\n",
            "avoid: 3.302585092994046\n",
            "bad: 3.302585092994046\n",
            "project: 3.302585092994046\n",
            "bigfoot: 3.302585092994046\n",
            "elus: 3.302585092994046\n",
            "sociolog: 3.302585092994046\n",
            "implic: 3.302585092994046\n",
            "perhap: 3.302585092994046\n",
            "team: 3.302585092994046\n",
            "hear: 3.302585092994046\n",
            "paper: 3.302585092994046\n"
          ]
        }
      ],
      "source": [
        "# Function to compute inverse document frequency (IDF) for each term in the corpus\n",
        "def compute_idf(corpus):\n",
        "\n",
        "    N = len(corpus)  # Total number of documents\n",
        "\n",
        "    # Initialize the IDF dictionary\n",
        "    idf_dict = defaultdict(int)\n",
        "\n",
        "    # TODO\n",
        "    # Count the number of documents containing each word\n",
        "    for doc in corpus:\n",
        "        for word in set(doc):  # Use set to count each word only once per document\n",
        "            idf_dict[word] += 1\n",
        "\n",
        "    #TODO\n",
        "    # Compute IDF (logarithmic scale)\n",
        "    for word in idf_dict:\n",
        "        idf_dict[word] = math.log(N / (idf_dict[word])) + 1  # Smoothing by adding 1\n",
        "\n",
        "    return idf_dict\n",
        "\n",
        "# Compute IDF for the corpus\n",
        "idf_dict = compute_idf(preprocessed_corpus)\n",
        "\n",
        "# Print IDF values\n",
        "print(\"IDF for Corpus:\")\n",
        "for word, idf in idf_dict.items():\n",
        "    print(f\"{word}: {idf}\")"
      ]
    },
    {
      "cell_type": "markdown",
      "id": "1bface74",
      "metadata": {
        "id": "1bface74"
      },
      "source": [
        "## ✏️ 2.4 Compute TF-IDF"
      ]
    },
    {
      "cell_type": "code",
      "execution_count": null,
      "id": "ce20a060",
      "metadata": {
        "tags": [],
        "colab": {
          "base_uri": "https://localhost:8080/"
        },
        "id": "ce20a060",
        "outputId": "f926e455-a624-4b5b-c757-1e246e875182"
      },
      "outputs": [
        {
          "output_type": "stream",
          "name": "stdout",
          "text": [
            "TF-IDF for Document 1: {'sleepless': 0.13210340371976184, 'night': 0.13210340371976184, 'lab': 0.10437751649736403, 'becom': 0.08815891217303744, 'new': 0.10437751649736403, 'normal': 0.10437751649736403, 'tri': 0.08815891217303744, 'fix': 0.13210340371976184, 'experi': 0.13210340371976184, 'setup': 0.13210340371976184, 'apparatu': 0.13210340371976184, 'seem': 0.13210340371976184, 'mind': 0.13210340371976184, 'advisor': 0.13210340371976184, 'say': 0.13210340371976184, 'result': 0.13210340371976184, 'around': 0.13210340371976184, 'corner': 0.2642068074395237, 'keep': 0.0766516292749662, 'move': 0.13210340371976184, 'coffe': 0.10437751649736403, 'true': 0.13210340371976184, 'companion': 0.13210340371976184, 'day': 0.10437751649736403}\n",
            "\n",
            "TF-IDF for Document 2: {'think': 0.09319421115836073, 'grad': 0.1179494676069302, 'school': 0.1179494676069302, 'would': 0.1179494676069302, 'intellectu': 0.1179494676069302, 'stimul': 0.1179494676069302, 'mostli': 0.1179494676069302, 'paperwork': 0.1179494676069302, 'wait': 0.1179494676069302, 'email': 0.09319421115836073, 'department': 0.1179494676069302, 'printer': 0.1179494676069302, 'jam': 0.1179494676069302, 'late': 0.09319421115836073, 'meet': 0.09319421115836073, 'cafeteria': 0.1179494676069302, 'run': 0.1179494676069302, 'good': 0.09319421115836073, 'snack': 0.1179494676069302, 'surviv': 0.1179494676069302, 'vend': 0.1179494676069302, 'machin': 0.1179494676069302, 'chip': 0.1179494676069302, 'sleep': 0.09319421115836073, 'becom': 0.078713314440212, 'luxuri': 0.1179494676069302, 'longer': 0.1179494676069302, 'afford': 0.1179494676069302}\n",
            "\n",
            "TF-IDF for Document 3: {'write': 0.08154493476356564, 'dissert': 0.08154493476356564, 'feel': 0.10320578415606393, 'like': 0.10320578415606393, 'climb': 0.10320578415606393, 'endless': 0.0688741501351855, 'mountain': 0.10320578415606393, 'everi': 0.10320578415606393, 'time': 0.08154493476356564, 'finish': 0.10320578415606393, 'chapter': 0.10320578415606393, 'supervisor': 0.10320578415606393, 'suggest': 0.10320578415606393, 'new': 0.08154493476356564, 'revis': 0.10320578415606393, 'impostor': 0.10320578415606393, 'syndrom': 0.10320578415606393, 'real': 0.10320578415606393, 'wonder': 0.10320578415606393, 'make': 0.10320578415606393, 'mistak': 0.10320578415606393, 'accept': 0.10320578415606393, 'mayb': 0.08154493476356564, 'go': 0.10320578415606393, 'clown': 0.10320578415606393, 'colleg': 0.10320578415606393, 'instead': 0.08154493476356564, 'utterli': 0.10320578415606393, 'depriv': 0.08154493476356564, 'semblanc': 0.10320578415606393, 'normal': 0.08154493476356564, 'life': 0.10320578415606393}\n",
            "\n",
            "TF-IDF for Document 4: {'research': 0.13760771220808524, 'data': 0.13760771220808524, 'get': 0.09183220018024732, 'corrupt': 0.13760771220808524, 'start': 0.13760771220808524, 'lab': 0.10872657968475419, 'mous': 0.13760771220808524, 'escap': 0.13760771220808524, 'spend': 0.13760771220808524, 'hour': 0.13760771220808524, 'tri': 0.09183220018024732, 'find': 0.13760771220808524, 'grant': 0.13760771220808524, 'propos': 0.13760771220808524, 'deadlin': 0.10872657968475419, 'tomorrow': 0.13760771220808524, 'onlin': 0.13760771220808524, 'submiss': 0.13760771220808524, 'portal': 0.13760771220808524, 'least': 0.13760771220808524, 'pet': 0.13760771220808524, 'cactu': 0.13760771220808524, 'die': 0.13760771220808524, 'yet': 0.13760771220808524}\n",
            "\n",
            "TF-IDF for Document 5: {'group': 0.10495108592028266, 'meet': 0.12425894821114764, 'turn': 0.15726595680924027, 'debat': 0.15726595680924027, 'font': 0.15726595680924027, 'choic': 0.15726595680924027, 'present': 0.15726595680924027, 'pretti': 0.15726595680924027, 'sure': 0.15726595680924027, 'colleagu': 0.15726595680924027, 'steal': 0.15726595680924027, 'lunch': 0.15726595680924027, 'fridg': 0.15726595680924027, 'photocopi': 0.15726595680924027, 'get': 0.10495108592028266, 'never': 0.15726595680924027, 'work': 0.12425894821114764, 'hurri': 0.15726595680924027, 'phd': 0.15726595680924027, 'nap': 0.15726595680924027, 'ace': 0.15726595680924027}\n",
            "\n",
            "TF-IDF for Document 6: {'see': 0.13760771220808524, 'sun': 0.13760771220808524, 'day': 0.10872657968475419, 'due': 0.10872657968475419, 'endless': 0.09183220018024732, 'cod': 0.13760771220808524, 'session': 0.10872657968475419, 'simul': 0.13760771220808524, 'keep': 0.07984544716142312, 'crash': 0.13760771220808524, 'stack': 0.10872657968475419, 'overflow': 0.13760771220808524, 'answer': 0.13760771220808524, 'roommat': 0.13760771220808524, 'think': 0.10872657968475419, 'ghost': 0.13760771220808524, 'haunt': 0.13760771220808524, 'apart': 0.13760771220808524, 'instant': 0.13760771220808524, 'noodl': 0.13760771220808524, 'becom': 0.09183220018024732, 'primari': 0.13760771220808524, 'food': 0.13760771220808524, 'group': 0.09183220018024732}\n",
            "\n",
            "TF-IDF for Document 7: {'attend': 0.10872657968475419, 'confer': 0.13760771220808524, 'sound': 0.13760771220808524, 'fun': 0.13760771220808524, 'realiz': 0.13760771220808524, 'involv': 0.10872657968475419, 'lot': 0.13760771220808524, 'awkward': 0.13760771220808524, 'network': 0.13760771220808524, 'accident': 0.13760771220808524, 'spill': 0.13760771220808524, 'coffe': 0.10872657968475419, 'famou': 0.13760771220808524, 'professor': 0.13760771220808524, 'shoe': 0.13760771220808524, 'poster': 0.13760771220808524, 'fell': 0.10872657968475419, 'twice': 0.13760771220808524, 'session': 0.10872657968475419, 'next': 0.10872657968475419, 'time': 0.10872657968475419, 'send': 0.13760771220808524, 'cardboard': 0.13760771220808524, 'cutout': 0.13760771220808524}\n",
            "\n",
            "TF-IDF for Document 8: {'univers': 0.13760771220808524, 'gym': 0.2752154244161705, 'membership': 0.13760771220808524, 'suppos': 0.13760771220808524, 'keep': 0.15969089432284625, 'healthi': 0.2752154244161705, 'use': 0.10872657968475419, 'tri': 0.09183220018024732, 'attend': 0.10872657968475419, 'yoga': 0.13760771220808524, 'class': 0.13760771220808524, 'stay': 0.13760771220808524, 'late': 0.10872657968475419, 'deadlin': 0.10872657968475419, 'fell': 0.10872657968475419, 'asleep': 0.13760771220808524, 'medit': 0.13760771220808524, 'mayb': 0.10872657968475419, 'instead': 0.10872657968475419, 'bed': 0.13760771220808524, 'essenti': 0.13760771220808524}\n",
            "\n",
            "TF-IDF for Document 9: {'teach': 0.11388224458600159, 'assistantship': 0.11388224458600159, 'involv': 0.0899806176701414, 'grade': 0.11388224458600159, 'endless': 0.07599906221813572, 'stack': 0.0899806176701414, 'exam': 0.22776448917200318, 'student': 0.11388224458600159, 'keep': 0.06607899075428121, 'email': 0.0899806176701414, 'extens': 0.11388224458600159, 'creativ': 0.11388224458600159, 'excus': 0.22776448917200318, 'one': 0.1799612353402828, 'claim': 0.11388224458600159, 'dog': 0.11388224458600159, 'sleep': 0.0899806176701414, 'laptop': 0.11388224458600159, 'use': 0.0899806176701414, 'depriv': 0.0899806176701414, 'complet': 0.11388224458600159, 'dissert': 0.0899806176701414, 'draft': 0.11388224458600159, 'might': 0.11388224458600159, 'get': 0.07599906221813572, 'good': 0.0899806176701414}\n",
            "\n",
            "TF-IDF for Document 10: {'group': 0.20036116402963053, 'project': 0.3002350084540042, 'bad': 0.1501175042270021, 'one': 0.11861081420155002, 'work': 0.23722162840310004, 'team': 0.1501175042270021, 'member': 0.1501175042270021, 'elus': 0.1501175042270021, 'bigfoot': 0.1501175042270021, 'due': 0.11861081420155002, 'next': 0.11861081420155002, 'week': 0.1501175042270021, 'hear': 0.1501175042270021, 'perhap': 0.1501175042270021, 'write': 0.11861081420155002, 'paper': 0.1501175042270021, 'sociolog': 0.1501175042270021, 'implic': 0.1501175042270021, 'avoid': 0.1501175042270021}\n",
            "\n"
          ]
        }
      ],
      "source": [
        "# Function to compute TF-IDF for a document\n",
        "def compute_tfidf(tf_doc, idf_dict):\n",
        "\n",
        "    # Initialize TF-IDF dictionary\n",
        "    tfidf_dict = {}\n",
        "\n",
        "    # TODO\n",
        "    # Multiply TF by corresponding IDF\n",
        "    for word, tf_value in tf_doc.items():\n",
        "        tfidf_dict[word] = tf_value * idf_dict.get(word, 0)  # Multiply TF by corresponding IDF\n",
        "\n",
        "    return tfidf_dict\n",
        "\n",
        "# Compute TF-IDF for each document in the corpus\n",
        "tfidf_corpus = [compute_tfidf(tf, idf_dict) for tf in tf_corpus]\n",
        "\n",
        "# Print TF-IDF values for each document\n",
        "for idx, tfidf in enumerate(tfidf_corpus):\n",
        "    print(f\"TF-IDF for Document {idx+1}: {tfidf}\\n\")\n"
      ]
    },
    {
      "cell_type": "markdown",
      "id": "00d96e40",
      "metadata": {
        "id": "00d96e40"
      },
      "source": [
        "## 2.5 The Implementaion of Information Retrieval System"
      ]
    },
    {
      "cell_type": "markdown",
      "id": "2306f35a",
      "metadata": {
        "id": "2306f35a"
      },
      "source": [
        "### Measuring similarity: cosine similarity"
      ]
    },
    {
      "cell_type": "code",
      "execution_count": null,
      "id": "af4c5181",
      "metadata": {
        "tags": [],
        "id": "af4c5181"
      },
      "outputs": [],
      "source": [
        "# Function to compute cosine similarity between two vectors\n",
        "def cosine_similarity(vec1, vec2):\n",
        "    dot_product = sum(vec1.get(word, 0) * vec2.get(word, 0) for word in vec1)\n",
        "    magnitude1 = math.sqrt(sum([value ** 2 for value in vec1.values()]))\n",
        "    magnitude2 = math.sqrt(sum([value ** 2 for value in vec2.values()]))\n",
        "\n",
        "    if not magnitude1 or not magnitude2:\n",
        "        return 0.0\n",
        "    return dot_product / (magnitude1 * magnitude2)"
      ]
    },
    {
      "cell_type": "markdown",
      "id": "70b21add",
      "metadata": {
        "id": "70b21add"
      },
      "source": [
        "### Rank the documents using cosine similarity"
      ]
    },
    {
      "cell_type": "code",
      "execution_count": null,
      "id": "0779c1f7",
      "metadata": {
        "tags": [],
        "colab": {
          "base_uri": "https://localhost:8080/"
        },
        "id": "0779c1f7",
        "outputId": "e84becac-fc04-43aa-e50c-f715bc300156"
      },
      "outputs": [
        {
          "output_type": "stream",
          "name": "stdout",
          "text": [
            "Document Rankings based on Query:\n",
            "Rank 1: Document 1 with score 0.0\n",
            "Rank 2: Document 2 with score 0.11131520312033671\n",
            "Rank 3: Document 3 with score 0.10476487421443352\n",
            "Rank 4: Document 4 with score 0.0\n",
            "Rank 5: Document 5 with score 0.0\n",
            "Rank 6: Document 6 with score 0.0\n",
            "Rank 7: Document 7 with score 0.0\n",
            "Rank 8: Document 8 with score 0.0\n",
            "Rank 9: Document 9 with score 0.20850879673278558\n",
            "Rank 10: Document 10 with score 0.0\n"
          ]
        }
      ],
      "source": [
        "# Compute TF for the query\n",
        "tf_query = compute_tf(preprocessed_query)\n",
        "\n",
        "# Compute TF-IDF for the query\n",
        "tfidf_query = compute_tfidf(tf_query, idf_dict)\n",
        "\n",
        "# Compute the cosine similarity of each documents to the query\n",
        "rankings = []\n",
        "for idx, tfidf_doc in enumerate(tfidf_corpus):\n",
        "    score = cosine_similarity(tfidf_doc, tfidf_query)\n",
        "    rankings.append((idx + 1, score))\n",
        "\n",
        "# Sort documents by similarity score in descending order\n",
        "rankings_tfidf = sorted(rankings, key=lambda x: x[1], reverse=True)\n",
        "\n",
        "# Print document rankings\n",
        "print(\"Document Rankings based on Query:\")\n",
        "for rank, (doc_idx, score) in enumerate(rankings, start=1):\n",
        "    print(f\"Rank {rank}: Document {doc_idx} with score {score}\")\n"
      ]
    },
    {
      "cell_type": "markdown",
      "id": "716209d8-1197-4daf-891a-def8d48f0f19",
      "metadata": {
        "id": "716209d8-1197-4daf-891a-def8d48f0f19"
      },
      "source": [
        "### Observe the results above and discuss the following:\n",
        "- Are the highly ranked documents relevant to the query?\n",
        "- Why?"
      ]
    },
    {
      "cell_type": "markdown",
      "id": "2e7d2fa2",
      "metadata": {
        "id": "2e7d2fa2"
      },
      "source": [
        "# 3. Vector Space Model: Word2Vec"
      ]
    },
    {
      "cell_type": "markdown",
      "id": "1c969039",
      "metadata": {
        "id": "1c969039"
      },
      "source": [
        "## 3.1 Import Libraries"
      ]
    },
    {
      "cell_type": "code",
      "execution_count": null,
      "id": "80bbdc9d",
      "metadata": {
        "tags": [],
        "id": "80bbdc9d"
      },
      "outputs": [],
      "source": [
        "import numpy as np\n",
        "import gensim.downloader as api\n",
        "from gensim.models import Word2Vec"
      ]
    },
    {
      "cell_type": "markdown",
      "id": "4cb50280",
      "metadata": {
        "id": "4cb50280"
      },
      "source": [
        "## 3.2 Load Pre-trained Word2Vec Model"
      ]
    },
    {
      "cell_type": "code",
      "execution_count": null,
      "id": "f6ac3b19",
      "metadata": {
        "tags": [],
        "colab": {
          "base_uri": "https://localhost:8080/"
        },
        "id": "f6ac3b19",
        "outputId": "452bb292-f3d6-4cb3-ed34-6c437f754c10"
      },
      "outputs": [
        {
          "output_type": "stream",
          "name": "stdout",
          "text": [
            "[==================================================] 100.0% 1662.8/1662.8MB downloaded\n"
          ]
        }
      ],
      "source": [
        "# Load the pre-trained Google News Word2Vec model\n",
        "# This might take a while\n",
        "model = api.load('word2vec-google-news-300')"
      ]
    },
    {
      "cell_type": "markdown",
      "id": "7290df8b-cd95-4078-9274-6b2e2256e0a8",
      "metadata": {
        "id": "7290df8b-cd95-4078-9274-6b2e2256e0a8"
      },
      "source": [
        "### Let's observe a Word2Vec vector"
      ]
    },
    {
      "cell_type": "code",
      "execution_count": null,
      "id": "74f9c375-10cf-4dc5-b8ce-8e3835dd9fe6",
      "metadata": {
        "tags": [],
        "colab": {
          "base_uri": "https://localhost:8080/"
        },
        "id": "74f9c375-10cf-4dc5-b8ce-8e3835dd9fe6",
        "outputId": "c853e073-5a40-4a0e-c0a4-138862b24b58"
      },
      "outputs": [
        {
          "output_type": "execute_result",
          "data": {
            "text/plain": [
              "array([-0.06445312, -0.16015625, -0.01208496,  0.13476562, -0.22949219,\n",
              "        0.16210938,  0.3046875 , -0.1796875 , -0.12109375,  0.25390625,\n",
              "       -0.01428223, -0.06396484, -0.08056641, -0.05688477, -0.19628906,\n",
              "        0.2890625 , -0.05151367,  0.14257812, -0.10498047, -0.04736328,\n",
              "       -0.34765625,  0.35742188,  0.265625  ,  0.00188446, -0.01586914,\n",
              "        0.00195312, -0.35546875,  0.22167969,  0.05761719,  0.15917969,\n",
              "        0.08691406, -0.0267334 , -0.04785156,  0.23925781, -0.05981445,\n",
              "        0.0378418 ,  0.17382812, -0.41796875,  0.2890625 ,  0.32617188,\n",
              "        0.02429199, -0.01647949, -0.06494141, -0.08886719,  0.07666016,\n",
              "       -0.15136719,  0.05249023, -0.04199219, -0.05419922,  0.00108337,\n",
              "       -0.20117188,  0.12304688,  0.09228516,  0.10449219, -0.00408936,\n",
              "       -0.04199219,  0.01409912, -0.02111816, -0.13476562, -0.24316406,\n",
              "        0.16015625, -0.06689453, -0.08984375, -0.07177734, -0.00595093,\n",
              "       -0.00482178, -0.00089264, -0.30664062, -0.0625    ,  0.07958984,\n",
              "       -0.00909424, -0.04492188,  0.09960938, -0.33398438, -0.3984375 ,\n",
              "        0.05541992, -0.06689453, -0.04467773,  0.11767578, -0.13964844,\n",
              "       -0.26367188,  0.17480469, -0.17382812, -0.40625   , -0.06738281,\n",
              "       -0.07617188,  0.09423828,  0.20996094, -0.16308594, -0.08691406,\n",
              "       -0.0534668 , -0.10351562, -0.07617188, -0.11083984, -0.03515625,\n",
              "       -0.14941406,  0.0378418 ,  0.38671875,  0.14160156, -0.2890625 ,\n",
              "       -0.16894531, -0.140625  , -0.04174805,  0.22753906,  0.24023438,\n",
              "       -0.01599121, -0.06787109,  0.21875   , -0.42382812, -0.5625    ,\n",
              "       -0.49414062, -0.3359375 ,  0.13378906,  0.01141357,  0.13671875,\n",
              "        0.0324707 ,  0.06835938, -0.27539062, -0.15917969,  0.00121307,\n",
              "        0.01208496, -0.0039978 ,  0.00442505, -0.04541016,  0.08642578,\n",
              "        0.09960938, -0.04296875, -0.11328125,  0.13867188,  0.41796875,\n",
              "       -0.28320312, -0.07373047, -0.11425781,  0.08691406, -0.02148438,\n",
              "        0.328125  , -0.07373047, -0.01348877,  0.17773438, -0.02624512,\n",
              "        0.13378906, -0.11132812, -0.12792969, -0.12792969,  0.18945312,\n",
              "       -0.13867188,  0.29882812, -0.07714844, -0.37695312, -0.10351562,\n",
              "        0.16992188, -0.10742188, -0.29882812,  0.00866699, -0.27734375,\n",
              "       -0.20996094, -0.1796875 , -0.19628906, -0.22167969,  0.08886719,\n",
              "       -0.27734375, -0.13964844,  0.15917969,  0.03637695,  0.03320312,\n",
              "       -0.08105469,  0.25390625, -0.08691406, -0.21289062, -0.18945312,\n",
              "       -0.22363281,  0.06542969, -0.16601562,  0.08837891, -0.359375  ,\n",
              "       -0.09863281,  0.35546875, -0.00741577,  0.19042969,  0.16992188,\n",
              "       -0.06005859, -0.20605469,  0.08105469,  0.12988281, -0.01135254,\n",
              "        0.33203125, -0.08691406,  0.27539062, -0.03271484,  0.12011719,\n",
              "       -0.0625    ,  0.1953125 , -0.10986328, -0.11767578,  0.20996094,\n",
              "        0.19921875,  0.02954102, -0.16015625,  0.00276184, -0.01367188,\n",
              "        0.03442383, -0.19335938,  0.00352478, -0.06542969, -0.05566406,\n",
              "        0.09423828,  0.29296875,  0.04052734, -0.09326172, -0.10107422,\n",
              "       -0.27539062,  0.04394531, -0.07275391,  0.13867188,  0.02380371,\n",
              "        0.13085938,  0.00236511, -0.2265625 ,  0.34765625,  0.13574219,\n",
              "        0.05224609,  0.18164062,  0.0402832 ,  0.23730469, -0.16992188,\n",
              "        0.10058594,  0.03833008,  0.10839844, -0.05615234, -0.00946045,\n",
              "        0.14550781, -0.30078125, -0.32226562,  0.18847656, -0.40234375,\n",
              "       -0.3125    , -0.08007812, -0.26757812,  0.16699219,  0.07324219,\n",
              "        0.06347656,  0.06591797,  0.17285156, -0.17773438,  0.00276184,\n",
              "       -0.05761719, -0.2265625 , -0.19628906,  0.09667969,  0.13769531,\n",
              "       -0.49414062, -0.27929688,  0.12304688, -0.30078125,  0.01293945,\n",
              "       -0.1875    , -0.20898438, -0.1796875 , -0.16015625, -0.03295898,\n",
              "        0.00976562,  0.25390625, -0.25195312,  0.00210571,  0.04296875,\n",
              "        0.01184082, -0.20605469,  0.24804688, -0.203125  , -0.17773438,\n",
              "        0.07275391,  0.04541016,  0.21679688, -0.2109375 ,  0.14550781,\n",
              "       -0.16210938,  0.20410156, -0.19628906, -0.35742188,  0.35742188,\n",
              "       -0.11962891,  0.35742188,  0.10351562,  0.07080078, -0.24707031,\n",
              "       -0.10449219, -0.19238281,  0.1484375 ,  0.00057983,  0.296875  ,\n",
              "       -0.12695312, -0.03979492,  0.13183594, -0.16601562,  0.125     ,\n",
              "        0.05126953, -0.14941406,  0.13671875, -0.02075195,  0.34375   ],\n",
              "      dtype=float32)"
            ]
          },
          "metadata": {},
          "execution_count": 25
        }
      ],
      "source": [
        "model['apple']"
      ]
    },
    {
      "cell_type": "markdown",
      "id": "cbe8f96c-27ce-49c9-9264-1c97f26f0706",
      "metadata": {
        "id": "cbe8f96c-27ce-49c9-9264-1c97f26f0706"
      },
      "source": [
        "### Observe the results above and discuss the following:\n",
        "- What is the data type of this vector?\n",
        "- What is the dimensionality?"
      ]
    },
    {
      "cell_type": "markdown",
      "id": "dd8907ef-3d24-414d-aa18-3a0ec0f65552",
      "metadata": {
        "id": "dd8907ef-3d24-414d-aa18-3a0ec0f65552"
      },
      "source": [
        "### Finding analogies using Word2Vec"
      ]
    },
    {
      "cell_type": "code",
      "execution_count": null,
      "id": "9d2fec01-8c35-48e5-b30d-22ad8bb1146a",
      "metadata": {
        "tags": [],
        "colab": {
          "base_uri": "https://localhost:8080/"
        },
        "id": "9d2fec01-8c35-48e5-b30d-22ad8bb1146a",
        "outputId": "3ae2d21a-c3ba-4d46-da26-cbb9f5a2787c"
      },
      "outputs": [
        {
          "output_type": "execute_result",
          "data": {
            "text/plain": [
              "[('apples', 0.720359742641449),\n",
              " ('pear', 0.6450697183609009),\n",
              " ('fruit', 0.6410146355628967),\n",
              " ('berry', 0.6302295327186584),\n",
              " ('pears', 0.613396167755127),\n",
              " ('strawberry', 0.6058260798454285),\n",
              " ('peach', 0.6025872826576233),\n",
              " ('potato', 0.5960935354232788),\n",
              " ('grape', 0.5935863852500916),\n",
              " ('blueberry', 0.5866668224334717)]"
            ]
          },
          "metadata": {},
          "execution_count": 26
        }
      ],
      "source": [
        "model.most_similar(\"apple\")"
      ]
    },
    {
      "cell_type": "code",
      "execution_count": null,
      "id": "23ec66fe-f37a-405b-bac3-a887d3987e60",
      "metadata": {
        "tags": [],
        "colab": {
          "base_uri": "https://localhost:8080/"
        },
        "id": "23ec66fe-f37a-405b-bac3-a887d3987e60",
        "outputId": "0997ba87-46ab-491d-872e-ed8db2d4c2b4"
      },
      "outputs": [
        {
          "output_type": "execute_result",
          "data": {
            "text/plain": [
              "[('Apple_AAPL', 0.7456986308097839),\n",
              " ('Apple_Nasdaq_AAPL', 0.7300410270690918),\n",
              " ('Apple_NASDAQ_AAPL', 0.717508852481842),\n",
              " ('Apple_Computer', 0.7145972847938538),\n",
              " ('iPhone', 0.6924266219139099),\n",
              " ('Apple_NSDQ_AAPL', 0.6868603229522705),\n",
              " ('Steve_Jobs', 0.6758421659469604),\n",
              " ('iPad', 0.6580768823623657),\n",
              " ('Apple_nasdaq_AAPL', 0.6444970369338989),\n",
              " ('AAPL_PriceWatch_Alert', 0.6439753174781799)]"
            ]
          },
          "metadata": {},
          "execution_count": 27
        }
      ],
      "source": [
        "model.most_similar(\"Apple\")"
      ]
    },
    {
      "cell_type": "code",
      "execution_count": null,
      "id": "923cc06a-89bf-4edb-b36b-24438da99a51",
      "metadata": {
        "tags": [],
        "colab": {
          "base_uri": "https://localhost:8080/"
        },
        "id": "923cc06a-89bf-4edb-b36b-24438da99a51",
        "outputId": "18db8f2e-4a3e-467d-befc-bcc21ff41462"
      },
      "outputs": [
        {
          "output_type": "execute_result",
          "data": {
            "text/plain": [
              "[('Microsoft', 0.457754522562027),\n",
              " ('Steve_Ballmer', 0.42643362283706665),\n",
              " ('Robert_Gates', 0.40924885869026184),\n",
              " ('Ballmer', 0.40724438428878784),\n",
              " ('Mullen', 0.4004097878932953),\n",
              " ('Chief_Executive_Steve_Ballmer', 0.3993479311466217),\n",
              " ('BlackBerry_maker', 0.39889541268348694),\n",
              " ('Apple_Nasdaq_AAPL', 0.39581313729286194),\n",
              " ('REDMOND_Wash._Microsoft', 0.3908952474594116),\n",
              " ('McAfee', 0.38951441645622253)]"
            ]
          },
          "metadata": {},
          "execution_count": 28
        }
      ],
      "source": [
        "model.most_similar(positive=['Gates', 'Apple'], negative=['Jobs'])"
      ]
    },
    {
      "cell_type": "markdown",
      "id": "68db33da-9360-4962-9572-cfac6d4339b9",
      "metadata": {
        "id": "68db33da-9360-4962-9572-cfac6d4339b9"
      },
      "source": [
        "## 3.3 Compute Word2Vec Embeddings"
      ]
    },
    {
      "cell_type": "code",
      "execution_count": null,
      "id": "c90e2df9",
      "metadata": {
        "tags": [],
        "id": "c90e2df9"
      },
      "outputs": [],
      "source": [
        "# Notice here we only tokenize and lowercase the tokens:\n",
        "tokens = [word_tokenize(doc.lower()) for doc in corpus]\n",
        "query_tokens = word_tokenize(query.lower())\n",
        "\n",
        "# Function to compute the average word vector for a document or query\n",
        "def compute_avg_vector(words, model):\n",
        "    vectors = [model[word] for word in words if word in model]\n",
        "    if len(vectors) > 0:\n",
        "        return np.mean(vectors, axis=0)\n",
        "    else:\n",
        "        return np.zeros(model.vector_size)  # Return zero vector if no word in model\n",
        "\n",
        "# Compute average word vectors for each document\n",
        "doc_vectors = [compute_avg_vector(doc, model) for doc in tokens]\n",
        "\n",
        "# Compute average word vector for the query\n",
        "query_vector = compute_avg_vector(query_tokens, model)"
      ]
    },
    {
      "cell_type": "markdown",
      "id": "099abfd5-768c-454b-996a-31de2d13e150",
      "metadata": {
        "id": "099abfd5-768c-454b-996a-31de2d13e150"
      },
      "source": [
        "## 3.4 The Implementaion of Information Retrieval System"
      ]
    },
    {
      "cell_type": "markdown",
      "id": "e02991a5-6595-45c2-ac42-80290749ee68",
      "metadata": {
        "tags": [],
        "id": "e02991a5-6595-45c2-ac42-80290749ee68"
      },
      "source": [
        "### Measuring similarity: cosine similarity"
      ]
    },
    {
      "cell_type": "code",
      "execution_count": null,
      "id": "1d17ff6b-5234-4c22-83af-98cd3ba5cad9",
      "metadata": {
        "tags": [],
        "id": "1d17ff6b-5234-4c22-83af-98cd3ba5cad9"
      },
      "outputs": [],
      "source": [
        "def cosine_similarity(vec1, vec2):\n",
        "    dot_product = np.dot(vec1, vec2)\n",
        "    magnitude1 = np.linalg.norm(vec1)\n",
        "    magnitude2 = np.linalg.norm(vec2)\n",
        "\n",
        "    if magnitude1 == 0 or magnitude2 == 0:\n",
        "        return 0  # Avoid division by zero\n",
        "    return dot_product / (magnitude1 * magnitude2)"
      ]
    },
    {
      "cell_type": "markdown",
      "id": "1b060db3-c084-4524-a1e1-9f735f745862",
      "metadata": {
        "id": "1b060db3-c084-4524-a1e1-9f735f745862"
      },
      "source": [
        "### ✏️ Rank the documents using cosine similarity"
      ]
    },
    {
      "cell_type": "code",
      "execution_count": null,
      "id": "6c0b54d0",
      "metadata": {
        "tags": [],
        "colab": {
          "base_uri": "https://localhost:8080/"
        },
        "id": "6c0b54d0",
        "outputId": "06271692-31b9-4650-be46-c4ce49a30455"
      },
      "outputs": [
        {
          "output_type": "stream",
          "name": "stdout",
          "text": [
            "Document Rankings based on Query:\n",
            "Rank 1: Document 1 with score 0.08538194000720978\n",
            "Rank 2: Document 2 with score 0.18398791551589966\n",
            "Rank 3: Document 3 with score 0.06317424029111862\n",
            "Rank 4: Document 4 with score 0.10431124269962311\n",
            "Rank 5: Document 5 with score 0.21063056588172913\n",
            "Rank 6: Document 6 with score 0.12987695634365082\n",
            "Rank 7: Document 7 with score 0.11967609822750092\n",
            "Rank 8: Document 8 with score 0.02246974967420101\n",
            "Rank 9: Document 9 with score 0.2207733690738678\n",
            "Rank 10: Document 10 with score 0.059812527149915695\n"
          ]
        }
      ],
      "source": [
        "# TODO\n",
        "# Rank documents based on similarity to the query\n",
        "rankings = []\n",
        "for idx, doc_vector in enumerate(doc_vectors):\n",
        "    score = cosine_similarity(doc_vector, query_vector)\n",
        "    rankings.append((idx + 1, score))\n",
        "\n",
        "# TODO\n",
        "# Sort documents by similarity score in descending order\n",
        "rankings_word2vec = sorted(rankings, key=lambda x: x[1], reverse=True)\n",
        "\n",
        "# Print document rankings\n",
        "print(\"Document Rankings based on Query:\")\n",
        "for rank, (doc_idx, score) in enumerate(rankings, start=1):\n",
        "    print(f\"Rank {rank}: Document {doc_idx} with score {score}\")"
      ]
    },
    {
      "cell_type": "markdown",
      "id": "9f8fe449-63c4-4c6e-906d-410df096d098",
      "metadata": {
        "id": "9f8fe449-63c4-4c6e-906d-410df096d098"
      },
      "source": [
        "### Observe the results above and discuss the following:\n",
        "- How are the results using Word2Vec different from those using TF-IDF?"
      ]
    },
    {
      "cell_type": "markdown",
      "id": "417282dc-3699-4371-9eef-8add77f031ff",
      "metadata": {
        "id": "417282dc-3699-4371-9eef-8add77f031ff"
      },
      "source": [
        "### How about we learn our own word2vec model with the corpus?"
      ]
    },
    {
      "cell_type": "markdown",
      "id": "9bc8fe76-697d-4de8-81bf-8c57473843f4",
      "metadata": {
        "id": "9bc8fe76-697d-4de8-81bf-8c57473843f4"
      },
      "source": [
        "## 3.5 Train Word2Vec Model from Scratch"
      ]
    },
    {
      "cell_type": "code",
      "execution_count": null,
      "id": "aa51ff04-f8bb-4aac-a7e1-58e986a34bb3",
      "metadata": {
        "tags": [],
        "id": "aa51ff04-f8bb-4aac-a7e1-58e986a34bb3"
      },
      "outputs": [],
      "source": [
        "# Train Word2Vec on the corpus\n",
        "model_corpus = Word2Vec(sentences=tokens, vector_size=100, window=5, min_count=1, workers=4)"
      ]
    },
    {
      "cell_type": "code",
      "execution_count": null,
      "id": "46432dde-4e00-44b3-a6c1-02bec6b9b567",
      "metadata": {
        "tags": [],
        "id": "46432dde-4e00-44b3-a6c1-02bec6b9b567"
      },
      "outputs": [],
      "source": [
        "# Function to compute the average word vector for a document or query\n",
        "def compute_avg_vector(words, model):\n",
        "    vectors = [model.wv[word] for word in words if word in model.wv]\n",
        "    if len(vectors) > 0:\n",
        "        return np.mean(vectors, axis=0)\n",
        "    else:\n",
        "        return np.zeros(model.vector_size)  # Return zero vector if no word in model\n",
        "\n",
        "# Compute average word vectors for each document\n",
        "doc_vectors = [compute_avg_vector(doc, model_corpus) for doc in tokens]\n",
        "\n",
        "# Compute average word vector for the query\n",
        "query_vector = compute_avg_vector(query_tokens, model_corpus)\n"
      ]
    },
    {
      "cell_type": "code",
      "execution_count": null,
      "id": "1d4883ff-a8f6-4f98-b2c1-680ee0415359",
      "metadata": {
        "tags": [],
        "colab": {
          "base_uri": "https://localhost:8080/"
        },
        "id": "1d4883ff-a8f6-4f98-b2c1-680ee0415359",
        "outputId": "bfdf742c-f76e-4482-bec7-a3376827861a"
      },
      "outputs": [
        {
          "output_type": "stream",
          "name": "stdout",
          "text": [
            "Document Rankings based on Query:\n",
            "Rank 1: Document 1 with score 0.08538194000720978\n",
            "Rank 2: Document 2 with score 0.18398791551589966\n",
            "Rank 3: Document 3 with score 0.06317424029111862\n",
            "Rank 4: Document 4 with score 0.10431124269962311\n",
            "Rank 5: Document 5 with score 0.21063056588172913\n",
            "Rank 6: Document 6 with score 0.12987695634365082\n",
            "Rank 7: Document 7 with score 0.11967609822750092\n",
            "Rank 8: Document 8 with score 0.02246974967420101\n",
            "Rank 9: Document 9 with score 0.2207733690738678\n",
            "Rank 10: Document 10 with score 0.059812527149915695\n"
          ]
        }
      ],
      "source": [
        "def cosine_similarity(vec1, vec2):\n",
        "    dot_product = np.dot(vec1, vec2)\n",
        "    magnitude1 = np.linalg.norm(vec1)\n",
        "    magnitude2 = np.linalg.norm(vec2)\n",
        "\n",
        "    if magnitude1 == 0 or magnitude2 == 0:\n",
        "        return 0  # Avoid division by zero\n",
        "    return dot_product / (magnitude1 * magnitude2)\n",
        "\n",
        "# Rank documents based on similarity to the query\n",
        "rankings = []\n",
        "for idx, doc_vector in enumerate(doc_vectors):\n",
        "    score = cosine_similarity(doc_vector, query_vector)\n",
        "    rankings.append((idx + 1, score))\n",
        "\n",
        "# Sort documents by similarity score in descending order\n",
        "rankings_trainword2vec = sorted(rankings, key=lambda x: x[1], reverse=True)\n",
        "\n",
        "# Print document rankings\n",
        "print(\"Document Rankings based on Query:\")\n",
        "for rank, (doc_idx, score) in enumerate(rankings, start=1):\n",
        "    print(f\"Rank {rank}: Document {doc_idx} with score {score}\")"
      ]
    },
    {
      "cell_type": "markdown",
      "id": "8dc1fab1-80a6-4c82-abb5-90b664f9b78b",
      "metadata": {
        "jp-MarkdownHeadingCollapsed": true,
        "tags": [],
        "id": "8dc1fab1-80a6-4c82-abb5-90b664f9b78b"
      },
      "source": [
        "### Observe the results above and discuss the following:\n",
        "- How are the results using self-trained Word2Vec different from those using pre-trained Word2Vec?"
      ]
    },
    {
      "cell_type": "markdown",
      "id": "172430c1-cfc7-4857-b73e-046a0ff62b58",
      "metadata": {
        "tags": [],
        "id": "172430c1-cfc7-4857-b73e-046a0ff62b58"
      },
      "source": [
        "# 4. Vector Space Model: BERT\n",
        "This is not how a BERT model is normally used, but we can see how contextualized embeddings are helpful in matching queries and documents beyond just words."
      ]
    },
    {
      "cell_type": "markdown",
      "id": "a5be2c3d-d3ec-42c5-8d05-158d70e20d6e",
      "metadata": {
        "id": "a5be2c3d-d3ec-42c5-8d05-158d70e20d6e"
      },
      "source": [
        "## 4.1 Import Libraries"
      ]
    },
    {
      "cell_type": "code",
      "execution_count": null,
      "id": "79a51e70-21d0-4ac7-bb4d-c5f9ae8a5b1e",
      "metadata": {
        "id": "79a51e70-21d0-4ac7-bb4d-c5f9ae8a5b1e"
      },
      "outputs": [],
      "source": [
        "import torch\n",
        "from transformers import BertTokenizer, BertModel"
      ]
    },
    {
      "cell_type": "markdown",
      "id": "81bdb588-c151-4742-8c7c-c6c483b0c5f6",
      "metadata": {
        "id": "81bdb588-c151-4742-8c7c-c6c483b0c5f6"
      },
      "source": [
        "## 4.2 Load Pre-trained BERT Model"
      ]
    },
    {
      "cell_type": "code",
      "execution_count": null,
      "id": "61244e77-b91a-49af-badf-e2396e44f375",
      "metadata": {
        "tags": [],
        "colab": {
          "base_uri": "https://localhost:8080/",
          "height": 336,
          "referenced_widgets": [
            "dad4d67ccff1476aa68e81744da2ac82",
            "f075f330eb4a4fee9639e2c70ba2d016",
            "6bdcde44982d4f19ac7c5d171fd58fec",
            "7c839d98978c4a9d95f4666b7ae56b5f",
            "2337bc9912604535a51a7310f213b4e0",
            "67452afa2f3a4225b56b93d93b4407bd",
            "56d3d6fb0a124a85b8e9fe6a16fd28a6",
            "7a9e839ac8af48c69ae4197040473cbb",
            "319fc893bb7945b8abb13651bae11f9a",
            "9138375cd34e407eab579bd24e8cb673",
            "9244faa54f03456b8adc4a860022d157",
            "82e32450cc634ef791c8b59e05c3e099",
            "d39cc793f8a94a1f89b2fbe5f7cb24fd",
            "eb3cea2557b547d8afdfd6cc2fbb1373",
            "ddf733c030604cf38f46984e7907235f",
            "f794967c97dd47fea9ce5e4fd49ab1c6",
            "85fc19516c5e48ef9d39b1fa04cd7c92",
            "8abab5c31f674264a80826e876951c2e",
            "a4695480d2b0401d8293f52f4f3f7ebd",
            "dd34fbc8b3da4f5991d66b17fde38b42",
            "b10f64084fe543dfa9e7994b5b9bf6d3",
            "6c7185738b0248a085fff12d3665f734",
            "2e3e0d74dd404f16a674d0152ffc41da",
            "5219677f732a4b75b4df66844401d24a",
            "d886a6f494bf4688a97a47e5733afee3",
            "2ac3342fdc9d47759ba10eee6d4f31ab",
            "bcfb7b2e67a5408492d3fea0110e48e3",
            "5749344b81a140359ec43bb917d594f9",
            "486e7600d5d94d08a246472276809cc8",
            "f7c0819d3d4c47fcbb2f4de0bd77a463",
            "82b83b39098e4e19a867e4eb67791939",
            "2da22409467a40b8891206b5f27d367a",
            "040ed605c0c744c7a2031e615ed382eb",
            "d625f68d5ad64e7e86c73be996f7cc71",
            "b9f7c37ab10c4a9d9e61667818a841aa",
            "9a1035e9322b457a92fad1389f937b28",
            "356507271a4848d8b1943a4148d62035",
            "747d2b04d42d481488fb482c43d75c9d",
            "6646bca992b543aa9a19c8930fb579dc",
            "e6980eb8a2e3465bbd1c9aedeae2a608",
            "fbffb6e41f694c60a2ae70ba9030ba28",
            "6dfd2daa68e34cf1a5a83e779e99878f",
            "ea2dc541740a457d8254ace921b787d5",
            "33a28a72249c44219312197c5dae9447",
            "0b15ec74350947b58bfe176191e3b57e",
            "6f0956f8ea0a448f96ef069a6c313fe4",
            "8a699e82606848a0879ad1d0d547cb68",
            "6e88d5dba2f046f59fd9c8891d0bb380",
            "b12c1f3b0c34473197b3292834c6b86a",
            "ba3b08b96e134a43a22abdae23479de4",
            "f4a25d5fd3814c76b6954d5f3c9544da",
            "0aa7cd0f6f344c32a105350f26c86f3f",
            "3a0af720fbf8499c9dd547eb1816d79c",
            "c8b2818eb2424312aa363ce58107479f",
            "f41433bc257c41638808e97ba92690ca"
          ]
        },
        "id": "61244e77-b91a-49af-badf-e2396e44f375",
        "outputId": "e2494c36-ab72-4de4-dc49-85ad81cd1ad4"
      },
      "outputs": [
        {
          "output_type": "stream",
          "name": "stderr",
          "text": [
            "/usr/local/lib/python3.10/dist-packages/huggingface_hub/utils/_token.py:89: UserWarning: \n",
            "The secret `HF_TOKEN` does not exist in your Colab secrets.\n",
            "To authenticate with the Hugging Face Hub, create a token in your settings tab (https://huggingface.co/settings/tokens), set it as secret in your Google Colab and restart your session.\n",
            "You will be able to reuse this secret in all of your notebooks.\n",
            "Please note that authentication is recommended but still optional to access public models or datasets.\n",
            "  warnings.warn(\n"
          ]
        },
        {
          "output_type": "display_data",
          "data": {
            "text/plain": [
              "tokenizer_config.json:   0%|          | 0.00/48.0 [00:00<?, ?B/s]"
            ],
            "application/vnd.jupyter.widget-view+json": {
              "version_major": 2,
              "version_minor": 0,
              "model_id": "dad4d67ccff1476aa68e81744da2ac82"
            }
          },
          "metadata": {}
        },
        {
          "output_type": "display_data",
          "data": {
            "text/plain": [
              "vocab.txt:   0%|          | 0.00/232k [00:00<?, ?B/s]"
            ],
            "application/vnd.jupyter.widget-view+json": {
              "version_major": 2,
              "version_minor": 0,
              "model_id": "82e32450cc634ef791c8b59e05c3e099"
            }
          },
          "metadata": {}
        },
        {
          "output_type": "display_data",
          "data": {
            "text/plain": [
              "tokenizer.json:   0%|          | 0.00/466k [00:00<?, ?B/s]"
            ],
            "application/vnd.jupyter.widget-view+json": {
              "version_major": 2,
              "version_minor": 0,
              "model_id": "2e3e0d74dd404f16a674d0152ffc41da"
            }
          },
          "metadata": {}
        },
        {
          "output_type": "display_data",
          "data": {
            "text/plain": [
              "config.json:   0%|          | 0.00/570 [00:00<?, ?B/s]"
            ],
            "application/vnd.jupyter.widget-view+json": {
              "version_major": 2,
              "version_minor": 0,
              "model_id": "d625f68d5ad64e7e86c73be996f7cc71"
            }
          },
          "metadata": {}
        },
        {
          "output_type": "stream",
          "name": "stderr",
          "text": [
            "/usr/local/lib/python3.10/dist-packages/transformers/tokenization_utils_base.py:1601: FutureWarning: `clean_up_tokenization_spaces` was not set. It will be set to `True` by default. This behavior will be depracted in transformers v4.45, and will be then set to `False` by default. For more details check this issue: https://github.com/huggingface/transformers/issues/31884\n",
            "  warnings.warn(\n"
          ]
        },
        {
          "output_type": "display_data",
          "data": {
            "text/plain": [
              "model.safetensors:   0%|          | 0.00/440M [00:00<?, ?B/s]"
            ],
            "application/vnd.jupyter.widget-view+json": {
              "version_major": 2,
              "version_minor": 0,
              "model_id": "0b15ec74350947b58bfe176191e3b57e"
            }
          },
          "metadata": {}
        }
      ],
      "source": [
        "# Load pre-trained BERT model and tokenizer\n",
        "tokenizer = BertTokenizer.from_pretrained('bert-base-uncased')\n",
        "model_bert = BertModel.from_pretrained('bert-base-uncased')\n",
        "\n",
        "# Function to generate BERT embeddings for a given text\n",
        "def get_bert_embedding(text):\n",
        "    inputs = tokenizer(text, return_tensors='pt', padding=True, truncation=True, max_length=512)\n",
        "    with torch.no_grad():\n",
        "        outputs = model_bert(**inputs)\n",
        "    # The [CLS] token embedding is typically used as the sentence representation\n",
        "    return outputs.last_hidden_state[:, 0, :]  # Return the embedding for the [CLS] token"
      ]
    },
    {
      "cell_type": "markdown",
      "id": "29123a13-d710-4e79-bbf2-e704f81f0db5",
      "metadata": {
        "id": "29123a13-d710-4e79-bbf2-e704f81f0db5"
      },
      "source": [
        "## 4.3 Compute BERT Embeddings"
      ]
    },
    {
      "cell_type": "code",
      "execution_count": null,
      "id": "7418ceb4-412b-4f8e-94bd-66ee314e2766",
      "metadata": {
        "tags": [],
        "id": "7418ceb4-412b-4f8e-94bd-66ee314e2766"
      },
      "outputs": [],
      "source": [
        "# Compute BERT embeddings for the query\n",
        "query_embedding = get_bert_embedding(query)\n",
        "\n",
        "# Compute BERT embeddings for each document in the corpus\n",
        "corpus_embeddings = [get_bert_embedding(doc) for doc in corpus]"
      ]
    },
    {
      "cell_type": "markdown",
      "id": "7d3cd6f0-f535-4349-ae55-dc7038fbefa7",
      "metadata": {
        "id": "7d3cd6f0-f535-4349-ae55-dc7038fbefa7"
      },
      "source": [
        "## 4.4 The Implementaion of Information Retrieval System"
      ]
    },
    {
      "cell_type": "markdown",
      "id": "a879879f-40d7-4657-ba07-d6d022ce78b1",
      "metadata": {
        "id": "a879879f-40d7-4657-ba07-d6d022ce78b1"
      },
      "source": [
        "### Measuring similarity: cosine similarity"
      ]
    },
    {
      "cell_type": "code",
      "execution_count": null,
      "id": "35665c91-5f13-4073-b800-edc0304e2c4b",
      "metadata": {
        "tags": [],
        "id": "35665c91-5f13-4073-b800-edc0304e2c4b"
      },
      "outputs": [],
      "source": [
        "# Function to compute cosine similarity between two vectors\n",
        "def cosine_similarity(vec1, vec2):\n",
        "    vec1 = vec1.numpy()\n",
        "    vec2 = vec2.numpy()\n",
        "    dot_product = np.dot(vec1, vec2.T)\n",
        "    norm1 = np.linalg.norm(vec1)\n",
        "    norm2 = np.linalg.norm(vec2)\n",
        "\n",
        "    if norm1 == 0 or norm2 == 0:\n",
        "        return 0.0\n",
        "    return dot_product / (norm1 * norm2)"
      ]
    },
    {
      "cell_type": "markdown",
      "id": "0f13b45b-d635-4db5-a8f5-80c9ea0b80ba",
      "metadata": {
        "id": "0f13b45b-d635-4db5-a8f5-80c9ea0b80ba"
      },
      "source": [
        "### Rank the documents using cosine similarity"
      ]
    },
    {
      "cell_type": "code",
      "execution_count": null,
      "id": "aa483b8d-66c8-462f-ae6b-46aa4c39fc6a",
      "metadata": {
        "tags": [],
        "colab": {
          "base_uri": "https://localhost:8080/"
        },
        "id": "aa483b8d-66c8-462f-ae6b-46aa4c39fc6a",
        "outputId": "95c45f60-3832-4bb3-82ee-0d8882408bfd"
      },
      "outputs": [
        {
          "output_type": "stream",
          "name": "stdout",
          "text": [
            "Document Rankings based on BERT embeddings:\n",
            "Rank 1: Document 2 with score 0.8103365302085876\n",
            "Rank 2: Document 6 with score 0.7880857586860657\n",
            "Rank 3: Document 5 with score 0.7864925861358643\n",
            "Rank 4: Document 3 with score 0.7857746481895447\n",
            "Rank 5: Document 1 with score 0.7844794988632202\n",
            "Rank 6: Document 10 with score 0.775418758392334\n",
            "Rank 7: Document 7 with score 0.7519571781158447\n",
            "Rank 8: Document 8 with score 0.7409092783927917\n",
            "Rank 9: Document 4 with score 0.7397838234901428\n",
            "Rank 10: Document 9 with score 0.7047690153121948\n"
          ]
        }
      ],
      "source": [
        "# Rank documents based on similarity to the query\n",
        "rankings_bert = []\n",
        "for idx, doc_embedding in enumerate(corpus_embeddings):\n",
        "    score = cosine_similarity(query_embedding[0], doc_embedding[0])\n",
        "    rankings_bert.append((idx + 1, score))\n",
        "\n",
        "# Sort documents by similarity score in descending order\n",
        "rankings_bert = sorted(rankings, key=lambda x: x[1], reverse=True)\n",
        "\n",
        "# Print document rankings\n",
        "print(\"Document Rankings based on BERT embeddings:\")\n",
        "for rank, (doc_idx, score) in enumerate(rankings_bert, start=1):\n",
        "    print(f\"Rank {rank}: Document {doc_idx} with score {score}\")"
      ]
    },
    {
      "cell_type": "markdown",
      "id": "ae9989f0-7148-4ba2-b804-2e5dbac0fbaf",
      "metadata": {
        "id": "ae9989f0-7148-4ba2-b804-2e5dbac0fbaf"
      },
      "source": [
        "### Observe the results above and discuss the following:\n",
        "- How are the results using contextualized word embeddings (BERT) different from those using Word2Vec?"
      ]
    },
    {
      "cell_type": "markdown",
      "id": "a036dbdc",
      "metadata": {
        "id": "a036dbdc"
      },
      "source": [
        "# Assignment 1"
      ]
    },
    {
      "cell_type": "markdown",
      "id": "0d5acd23-0d29-4c39-8cd8-29dcebea5d89",
      "metadata": {
        "id": "0d5acd23-0d29-4c39-8cd8-29dcebea5d89"
      },
      "source": [
        "## Part 1: Implement Bigram TF-IDF\n",
        "Using the same query and corpus, implement your own information retrival system base on bigram TF-IDF."
      ]
    },
    {
      "cell_type": "code",
      "execution_count": null,
      "id": "2d4e6a70",
      "metadata": {
        "colab": {
          "base_uri": "https://localhost:8080/"
        },
        "id": "2d4e6a70",
        "outputId": "d8e344cc-70bc-4d6c-9d62-7f87fc4e8045"
      },
      "outputs": [
        {
          "output_type": "stream",
          "name": "stdout",
          "text": [
            "\n",
            "Term Frequency (TF) for each document:\n",
            "Document 1 TF: {('sleepless', 'night'): 0.041666666666666664, ('night', 'lab'): 0.041666666666666664, ('lab', 'become'): 0.041666666666666664, ('become', 'new'): 0.041666666666666664, ('new', 'normal'): 0.041666666666666664, ('normal', 'tried'): 0.041666666666666664, ('tried', 'fix'): 0.041666666666666664, ('fix', 'experiment'): 0.041666666666666664, ('experiment', 'setup'): 0.041666666666666664, ('setup', 'apparatus'): 0.041666666666666664, ('apparatus', 'seems'): 0.041666666666666664, ('seems', 'mind'): 0.041666666666666664, ('mind', 'advisor'): 0.041666666666666664, ('advisor', 'say'): 0.041666666666666664, ('say', 'result'): 0.041666666666666664, ('result', 'around'): 0.041666666666666664, ('around', 'corner'): 0.041666666666666664, ('corner', 'corner'): 0.041666666666666664, ('corner', 'keep'): 0.041666666666666664, ('keep', 'moving'): 0.041666666666666664, ('moving', 'coffee'): 0.041666666666666664, ('coffee', 'true'): 0.041666666666666664, ('true', 'companion'): 0.041666666666666664, ('companion', 'day'): 0.041666666666666664}\n",
            "Document 2 TF: {('thought', 'grad'): 0.03333333333333333, ('grad', 'school'): 0.03333333333333333, ('school', 'would'): 0.03333333333333333, ('would', 'intellectually'): 0.03333333333333333, ('intellectually', 'stimulating'): 0.03333333333333333, ('stimulating', \"'s\"): 0.03333333333333333, (\"'s\", 'mostly'): 0.03333333333333333, ('mostly', 'paperwork'): 0.03333333333333333, ('paperwork', 'waiting'): 0.03333333333333333, ('waiting', 'email'): 0.03333333333333333, ('email', 'departmental'): 0.03333333333333333, ('departmental', 'printer'): 0.03333333333333333, ('printer', 'jammed'): 0.03333333333333333, ('jammed', \"'m\"): 0.03333333333333333, (\"'m\", 'late'): 0.03333333333333333, ('late', 'meeting'): 0.03333333333333333, ('meeting', 'cafeteria'): 0.03333333333333333, ('cafeteria', 'ran'): 0.03333333333333333, ('ran', 'good'): 0.03333333333333333, ('good', 'snack'): 0.03333333333333333, ('snack', \"'m\"): 0.03333333333333333, (\"'m\", 'surviving'): 0.03333333333333333, ('surviving', 'vending'): 0.03333333333333333, ('vending', 'machine'): 0.03333333333333333, ('machine', 'chip'): 0.03333333333333333, ('chip', 'sleep'): 0.03333333333333333, ('sleep', 'become'): 0.03333333333333333, ('become', 'luxury'): 0.03333333333333333, ('luxury', 'longer'): 0.03333333333333333, ('longer', 'afford'): 0.03333333333333333}\n",
            "Document 3 TF: {('writing', 'dissertation'): 0.03225806451612903, ('dissertation', 'feel'): 0.03225806451612903, ('feel', 'like'): 0.03225806451612903, ('like', 'climbing'): 0.03225806451612903, ('climbing', 'endless'): 0.03225806451612903, ('endless', 'mountain'): 0.03225806451612903, ('mountain', 'every'): 0.03225806451612903, ('every', 'time'): 0.03225806451612903, ('time', 'finish'): 0.03225806451612903, ('finish', 'chapter'): 0.03225806451612903, ('chapter', 'supervisor'): 0.03225806451612903, ('supervisor', 'suggests'): 0.03225806451612903, ('suggests', 'new'): 0.03225806451612903, ('new', 'revision'): 0.03225806451612903, ('revision', 'impostor'): 0.03225806451612903, ('impostor', 'syndrome'): 0.03225806451612903, ('syndrome', 'real'): 0.03225806451612903, ('real', 'wonder'): 0.03225806451612903, ('wonder', 'made'): 0.03225806451612903, ('made', 'mistake'): 0.03225806451612903, ('mistake', 'accepting'): 0.03225806451612903, ('accepting', 'maybe'): 0.03225806451612903, ('maybe', 'gone'): 0.03225806451612903, ('gone', 'clown'): 0.03225806451612903, ('clown', 'college'): 0.03225806451612903, ('college', 'instead'): 0.03225806451612903, ('instead', 'utterly'): 0.03225806451612903, ('utterly', 'deprived'): 0.03225806451612903, ('deprived', 'semblance'): 0.03225806451612903, ('semblance', 'normal'): 0.03225806451612903, ('normal', 'life'): 0.03225806451612903}\n",
            "Document 4 TF: {('research', 'data'): 0.041666666666666664, ('data', 'got'): 0.041666666666666664, ('got', 'corrupted'): 0.041666666666666664, ('corrupted', 'start'): 0.041666666666666664, ('start', 'lab'): 0.041666666666666664, ('lab', 'mouse'): 0.041666666666666664, ('mouse', 'escaped'): 0.041666666666666664, ('escaped', 'spent'): 0.041666666666666664, ('spent', 'hour'): 0.041666666666666664, ('hour', 'trying'): 0.041666666666666664, ('trying', 'find'): 0.041666666666666664, ('find', 'grant'): 0.041666666666666664, ('grant', 'proposal'): 0.041666666666666664, ('proposal', 'deadline'): 0.041666666666666664, ('deadline', 'tomorrow'): 0.041666666666666664, ('tomorrow', 'online'): 0.041666666666666664, ('online', 'submission'): 0.041666666666666664, ('submission', 'portal'): 0.041666666666666664, ('portal', 'least'): 0.041666666666666664, ('least', 'pet'): 0.041666666666666664, ('pet', 'cactus'): 0.041666666666666664, ('cactus', \"n't\"): 0.041666666666666664, (\"n't\", 'died'): 0.041666666666666664, ('died', 'yet'): 0.041666666666666664}\n",
            "Document 5 TF: {('group', 'meeting'): 0.041666666666666664, ('meeting', 'turned'): 0.041666666666666664, ('turned', 'three-hour'): 0.041666666666666664, ('three-hour', 'debate'): 0.041666666666666664, ('debate', 'font'): 0.041666666666666664, ('font', 'choice'): 0.041666666666666664, ('choice', 'presentation'): 0.041666666666666664, ('presentation', \"'m\"): 0.041666666666666664, (\"'m\", 'pretty'): 0.041666666666666664, ('pretty', 'sure'): 0.041666666666666664, ('sure', 'colleague'): 0.041666666666666664, ('colleague', 'stealing'): 0.041666666666666664, ('stealing', 'lunch'): 0.041666666666666664, ('lunch', 'fridge'): 0.041666666666666664, ('fridge', 'photocopier'): 0.041666666666666664, ('photocopier', 'get'): 0.041666666666666664, ('get', 'never'): 0.041666666666666664, ('never', 'work'): 0.041666666666666664, ('work', \"'m\"): 0.041666666666666664, (\"'m\", 'hurry'): 0.041666666666666664, ('hurry', 'phd'): 0.041666666666666664, ('phd', 'napping'): 0.041666666666666664, ('napping', \"'d\"): 0.041666666666666664, (\"'d\", 'ace'): 0.041666666666666664}\n",
            "Document 6 TF: {(\"n't\", 'seen'): 0.038461538461538464, ('seen', 'sun'): 0.038461538461538464, ('sun', 'day'): 0.038461538461538464, ('day', 'due'): 0.038461538461538464, ('due', 'endless'): 0.038461538461538464, ('endless', 'coding'): 0.038461538461538464, ('coding', 'session'): 0.038461538461538464, ('session', 'simulation'): 0.038461538461538464, ('simulation', 'keep'): 0.038461538461538464, ('keep', 'crashing'): 0.038461538461538464, ('crashing', 'stack'): 0.038461538461538464, ('stack', 'overflow'): 0.038461538461538464, ('overflow', \"n't\"): 0.038461538461538464, (\"n't\", 'answer'): 0.038461538461538464, ('answer', 'roommate'): 0.038461538461538464, ('roommate', 'think'): 0.038461538461538464, ('think', \"'m\"): 0.038461538461538464, (\"'m\", 'ghost'): 0.038461538461538464, ('ghost', 'haunting'): 0.038461538461538464, ('haunting', 'apartment'): 0.038461538461538464, ('apartment', 'instant'): 0.038461538461538464, ('instant', 'noodle'): 0.038461538461538464, ('noodle', 'become'): 0.038461538461538464, ('become', 'primary'): 0.038461538461538464, ('primary', 'food'): 0.038461538461538464, ('food', 'group'): 0.038461538461538464}\n",
            "Document 7 TF: {('attending', 'conference'): 0.04, ('conference', 'sounded'): 0.04, ('sounded', 'fun'): 0.04, ('fun', 'realized'): 0.04, ('realized', 'involve'): 0.04, ('involve', 'lot'): 0.04, ('lot', 'awkward'): 0.04, ('awkward', 'networking'): 0.04, ('networking', 'accidentally'): 0.04, ('accidentally', 'spilled'): 0.04, ('spilled', 'coffee'): 0.04, ('coffee', 'famous'): 0.04, ('famous', 'professor'): 0.04, ('professor', \"'s\"): 0.04, (\"'s\", 'shoe'): 0.04, ('shoe', 'poster'): 0.04, ('poster', 'fell'): 0.04, ('fell', 'twice'): 0.04, ('twice', 'session'): 0.04, ('session', 'next'): 0.04, ('next', 'time'): 0.04, ('time', \"'ll\"): 0.04, (\"'ll\", 'send'): 0.04, ('send', 'cardboard'): 0.04, ('cardboard', 'cutout'): 0.04}\n",
            "Document 8 TF: {('university', 'gym'): 0.041666666666666664, ('gym', 'membership'): 0.041666666666666664, ('membership', 'supposed'): 0.041666666666666664, ('supposed', 'keep'): 0.041666666666666664, ('keep', 'healthy'): 0.041666666666666664, ('healthy', \"'ve\"): 0.041666666666666664, (\"'ve\", 'used'): 0.041666666666666664, ('used', 'tried'): 0.041666666666666664, ('tried', 'attend'): 0.041666666666666664, ('attend', 'yoga'): 0.041666666666666664, ('yoga', 'class'): 0.041666666666666664, ('class', 'staying'): 0.041666666666666664, ('staying', 'late'): 0.041666666666666664, ('late', 'deadline'): 0.041666666666666664, ('deadline', 'fell'): 0.041666666666666664, ('fell', 'asleep'): 0.041666666666666664, ('asleep', 'meditation'): 0.041666666666666664, ('meditation', 'maybe'): 0.041666666666666664, ('maybe', 'instead'): 0.041666666666666664, ('instead', 'gym'): 0.041666666666666664, ('gym', 'bed'): 0.041666666666666664, ('bed', 'essential'): 0.041666666666666664, ('essential', 'keeping'): 0.041666666666666664, ('keeping', 'healthy'): 0.041666666666666664}\n",
            "Document 9 TF: {('teaching', 'assistantship'): 0.03571428571428571, ('assistantship', 'involves'): 0.03571428571428571, ('involves', 'grading'): 0.03571428571428571, ('grading', 'endless'): 0.03571428571428571, ('endless', 'stack'): 0.03571428571428571, ('stack', 'exam'): 0.03571428571428571, ('exam', 'student'): 0.03571428571428571, ('student', 'keep'): 0.03571428571428571, ('keep', 'emailing'): 0.03571428571428571, ('emailing', 'extension'): 0.03571428571428571, ('extension', 'creative'): 0.03571428571428571, ('creative', 'excuse'): 0.03571428571428571, ('excuse', 'one'): 0.03571428571428571, ('one', 'claimed'): 0.03571428571428571, ('claimed', 'dog'): 0.03571428571428571, ('dog', 'sleep'): 0.03571428571428571, ('sleep', 'laptop'): 0.03571428571428571, ('laptop', 'use'): 0.03571428571428571, ('use', 'exam'): 0.03571428571428571, ('exam', 'deprived'): 0.03571428571428571, ('deprived', 'excuse'): 0.03571428571428571, ('excuse', 'completing'): 0.03571428571428571, ('completing', 'dissertation'): 0.03571428571428571, ('dissertation', 'draft'): 0.03571428571428571, ('draft', 'might'): 0.03571428571428571, ('might', 'got'): 0.03571428571428571, ('got', 'good'): 0.03571428571428571, ('good', 'one'): 0.03571428571428571}\n",
            "Document 10 TF: {('group', 'project'): 0.043478260869565216, ('project', 'worst'): 0.043478260869565216, ('worst', \"'re\"): 0.043478260869565216, (\"'re\", 'one'): 0.043478260869565216, ('one', 'work'): 0.043478260869565216, ('work', 'team'): 0.043478260869565216, ('team', 'member'): 0.043478260869565216, ('member', 'elusive'): 0.043478260869565216, ('elusive', 'bigfoot'): 0.043478260869565216, ('bigfoot', 'project'): 0.043478260869565216, ('project', 'due'): 0.043478260869565216, ('due', 'next'): 0.043478260869565216, ('next', 'week'): 0.043478260869565216, ('week', \"n't\"): 0.043478260869565216, (\"n't\", 'heard'): 0.043478260869565216, ('heard', 'perhaps'): 0.043478260869565216, ('perhaps', 'write'): 0.043478260869565216, ('write', 'paper'): 0.043478260869565216, ('paper', 'sociological'): 0.043478260869565216, ('sociological', 'implication'): 0.043478260869565216, ('implication', 'group'): 0.043478260869565216, ('group', 'work'): 0.043478260869565216, ('work', 'avoidance'): 0.043478260869565216}\n",
            "\n",
            "Term Frequency (TF) for the query:\n",
            "{('sleep', 'deprivation'): 1.0}\n",
            "\n",
            "Inverse Document Frequency (IDF) across the corpus:\n",
            "{('sleepless', 'night'): 1.6094379124341003, ('apparatus', 'seems'): 1.6094379124341003, ('new', 'normal'): 1.6094379124341003, ('true', 'companion'): 1.6094379124341003, ('keep', 'moving'): 1.6094379124341003, ('fix', 'experiment'): 1.6094379124341003, ('seems', 'mind'): 1.6094379124341003, ('night', 'lab'): 1.6094379124341003, ('advisor', 'say'): 1.6094379124341003, ('moving', 'coffee'): 1.6094379124341003, ('corner', 'corner'): 1.6094379124341003, ('normal', 'tried'): 1.6094379124341003, ('become', 'new'): 1.6094379124341003, ('setup', 'apparatus'): 1.6094379124341003, ('corner', 'keep'): 1.6094379124341003, ('say', 'result'): 1.6094379124341003, ('companion', 'day'): 1.6094379124341003, ('coffee', 'true'): 1.6094379124341003, ('experiment', 'setup'): 1.6094379124341003, ('around', 'corner'): 1.6094379124341003, ('tried', 'fix'): 1.6094379124341003, ('lab', 'become'): 1.6094379124341003, ('mind', 'advisor'): 1.6094379124341003, ('result', 'around'): 1.6094379124341003, ('become', 'luxury'): 1.6094379124341003, (\"'s\", 'mostly'): 1.6094379124341003, (\"'m\", 'late'): 1.6094379124341003, ('longer', 'afford'): 1.6094379124341003, ('good', 'snack'): 1.6094379124341003, ('grad', 'school'): 1.6094379124341003, (\"'m\", 'surviving'): 1.6094379124341003, ('would', 'intellectually'): 1.6094379124341003, ('surviving', 'vending'): 1.6094379124341003, ('sleep', 'become'): 1.6094379124341003, ('school', 'would'): 1.6094379124341003, ('mostly', 'paperwork'): 1.6094379124341003, ('snack', \"'m\"): 1.6094379124341003, ('ran', 'good'): 1.6094379124341003, ('departmental', 'printer'): 1.6094379124341003, ('cafeteria', 'ran'): 1.6094379124341003, ('machine', 'chip'): 1.6094379124341003, ('intellectually', 'stimulating'): 1.6094379124341003, ('vending', 'machine'): 1.6094379124341003, ('late', 'meeting'): 1.6094379124341003, ('jammed', \"'m\"): 1.6094379124341003, ('chip', 'sleep'): 1.6094379124341003, ('paperwork', 'waiting'): 1.6094379124341003, ('stimulating', \"'s\"): 1.6094379124341003, ('meeting', 'cafeteria'): 1.6094379124341003, ('waiting', 'email'): 1.6094379124341003, ('email', 'departmental'): 1.6094379124341003, ('luxury', 'longer'): 1.6094379124341003, ('printer', 'jammed'): 1.6094379124341003, ('thought', 'grad'): 1.6094379124341003, ('time', 'finish'): 1.6094379124341003, ('endless', 'mountain'): 1.6094379124341003, ('syndrome', 'real'): 1.6094379124341003, ('like', 'climbing'): 1.6094379124341003, ('supervisor', 'suggests'): 1.6094379124341003, ('feel', 'like'): 1.6094379124341003, ('revision', 'impostor'): 1.6094379124341003, ('instead', 'utterly'): 1.6094379124341003, ('suggests', 'new'): 1.6094379124341003, ('wonder', 'made'): 1.6094379124341003, ('writing', 'dissertation'): 1.6094379124341003, ('semblance', 'normal'): 1.6094379124341003, ('finish', 'chapter'): 1.6094379124341003, ('maybe', 'gone'): 1.6094379124341003, ('new', 'revision'): 1.6094379124341003, ('dissertation', 'feel'): 1.6094379124341003, ('chapter', 'supervisor'): 1.6094379124341003, ('every', 'time'): 1.6094379124341003, ('deprived', 'semblance'): 1.6094379124341003, ('mistake', 'accepting'): 1.6094379124341003, ('made', 'mistake'): 1.6094379124341003, ('clown', 'college'): 1.6094379124341003, ('accepting', 'maybe'): 1.6094379124341003, ('college', 'instead'): 1.6094379124341003, ('real', 'wonder'): 1.6094379124341003, ('impostor', 'syndrome'): 1.6094379124341003, ('gone', 'clown'): 1.6094379124341003, ('normal', 'life'): 1.6094379124341003, ('utterly', 'deprived'): 1.6094379124341003, ('mountain', 'every'): 1.6094379124341003, ('climbing', 'endless'): 1.6094379124341003, ('hour', 'trying'): 1.6094379124341003, ('escaped', 'spent'): 1.6094379124341003, (\"n't\", 'died'): 1.6094379124341003, ('got', 'corrupted'): 1.6094379124341003, ('find', 'grant'): 1.6094379124341003, ('online', 'submission'): 1.6094379124341003, ('start', 'lab'): 1.6094379124341003, ('deadline', 'tomorrow'): 1.6094379124341003, ('died', 'yet'): 1.6094379124341003, ('research', 'data'): 1.6094379124341003, ('trying', 'find'): 1.6094379124341003, ('proposal', 'deadline'): 1.6094379124341003, ('submission', 'portal'): 1.6094379124341003, ('corrupted', 'start'): 1.6094379124341003, ('lab', 'mouse'): 1.6094379124341003, ('cactus', \"n't\"): 1.6094379124341003, ('spent', 'hour'): 1.6094379124341003, ('grant', 'proposal'): 1.6094379124341003, ('pet', 'cactus'): 1.6094379124341003, ('data', 'got'): 1.6094379124341003, ('mouse', 'escaped'): 1.6094379124341003, ('least', 'pet'): 1.6094379124341003, ('portal', 'least'): 1.6094379124341003, ('tomorrow', 'online'): 1.6094379124341003, ('phd', 'napping'): 1.6094379124341003, ('three-hour', 'debate'): 1.6094379124341003, ('font', 'choice'): 1.6094379124341003, ('get', 'never'): 1.6094379124341003, (\"'m\", 'pretty'): 1.6094379124341003, ('lunch', 'fridge'): 1.6094379124341003, ('fridge', 'photocopier'): 1.6094379124341003, ('never', 'work'): 1.6094379124341003, ('photocopier', 'get'): 1.6094379124341003, ('work', \"'m\"): 1.6094379124341003, ('presentation', \"'m\"): 1.6094379124341003, ('meeting', 'turned'): 1.6094379124341003, ('napping', \"'d\"): 1.6094379124341003, ('group', 'meeting'): 1.6094379124341003, ('stealing', 'lunch'): 1.6094379124341003, ('hurry', 'phd'): 1.6094379124341003, ('sure', 'colleague'): 1.6094379124341003, ('debate', 'font'): 1.6094379124341003, ('choice', 'presentation'): 1.6094379124341003, ('turned', 'three-hour'): 1.6094379124341003, (\"'m\", 'hurry'): 1.6094379124341003, (\"'d\", 'ace'): 1.6094379124341003, ('pretty', 'sure'): 1.6094379124341003, ('colleague', 'stealing'): 1.6094379124341003, ('haunting', 'apartment'): 1.6094379124341003, ('keep', 'crashing'): 1.6094379124341003, ('roommate', 'think'): 1.6094379124341003, (\"n't\", 'answer'): 1.6094379124341003, ('ghost', 'haunting'): 1.6094379124341003, (\"n't\", 'seen'): 1.6094379124341003, ('instant', 'noodle'): 1.6094379124341003, ('food', 'group'): 1.6094379124341003, ('crashing', 'stack'): 1.6094379124341003, ('noodle', 'become'): 1.6094379124341003, ('answer', 'roommate'): 1.6094379124341003, ('coding', 'session'): 1.6094379124341003, ('become', 'primary'): 1.6094379124341003, ('seen', 'sun'): 1.6094379124341003, ('apartment', 'instant'): 1.6094379124341003, ('overflow', \"n't\"): 1.6094379124341003, ('simulation', 'keep'): 1.6094379124341003, ('session', 'simulation'): 1.6094379124341003, ('day', 'due'): 1.6094379124341003, ('due', 'endless'): 1.6094379124341003, ('endless', 'coding'): 1.6094379124341003, (\"'m\", 'ghost'): 1.6094379124341003, ('primary', 'food'): 1.6094379124341003, ('think', \"'m\"): 1.6094379124341003, ('stack', 'overflow'): 1.6094379124341003, ('sun', 'day'): 1.6094379124341003, ('next', 'time'): 1.6094379124341003, ('poster', 'fell'): 1.6094379124341003, ('networking', 'accidentally'): 1.6094379124341003, ('shoe', 'poster'): 1.6094379124341003, (\"'s\", 'shoe'): 1.6094379124341003, ('time', \"'ll\"): 1.6094379124341003, ('fun', 'realized'): 1.6094379124341003, ('famous', 'professor'): 1.6094379124341003, ('cardboard', 'cutout'): 1.6094379124341003, ('conference', 'sounded'): 1.6094379124341003, ('realized', 'involve'): 1.6094379124341003, ('attending', 'conference'): 1.6094379124341003, ('lot', 'awkward'): 1.6094379124341003, ('accidentally', 'spilled'): 1.6094379124341003, ('fell', 'twice'): 1.6094379124341003, (\"'ll\", 'send'): 1.6094379124341003, ('awkward', 'networking'): 1.6094379124341003, ('send', 'cardboard'): 1.6094379124341003, ('sounded', 'fun'): 1.6094379124341003, ('professor', \"'s\"): 1.6094379124341003, ('session', 'next'): 1.6094379124341003, ('twice', 'session'): 1.6094379124341003, ('coffee', 'famous'): 1.6094379124341003, ('spilled', 'coffee'): 1.6094379124341003, ('involve', 'lot'): 1.6094379124341003, ('university', 'gym'): 1.6094379124341003, ('staying', 'late'): 1.6094379124341003, ('maybe', 'instead'): 1.6094379124341003, ('meditation', 'maybe'): 1.6094379124341003, ('gym', 'membership'): 1.6094379124341003, ('attend', 'yoga'): 1.6094379124341003, ('tried', 'attend'): 1.6094379124341003, ('class', 'staying'): 1.6094379124341003, ('deadline', 'fell'): 1.6094379124341003, ('supposed', 'keep'): 1.6094379124341003, ('gym', 'bed'): 1.6094379124341003, (\"'ve\", 'used'): 1.6094379124341003, ('essential', 'keeping'): 1.6094379124341003, ('instead', 'gym'): 1.6094379124341003, ('healthy', \"'ve\"): 1.6094379124341003, ('yoga', 'class'): 1.6094379124341003, ('used', 'tried'): 1.6094379124341003, ('membership', 'supposed'): 1.6094379124341003, ('asleep', 'meditation'): 1.6094379124341003, ('keep', 'healthy'): 1.6094379124341003, ('keeping', 'healthy'): 1.6094379124341003, ('bed', 'essential'): 1.6094379124341003, ('fell', 'asleep'): 1.6094379124341003, ('late', 'deadline'): 1.6094379124341003, ('might', 'got'): 1.6094379124341003, ('draft', 'might'): 1.6094379124341003, ('completing', 'dissertation'): 1.6094379124341003, ('extension', 'creative'): 1.6094379124341003, ('excuse', 'one'): 1.6094379124341003, ('claimed', 'dog'): 1.6094379124341003, ('excuse', 'completing'): 1.6094379124341003, ('laptop', 'use'): 1.6094379124341003, ('dissertation', 'draft'): 1.6094379124341003, ('keep', 'emailing'): 1.6094379124341003, ('dog', 'sleep'): 1.6094379124341003, ('grading', 'endless'): 1.6094379124341003, ('exam', 'deprived'): 1.6094379124341003, ('endless', 'stack'): 1.6094379124341003, ('deprived', 'excuse'): 1.6094379124341003, ('stack', 'exam'): 1.6094379124341003, ('good', 'one'): 1.6094379124341003, ('assistantship', 'involves'): 1.6094379124341003, ('teaching', 'assistantship'): 1.6094379124341003, ('emailing', 'extension'): 1.6094379124341003, ('creative', 'excuse'): 1.6094379124341003, ('involves', 'grading'): 1.6094379124341003, ('sleep', 'laptop'): 1.6094379124341003, ('got', 'good'): 1.6094379124341003, ('student', 'keep'): 1.6094379124341003, ('exam', 'student'): 1.6094379124341003, ('use', 'exam'): 1.6094379124341003, ('one', 'claimed'): 1.6094379124341003, ('next', 'week'): 1.6094379124341003, ('member', 'elusive'): 1.6094379124341003, ('group', 'project'): 1.6094379124341003, ('project', 'worst'): 1.6094379124341003, (\"'re\", 'one'): 1.6094379124341003, ('heard', 'perhaps'): 1.6094379124341003, ('implication', 'group'): 1.6094379124341003, ('one', 'work'): 1.6094379124341003, ('group', 'work'): 1.6094379124341003, ('paper', 'sociological'): 1.6094379124341003, ('write', 'paper'): 1.6094379124341003, ('elusive', 'bigfoot'): 1.6094379124341003, ('project', 'due'): 1.6094379124341003, ('bigfoot', 'project'): 1.6094379124341003, ('sociological', 'implication'): 1.6094379124341003, ('worst', \"'re\"): 1.6094379124341003, ('perhaps', 'write'): 1.6094379124341003, ('week', \"n't\"): 1.6094379124341003, ('work', 'avoidance'): 1.6094379124341003, ('team', 'member'): 1.6094379124341003, (\"n't\", 'heard'): 1.6094379124341003, ('due', 'next'): 1.6094379124341003, ('work', 'team'): 1.6094379124341003}\n",
            "\n",
            "TF-IDF for each document:\n",
            "Document 1 TF-IDF: {('sleepless', 'night'): 0.0670599130180875, ('night', 'lab'): 0.0670599130180875, ('lab', 'become'): 0.0670599130180875, ('become', 'new'): 0.0670599130180875, ('new', 'normal'): 0.0670599130180875, ('normal', 'tried'): 0.0670599130180875, ('tried', 'fix'): 0.0670599130180875, ('fix', 'experiment'): 0.0670599130180875, ('experiment', 'setup'): 0.0670599130180875, ('setup', 'apparatus'): 0.0670599130180875, ('apparatus', 'seems'): 0.0670599130180875, ('seems', 'mind'): 0.0670599130180875, ('mind', 'advisor'): 0.0670599130180875, ('advisor', 'say'): 0.0670599130180875, ('say', 'result'): 0.0670599130180875, ('result', 'around'): 0.0670599130180875, ('around', 'corner'): 0.0670599130180875, ('corner', 'corner'): 0.0670599130180875, ('corner', 'keep'): 0.0670599130180875, ('keep', 'moving'): 0.0670599130180875, ('moving', 'coffee'): 0.0670599130180875, ('coffee', 'true'): 0.0670599130180875, ('true', 'companion'): 0.0670599130180875, ('companion', 'day'): 0.0670599130180875}\n",
            "Document 2 TF-IDF: {('thought', 'grad'): 0.05364793041447001, ('grad', 'school'): 0.05364793041447001, ('school', 'would'): 0.05364793041447001, ('would', 'intellectually'): 0.05364793041447001, ('intellectually', 'stimulating'): 0.05364793041447001, ('stimulating', \"'s\"): 0.05364793041447001, (\"'s\", 'mostly'): 0.05364793041447001, ('mostly', 'paperwork'): 0.05364793041447001, ('paperwork', 'waiting'): 0.05364793041447001, ('waiting', 'email'): 0.05364793041447001, ('email', 'departmental'): 0.05364793041447001, ('departmental', 'printer'): 0.05364793041447001, ('printer', 'jammed'): 0.05364793041447001, ('jammed', \"'m\"): 0.05364793041447001, (\"'m\", 'late'): 0.05364793041447001, ('late', 'meeting'): 0.05364793041447001, ('meeting', 'cafeteria'): 0.05364793041447001, ('cafeteria', 'ran'): 0.05364793041447001, ('ran', 'good'): 0.05364793041447001, ('good', 'snack'): 0.05364793041447001, ('snack', \"'m\"): 0.05364793041447001, (\"'m\", 'surviving'): 0.05364793041447001, ('surviving', 'vending'): 0.05364793041447001, ('vending', 'machine'): 0.05364793041447001, ('machine', 'chip'): 0.05364793041447001, ('chip', 'sleep'): 0.05364793041447001, ('sleep', 'become'): 0.05364793041447001, ('become', 'luxury'): 0.05364793041447001, ('luxury', 'longer'): 0.05364793041447001, ('longer', 'afford'): 0.05364793041447001}\n",
            "Document 3 TF-IDF: {('writing', 'dissertation'): 0.051917352014003236, ('dissertation', 'feel'): 0.051917352014003236, ('feel', 'like'): 0.051917352014003236, ('like', 'climbing'): 0.051917352014003236, ('climbing', 'endless'): 0.051917352014003236, ('endless', 'mountain'): 0.051917352014003236, ('mountain', 'every'): 0.051917352014003236, ('every', 'time'): 0.051917352014003236, ('time', 'finish'): 0.051917352014003236, ('finish', 'chapter'): 0.051917352014003236, ('chapter', 'supervisor'): 0.051917352014003236, ('supervisor', 'suggests'): 0.051917352014003236, ('suggests', 'new'): 0.051917352014003236, ('new', 'revision'): 0.051917352014003236, ('revision', 'impostor'): 0.051917352014003236, ('impostor', 'syndrome'): 0.051917352014003236, ('syndrome', 'real'): 0.051917352014003236, ('real', 'wonder'): 0.051917352014003236, ('wonder', 'made'): 0.051917352014003236, ('made', 'mistake'): 0.051917352014003236, ('mistake', 'accepting'): 0.051917352014003236, ('accepting', 'maybe'): 0.051917352014003236, ('maybe', 'gone'): 0.051917352014003236, ('gone', 'clown'): 0.051917352014003236, ('clown', 'college'): 0.051917352014003236, ('college', 'instead'): 0.051917352014003236, ('instead', 'utterly'): 0.051917352014003236, ('utterly', 'deprived'): 0.051917352014003236, ('deprived', 'semblance'): 0.051917352014003236, ('semblance', 'normal'): 0.051917352014003236, ('normal', 'life'): 0.051917352014003236}\n",
            "Document 4 TF-IDF: {('research', 'data'): 0.0670599130180875, ('data', 'got'): 0.0670599130180875, ('got', 'corrupted'): 0.0670599130180875, ('corrupted', 'start'): 0.0670599130180875, ('start', 'lab'): 0.0670599130180875, ('lab', 'mouse'): 0.0670599130180875, ('mouse', 'escaped'): 0.0670599130180875, ('escaped', 'spent'): 0.0670599130180875, ('spent', 'hour'): 0.0670599130180875, ('hour', 'trying'): 0.0670599130180875, ('trying', 'find'): 0.0670599130180875, ('find', 'grant'): 0.0670599130180875, ('grant', 'proposal'): 0.0670599130180875, ('proposal', 'deadline'): 0.0670599130180875, ('deadline', 'tomorrow'): 0.0670599130180875, ('tomorrow', 'online'): 0.0670599130180875, ('online', 'submission'): 0.0670599130180875, ('submission', 'portal'): 0.0670599130180875, ('portal', 'least'): 0.0670599130180875, ('least', 'pet'): 0.0670599130180875, ('pet', 'cactus'): 0.0670599130180875, ('cactus', \"n't\"): 0.0670599130180875, (\"n't\", 'died'): 0.0670599130180875, ('died', 'yet'): 0.0670599130180875}\n",
            "Document 5 TF-IDF: {('group', 'meeting'): 0.0670599130180875, ('meeting', 'turned'): 0.0670599130180875, ('turned', 'three-hour'): 0.0670599130180875, ('three-hour', 'debate'): 0.0670599130180875, ('debate', 'font'): 0.0670599130180875, ('font', 'choice'): 0.0670599130180875, ('choice', 'presentation'): 0.0670599130180875, ('presentation', \"'m\"): 0.0670599130180875, (\"'m\", 'pretty'): 0.0670599130180875, ('pretty', 'sure'): 0.0670599130180875, ('sure', 'colleague'): 0.0670599130180875, ('colleague', 'stealing'): 0.0670599130180875, ('stealing', 'lunch'): 0.0670599130180875, ('lunch', 'fridge'): 0.0670599130180875, ('fridge', 'photocopier'): 0.0670599130180875, ('photocopier', 'get'): 0.0670599130180875, ('get', 'never'): 0.0670599130180875, ('never', 'work'): 0.0670599130180875, ('work', \"'m\"): 0.0670599130180875, (\"'m\", 'hurry'): 0.0670599130180875, ('hurry', 'phd'): 0.0670599130180875, ('phd', 'napping'): 0.0670599130180875, ('napping', \"'d\"): 0.0670599130180875, (\"'d\", 'ace'): 0.0670599130180875}\n",
            "Document 6 TF-IDF: {(\"n't\", 'seen'): 0.06190145817054232, ('seen', 'sun'): 0.06190145817054232, ('sun', 'day'): 0.06190145817054232, ('day', 'due'): 0.06190145817054232, ('due', 'endless'): 0.06190145817054232, ('endless', 'coding'): 0.06190145817054232, ('coding', 'session'): 0.06190145817054232, ('session', 'simulation'): 0.06190145817054232, ('simulation', 'keep'): 0.06190145817054232, ('keep', 'crashing'): 0.06190145817054232, ('crashing', 'stack'): 0.06190145817054232, ('stack', 'overflow'): 0.06190145817054232, ('overflow', \"n't\"): 0.06190145817054232, (\"n't\", 'answer'): 0.06190145817054232, ('answer', 'roommate'): 0.06190145817054232, ('roommate', 'think'): 0.06190145817054232, ('think', \"'m\"): 0.06190145817054232, (\"'m\", 'ghost'): 0.06190145817054232, ('ghost', 'haunting'): 0.06190145817054232, ('haunting', 'apartment'): 0.06190145817054232, ('apartment', 'instant'): 0.06190145817054232, ('instant', 'noodle'): 0.06190145817054232, ('noodle', 'become'): 0.06190145817054232, ('become', 'primary'): 0.06190145817054232, ('primary', 'food'): 0.06190145817054232, ('food', 'group'): 0.06190145817054232}\n",
            "Document 7 TF-IDF: {('attending', 'conference'): 0.064377516497364, ('conference', 'sounded'): 0.064377516497364, ('sounded', 'fun'): 0.064377516497364, ('fun', 'realized'): 0.064377516497364, ('realized', 'involve'): 0.064377516497364, ('involve', 'lot'): 0.064377516497364, ('lot', 'awkward'): 0.064377516497364, ('awkward', 'networking'): 0.064377516497364, ('networking', 'accidentally'): 0.064377516497364, ('accidentally', 'spilled'): 0.064377516497364, ('spilled', 'coffee'): 0.064377516497364, ('coffee', 'famous'): 0.064377516497364, ('famous', 'professor'): 0.064377516497364, ('professor', \"'s\"): 0.064377516497364, (\"'s\", 'shoe'): 0.064377516497364, ('shoe', 'poster'): 0.064377516497364, ('poster', 'fell'): 0.064377516497364, ('fell', 'twice'): 0.064377516497364, ('twice', 'session'): 0.064377516497364, ('session', 'next'): 0.064377516497364, ('next', 'time'): 0.064377516497364, ('time', \"'ll\"): 0.064377516497364, (\"'ll\", 'send'): 0.064377516497364, ('send', 'cardboard'): 0.064377516497364, ('cardboard', 'cutout'): 0.064377516497364}\n",
            "Document 8 TF-IDF: {('university', 'gym'): 0.0670599130180875, ('gym', 'membership'): 0.0670599130180875, ('membership', 'supposed'): 0.0670599130180875, ('supposed', 'keep'): 0.0670599130180875, ('keep', 'healthy'): 0.0670599130180875, ('healthy', \"'ve\"): 0.0670599130180875, (\"'ve\", 'used'): 0.0670599130180875, ('used', 'tried'): 0.0670599130180875, ('tried', 'attend'): 0.0670599130180875, ('attend', 'yoga'): 0.0670599130180875, ('yoga', 'class'): 0.0670599130180875, ('class', 'staying'): 0.0670599130180875, ('staying', 'late'): 0.0670599130180875, ('late', 'deadline'): 0.0670599130180875, ('deadline', 'fell'): 0.0670599130180875, ('fell', 'asleep'): 0.0670599130180875, ('asleep', 'meditation'): 0.0670599130180875, ('meditation', 'maybe'): 0.0670599130180875, ('maybe', 'instead'): 0.0670599130180875, ('instead', 'gym'): 0.0670599130180875, ('gym', 'bed'): 0.0670599130180875, ('bed', 'essential'): 0.0670599130180875, ('essential', 'keeping'): 0.0670599130180875, ('keeping', 'healthy'): 0.0670599130180875}\n",
            "Document 9 TF-IDF: {('teaching', 'assistantship'): 0.05747992544407501, ('assistantship', 'involves'): 0.05747992544407501, ('involves', 'grading'): 0.05747992544407501, ('grading', 'endless'): 0.05747992544407501, ('endless', 'stack'): 0.05747992544407501, ('stack', 'exam'): 0.05747992544407501, ('exam', 'student'): 0.05747992544407501, ('student', 'keep'): 0.05747992544407501, ('keep', 'emailing'): 0.05747992544407501, ('emailing', 'extension'): 0.05747992544407501, ('extension', 'creative'): 0.05747992544407501, ('creative', 'excuse'): 0.05747992544407501, ('excuse', 'one'): 0.05747992544407501, ('one', 'claimed'): 0.05747992544407501, ('claimed', 'dog'): 0.05747992544407501, ('dog', 'sleep'): 0.05747992544407501, ('sleep', 'laptop'): 0.05747992544407501, ('laptop', 'use'): 0.05747992544407501, ('use', 'exam'): 0.05747992544407501, ('exam', 'deprived'): 0.05747992544407501, ('deprived', 'excuse'): 0.05747992544407501, ('excuse', 'completing'): 0.05747992544407501, ('completing', 'dissertation'): 0.05747992544407501, ('dissertation', 'draft'): 0.05747992544407501, ('draft', 'might'): 0.05747992544407501, ('might', 'got'): 0.05747992544407501, ('got', 'good'): 0.05747992544407501, ('good', 'one'): 0.05747992544407501}\n",
            "Document 10 TF-IDF: {('group', 'project'): 0.06997556141017827, ('project', 'worst'): 0.06997556141017827, ('worst', \"'re\"): 0.06997556141017827, (\"'re\", 'one'): 0.06997556141017827, ('one', 'work'): 0.06997556141017827, ('work', 'team'): 0.06997556141017827, ('team', 'member'): 0.06997556141017827, ('member', 'elusive'): 0.06997556141017827, ('elusive', 'bigfoot'): 0.06997556141017827, ('bigfoot', 'project'): 0.06997556141017827, ('project', 'due'): 0.06997556141017827, ('due', 'next'): 0.06997556141017827, ('next', 'week'): 0.06997556141017827, ('week', \"n't\"): 0.06997556141017827, (\"n't\", 'heard'): 0.06997556141017827, ('heard', 'perhaps'): 0.06997556141017827, ('perhaps', 'write'): 0.06997556141017827, ('write', 'paper'): 0.06997556141017827, ('paper', 'sociological'): 0.06997556141017827, ('sociological', 'implication'): 0.06997556141017827, ('implication', 'group'): 0.06997556141017827, ('group', 'work'): 0.06997556141017827, ('work', 'avoidance'): 0.06997556141017827}\n",
            "\n",
            "TF-IDF for the query:\n",
            "{('sleep', 'deprivation'): 0.0}\n",
            "\n",
            "Ranked documents based on similarity to query:\n",
            "Rank 1: Document 1 with similarity 0.0000\n",
            "Rank 2: Document 2 with similarity 0.0000\n",
            "Rank 3: Document 3 with similarity 0.0000\n",
            "Rank 4: Document 4 with similarity 0.0000\n",
            "Rank 5: Document 5 with similarity 0.0000\n",
            "Rank 6: Document 6 with similarity 0.0000\n",
            "Rank 7: Document 7 with similarity 0.0000\n",
            "Rank 8: Document 8 with similarity 0.0000\n",
            "Rank 9: Document 9 with similarity 0.0000\n",
            "Rank 10: Document 10 with similarity 0.0000\n"
          ]
        },
        {
          "output_type": "stream",
          "name": "stderr",
          "text": [
            "[nltk_data] Downloading package stopwords to /root/nltk_data...\n",
            "[nltk_data]   Package stopwords is already up-to-date!\n",
            "[nltk_data] Downloading package wordnet to /root/nltk_data...\n",
            "[nltk_data]   Package wordnet is already up-to-date!\n"
          ]
        }
      ],
      "source": [
        "import nltk\n",
        "from nltk.corpus import stopwords\n",
        "from nltk.stem import PorterStemmer, WordNetLemmatizer\n",
        "\n",
        "nltk.download('stopwords')\n",
        "nltk.download('wordnet')\n",
        "\n",
        "stop_words = set(stopwords.words('english'))\n",
        "stemmer = PorterStemmer()\n",
        "lemmatizer = WordNetLemmatizer()\n",
        "\n",
        "# Preprocess the corpus and query: Tokenization, stopwords removal, stemming/lemmatization, bigram extraction\n",
        "def preprocess_text(text, use_stemming=False, use_lemmatization=True):\n",
        "    tokens = word_tokenize(text.lower())  # Tokenization\n",
        "    tokens = [word for word in tokens if word not in string.punctuation and word not in stop_words]  # 移除標點和停用詞\n",
        "\n",
        "    if use_stemming:\n",
        "        tokens = [stemmer.stem(word) for word in tokens]\n",
        "    elif use_lemmatization:\n",
        "        tokens = [lemmatizer.lemmatize(word) for word in tokens]\n",
        "\n",
        "    bigram_tokens = list(bigrams(tokens))\n",
        "    return bigram_tokens\n",
        "\n",
        "corpus_bigrams = [preprocess_text(doc, use_stemming=False, use_lemmatization=True) for doc in corpus]\n",
        "query_bigrams = preprocess_text(query, use_stemming=False, use_lemmatization=True)\n",
        "\n",
        "# Step 2: Calculate TF (Term Frequency) for unigrams and bigrams\n",
        "def compute_tf(doc_bigrams):\n",
        "    tf = Counter(doc_bigrams)\n",
        "    total_bigrams = len(doc_bigrams)\n",
        "    return {bigram: count / total_bigrams for bigram, count in tf.items()}\n",
        "\n",
        "# Step 3: Calculate IDF (Inverse Document Frequency) for unigrams and bigrams\n",
        "def compute_idf(corpus_bigrams):\n",
        "    num_docs = len(corpus_bigrams)\n",
        "    bigram_doc_count = Counter()\n",
        "    for doc in corpus_bigrams:\n",
        "        unique_bigrams = set(doc)  # 只計算唯一的二元詞組\n",
        "        for bigram in unique_bigrams:\n",
        "            bigram_doc_count[bigram] += 1\n",
        "\n",
        "    return {bigram: math.log(num_docs / (1 + count)) for bigram, count in bigram_doc_count.items()}\n",
        "\n",
        "# Compute TF for each document in the corpus\n",
        "tf_corpus = [compute_tf(doc_bigrams) for doc_bigrams in corpus_bigrams]\n",
        "\n",
        "# Compute IDF across the corpus\n",
        "idf_corpus = compute_idf(corpus_bigrams)\n",
        "\n",
        "# Step 4: Compute TF-IDF for each document\n",
        "def compute_tfidf(tf_doc, idf_corpus):\n",
        "    tfidf = {}\n",
        "    for bigram, tf_value in tf_doc.items():\n",
        "        idf_value = idf_corpus.get(bigram, 0)  # 如果 bigram 不在 idf corpus 中，假設它的 idf 是 0\n",
        "        tfidf[bigram] = tf_value * idf_value\n",
        "    return tfidf\n",
        "\n",
        "# Step 5: Compute cosine similarity between query and each document\n",
        "def compute_cosine_similarity(tfidf_query, tfidf_doc):\n",
        "    # Get the set of bigrams and unigrams that exist in either query or document\n",
        "    all_bigrams = set(tfidf_query.keys()).union(set(tfidf_doc.keys()))\n",
        "\n",
        "    # Create vectors for query and document TF-IDF\n",
        "    query_vector = np.array([tfidf_query.get(bigram, 0) for bigram in all_bigrams])\n",
        "    doc_vector = np.array([tfidf_doc.get(bigram, 0) for bigram in all_bigrams])\n",
        "\n",
        "    # Compute cosine similarity\n",
        "    dot_product = np.dot(query_vector, doc_vector)\n",
        "    norm_query = np.linalg.norm(query_vector)\n",
        "    norm_doc = np.linalg.norm(doc_vector)\n",
        "\n",
        "    if norm_query == 0 or norm_doc == 0:\n",
        "        return 0.0  # 避免除以 0\n",
        "\n",
        "    return dot_product / (norm_query * norm_doc)\n",
        "\n",
        "# Step 6: Compute TF-IDF for the query\n",
        "tf_query = compute_tf(query_bigrams)\n",
        "tfidf_query = compute_tfidf(tf_query, idf_corpus)\n",
        "\n",
        "#TF\n",
        "print(\"\\nTerm Frequency (TF) for each document:\")\n",
        "for i, tf_doc in enumerate(tf_corpus):\n",
        "    print(f\"Document {i + 1} TF: {tf_doc}\")\n",
        "\n",
        "print(\"\\nTerm Frequency (TF) for the query:\")\n",
        "print(tf_query)\n",
        "\n",
        "#IDF\n",
        "print(\"\\nInverse Document Frequency (IDF) across the corpus:\")\n",
        "print(idf_corpus)\n",
        "\n",
        "#TF-IDF\n",
        "print(\"\\nTF-IDF for each document:\")\n",
        "for i, tf_doc in enumerate(tf_corpus):\n",
        "    tfidf_doc = compute_tfidf(tf_doc, idf_corpus)\n",
        "    print(f\"Document {i + 1} TF-IDF: {tfidf_doc}\")\n",
        "\n",
        "print(\"\\nTF-IDF for the query:\")\n",
        "print(tfidf_query)\n",
        "\n",
        "# Step 7: Compute similarity between query and each document\n",
        "similarities = []\n",
        "for i, tf_doc in enumerate(tf_corpus):\n",
        "    tfidf_doc = compute_tfidf(tf_doc, idf_corpus)\n",
        "    similarity = compute_cosine_similarity(tfidf_query, tfidf_doc)\n",
        "    similarities.append((i, similarity))\n",
        "\n",
        "# Sort documents by similarity\n",
        "similarities = sorted(similarities, key=lambda x: x[1], reverse=True)\n",
        "\n",
        "# Step 8: Print the ranked documents\n",
        "print(\"\\nRanked documents based on similarity to query:\")\n",
        "for rank, (doc_index, similarity) in enumerate(similarities):\n",
        "    print(f\"Rank {rank + 1}: Document {doc_index + 1} with similarity {similarity:.4f}\")\n",
        "\n",
        "rankings_bigram = sorted(rankings, key=lambda x: x[1], reverse=True)"
      ]
    },
    {
      "cell_type": "markdown",
      "id": "232e315b-b61e-41b0-b73f-72ba9f341cd4",
      "metadata": {
        "id": "232e315b-b61e-41b0-b73f-72ba9f341cd4"
      },
      "source": [
        "## Part 2: Analyze The Results from TF-IDF, Bigram TF-IDF, Word2Vec, and BERT.\n",
        "Do they successfully retrieve the relevant documents? Compare these four methods using **quantitative** (metrics we introduces in W3) and **qualitative** (case study) analysis.\n",
        "You can write your own code to compute the quantitative evaluation metrics, or use packages such as scikit-learn."
      ]
    },
    {
      "cell_type": "code",
      "source": [
        "import pandas as pd\n",
        "\n",
        "# Show the table of document rankings for each method\n",
        "df_rankings = pd.DataFrame({\n",
        "    'TF-IDF': [doc_idx for doc_idx, _ in rankings_tfidf],\n",
        "    'Bigram TF-IDF': [doc_idx for doc_idx, _ in rankings_bigram],\n",
        "    'Word2Vec': [doc_idx for doc_idx, _ in rankings_word2vec],\n",
        "    'Trained Word2Vec': [doc_idx for doc_idx, _ in rankings_trainword2vec],\n",
        "    'BERT': [doc_idx for doc_idx, _ in rankings_bert]\n",
        "})\n",
        "\n",
        "df_rankings\n"
      ],
      "metadata": {
        "colab": {
          "base_uri": "https://localhost:8080/",
          "height": 363
        },
        "id": "Y8fqgAAEUBV0",
        "outputId": "59bc8648-9af3-47b9-c111-4337b9d5303f"
      },
      "id": "Y8fqgAAEUBV0",
      "execution_count": null,
      "outputs": [
        {
          "output_type": "execute_result",
          "data": {
            "text/plain": [
              "   TF-IDF  Bigram TF-IDF  Word2Vec  Train Word2Vec  BERT\n",
              "0       9              9         9               9     2\n",
              "1       2              5         5               5     6\n",
              "2       3              2         2               2     5\n",
              "3       1              6         6               6     3\n",
              "4       4              7         7               7     1\n",
              "5       5              4         4               4    10\n",
              "6       6              1         1               1     7\n",
              "7       7              3         3               3     8\n",
              "8       8             10        10              10     4\n",
              "9      10              8         8               8     9"
            ],
            "text/html": [
              "\n",
              "  <div id=\"df-4a4482f5-8dff-4c14-8bfa-d45631663cec\" class=\"colab-df-container\">\n",
              "    <div>\n",
              "<style scoped>\n",
              "    .dataframe tbody tr th:only-of-type {\n",
              "        vertical-align: middle;\n",
              "    }\n",
              "\n",
              "    .dataframe tbody tr th {\n",
              "        vertical-align: top;\n",
              "    }\n",
              "\n",
              "    .dataframe thead th {\n",
              "        text-align: right;\n",
              "    }\n",
              "</style>\n",
              "<table border=\"1\" class=\"dataframe\">\n",
              "  <thead>\n",
              "    <tr style=\"text-align: right;\">\n",
              "      <th></th>\n",
              "      <th>TF-IDF</th>\n",
              "      <th>Bigram TF-IDF</th>\n",
              "      <th>Word2Vec</th>\n",
              "      <th>Train Word2Vec</th>\n",
              "      <th>BERT</th>\n",
              "    </tr>\n",
              "  </thead>\n",
              "  <tbody>\n",
              "    <tr>\n",
              "      <th>0</th>\n",
              "      <td>9</td>\n",
              "      <td>9</td>\n",
              "      <td>9</td>\n",
              "      <td>9</td>\n",
              "      <td>2</td>\n",
              "    </tr>\n",
              "    <tr>\n",
              "      <th>1</th>\n",
              "      <td>2</td>\n",
              "      <td>5</td>\n",
              "      <td>5</td>\n",
              "      <td>5</td>\n",
              "      <td>6</td>\n",
              "    </tr>\n",
              "    <tr>\n",
              "      <th>2</th>\n",
              "      <td>3</td>\n",
              "      <td>2</td>\n",
              "      <td>2</td>\n",
              "      <td>2</td>\n",
              "      <td>5</td>\n",
              "    </tr>\n",
              "    <tr>\n",
              "      <th>3</th>\n",
              "      <td>1</td>\n",
              "      <td>6</td>\n",
              "      <td>6</td>\n",
              "      <td>6</td>\n",
              "      <td>3</td>\n",
              "    </tr>\n",
              "    <tr>\n",
              "      <th>4</th>\n",
              "      <td>4</td>\n",
              "      <td>7</td>\n",
              "      <td>7</td>\n",
              "      <td>7</td>\n",
              "      <td>1</td>\n",
              "    </tr>\n",
              "    <tr>\n",
              "      <th>5</th>\n",
              "      <td>5</td>\n",
              "      <td>4</td>\n",
              "      <td>4</td>\n",
              "      <td>4</td>\n",
              "      <td>10</td>\n",
              "    </tr>\n",
              "    <tr>\n",
              "      <th>6</th>\n",
              "      <td>6</td>\n",
              "      <td>1</td>\n",
              "      <td>1</td>\n",
              "      <td>1</td>\n",
              "      <td>7</td>\n",
              "    </tr>\n",
              "    <tr>\n",
              "      <th>7</th>\n",
              "      <td>7</td>\n",
              "      <td>3</td>\n",
              "      <td>3</td>\n",
              "      <td>3</td>\n",
              "      <td>8</td>\n",
              "    </tr>\n",
              "    <tr>\n",
              "      <th>8</th>\n",
              "      <td>8</td>\n",
              "      <td>10</td>\n",
              "      <td>10</td>\n",
              "      <td>10</td>\n",
              "      <td>4</td>\n",
              "    </tr>\n",
              "    <tr>\n",
              "      <th>9</th>\n",
              "      <td>10</td>\n",
              "      <td>8</td>\n",
              "      <td>8</td>\n",
              "      <td>8</td>\n",
              "      <td>9</td>\n",
              "    </tr>\n",
              "  </tbody>\n",
              "</table>\n",
              "</div>\n",
              "    <div class=\"colab-df-buttons\">\n",
              "\n",
              "  <div class=\"colab-df-container\">\n",
              "    <button class=\"colab-df-convert\" onclick=\"convertToInteractive('df-4a4482f5-8dff-4c14-8bfa-d45631663cec')\"\n",
              "            title=\"Convert this dataframe to an interactive table.\"\n",
              "            style=\"display:none;\">\n",
              "\n",
              "  <svg xmlns=\"http://www.w3.org/2000/svg\" height=\"24px\" viewBox=\"0 -960 960 960\">\n",
              "    <path d=\"M120-120v-720h720v720H120Zm60-500h600v-160H180v160Zm220 220h160v-160H400v160Zm0 220h160v-160H400v160ZM180-400h160v-160H180v160Zm440 0h160v-160H620v160ZM180-180h160v-160H180v160Zm440 0h160v-160H620v160Z\"/>\n",
              "  </svg>\n",
              "    </button>\n",
              "\n",
              "  <style>\n",
              "    .colab-df-container {\n",
              "      display:flex;\n",
              "      gap: 12px;\n",
              "    }\n",
              "\n",
              "    .colab-df-convert {\n",
              "      background-color: #E8F0FE;\n",
              "      border: none;\n",
              "      border-radius: 50%;\n",
              "      cursor: pointer;\n",
              "      display: none;\n",
              "      fill: #1967D2;\n",
              "      height: 32px;\n",
              "      padding: 0 0 0 0;\n",
              "      width: 32px;\n",
              "    }\n",
              "\n",
              "    .colab-df-convert:hover {\n",
              "      background-color: #E2EBFA;\n",
              "      box-shadow: 0px 1px 2px rgba(60, 64, 67, 0.3), 0px 1px 3px 1px rgba(60, 64, 67, 0.15);\n",
              "      fill: #174EA6;\n",
              "    }\n",
              "\n",
              "    .colab-df-buttons div {\n",
              "      margin-bottom: 4px;\n",
              "    }\n",
              "\n",
              "    [theme=dark] .colab-df-convert {\n",
              "      background-color: #3B4455;\n",
              "      fill: #D2E3FC;\n",
              "    }\n",
              "\n",
              "    [theme=dark] .colab-df-convert:hover {\n",
              "      background-color: #434B5C;\n",
              "      box-shadow: 0px 1px 3px 1px rgba(0, 0, 0, 0.15);\n",
              "      filter: drop-shadow(0px 1px 2px rgba(0, 0, 0, 0.3));\n",
              "      fill: #FFFFFF;\n",
              "    }\n",
              "  </style>\n",
              "\n",
              "    <script>\n",
              "      const buttonEl =\n",
              "        document.querySelector('#df-4a4482f5-8dff-4c14-8bfa-d45631663cec button.colab-df-convert');\n",
              "      buttonEl.style.display =\n",
              "        google.colab.kernel.accessAllowed ? 'block' : 'none';\n",
              "\n",
              "      async function convertToInteractive(key) {\n",
              "        const element = document.querySelector('#df-4a4482f5-8dff-4c14-8bfa-d45631663cec');\n",
              "        const dataTable =\n",
              "          await google.colab.kernel.invokeFunction('convertToInteractive',\n",
              "                                                    [key], {});\n",
              "        if (!dataTable) return;\n",
              "\n",
              "        const docLinkHtml = 'Like what you see? Visit the ' +\n",
              "          '<a target=\"_blank\" href=https://colab.research.google.com/notebooks/data_table.ipynb>data table notebook</a>'\n",
              "          + ' to learn more about interactive tables.';\n",
              "        element.innerHTML = '';\n",
              "        dataTable['output_type'] = 'display_data';\n",
              "        await google.colab.output.renderOutput(dataTable, element);\n",
              "        const docLink = document.createElement('div');\n",
              "        docLink.innerHTML = docLinkHtml;\n",
              "        element.appendChild(docLink);\n",
              "      }\n",
              "    </script>\n",
              "  </div>\n",
              "\n",
              "\n",
              "<div id=\"df-4c74de57-8980-4bb9-a603-3a6363fb7ad1\">\n",
              "  <button class=\"colab-df-quickchart\" onclick=\"quickchart('df-4c74de57-8980-4bb9-a603-3a6363fb7ad1')\"\n",
              "            title=\"Suggest charts\"\n",
              "            style=\"display:none;\">\n",
              "\n",
              "<svg xmlns=\"http://www.w3.org/2000/svg\" height=\"24px\"viewBox=\"0 0 24 24\"\n",
              "     width=\"24px\">\n",
              "    <g>\n",
              "        <path d=\"M19 3H5c-1.1 0-2 .9-2 2v14c0 1.1.9 2 2 2h14c1.1 0 2-.9 2-2V5c0-1.1-.9-2-2-2zM9 17H7v-7h2v7zm4 0h-2V7h2v10zm4 0h-2v-4h2v4z\"/>\n",
              "    </g>\n",
              "</svg>\n",
              "  </button>\n",
              "\n",
              "<style>\n",
              "  .colab-df-quickchart {\n",
              "      --bg-color: #E8F0FE;\n",
              "      --fill-color: #1967D2;\n",
              "      --hover-bg-color: #E2EBFA;\n",
              "      --hover-fill-color: #174EA6;\n",
              "      --disabled-fill-color: #AAA;\n",
              "      --disabled-bg-color: #DDD;\n",
              "  }\n",
              "\n",
              "  [theme=dark] .colab-df-quickchart {\n",
              "      --bg-color: #3B4455;\n",
              "      --fill-color: #D2E3FC;\n",
              "      --hover-bg-color: #434B5C;\n",
              "      --hover-fill-color: #FFFFFF;\n",
              "      --disabled-bg-color: #3B4455;\n",
              "      --disabled-fill-color: #666;\n",
              "  }\n",
              "\n",
              "  .colab-df-quickchart {\n",
              "    background-color: var(--bg-color);\n",
              "    border: none;\n",
              "    border-radius: 50%;\n",
              "    cursor: pointer;\n",
              "    display: none;\n",
              "    fill: var(--fill-color);\n",
              "    height: 32px;\n",
              "    padding: 0;\n",
              "    width: 32px;\n",
              "  }\n",
              "\n",
              "  .colab-df-quickchart:hover {\n",
              "    background-color: var(--hover-bg-color);\n",
              "    box-shadow: 0 1px 2px rgba(60, 64, 67, 0.3), 0 1px 3px 1px rgba(60, 64, 67, 0.15);\n",
              "    fill: var(--button-hover-fill-color);\n",
              "  }\n",
              "\n",
              "  .colab-df-quickchart-complete:disabled,\n",
              "  .colab-df-quickchart-complete:disabled:hover {\n",
              "    background-color: var(--disabled-bg-color);\n",
              "    fill: var(--disabled-fill-color);\n",
              "    box-shadow: none;\n",
              "  }\n",
              "\n",
              "  .colab-df-spinner {\n",
              "    border: 2px solid var(--fill-color);\n",
              "    border-color: transparent;\n",
              "    border-bottom-color: var(--fill-color);\n",
              "    animation:\n",
              "      spin 1s steps(1) infinite;\n",
              "  }\n",
              "\n",
              "  @keyframes spin {\n",
              "    0% {\n",
              "      border-color: transparent;\n",
              "      border-bottom-color: var(--fill-color);\n",
              "      border-left-color: var(--fill-color);\n",
              "    }\n",
              "    20% {\n",
              "      border-color: transparent;\n",
              "      border-left-color: var(--fill-color);\n",
              "      border-top-color: var(--fill-color);\n",
              "    }\n",
              "    30% {\n",
              "      border-color: transparent;\n",
              "      border-left-color: var(--fill-color);\n",
              "      border-top-color: var(--fill-color);\n",
              "      border-right-color: var(--fill-color);\n",
              "    }\n",
              "    40% {\n",
              "      border-color: transparent;\n",
              "      border-right-color: var(--fill-color);\n",
              "      border-top-color: var(--fill-color);\n",
              "    }\n",
              "    60% {\n",
              "      border-color: transparent;\n",
              "      border-right-color: var(--fill-color);\n",
              "    }\n",
              "    80% {\n",
              "      border-color: transparent;\n",
              "      border-right-color: var(--fill-color);\n",
              "      border-bottom-color: var(--fill-color);\n",
              "    }\n",
              "    90% {\n",
              "      border-color: transparent;\n",
              "      border-bottom-color: var(--fill-color);\n",
              "    }\n",
              "  }\n",
              "</style>\n",
              "\n",
              "  <script>\n",
              "    async function quickchart(key) {\n",
              "      const quickchartButtonEl =\n",
              "        document.querySelector('#' + key + ' button');\n",
              "      quickchartButtonEl.disabled = true;  // To prevent multiple clicks.\n",
              "      quickchartButtonEl.classList.add('colab-df-spinner');\n",
              "      try {\n",
              "        const charts = await google.colab.kernel.invokeFunction(\n",
              "            'suggestCharts', [key], {});\n",
              "      } catch (error) {\n",
              "        console.error('Error during call to suggestCharts:', error);\n",
              "      }\n",
              "      quickchartButtonEl.classList.remove('colab-df-spinner');\n",
              "      quickchartButtonEl.classList.add('colab-df-quickchart-complete');\n",
              "    }\n",
              "    (() => {\n",
              "      let quickchartButtonEl =\n",
              "        document.querySelector('#df-4c74de57-8980-4bb9-a603-3a6363fb7ad1 button');\n",
              "      quickchartButtonEl.style.display =\n",
              "        google.colab.kernel.accessAllowed ? 'block' : 'none';\n",
              "    })();\n",
              "  </script>\n",
              "</div>\n",
              "\n",
              "  <div id=\"id_f6a9b27d-fab1-4471-97d4-df2aba2485d9\">\n",
              "    <style>\n",
              "      .colab-df-generate {\n",
              "        background-color: #E8F0FE;\n",
              "        border: none;\n",
              "        border-radius: 50%;\n",
              "        cursor: pointer;\n",
              "        display: none;\n",
              "        fill: #1967D2;\n",
              "        height: 32px;\n",
              "        padding: 0 0 0 0;\n",
              "        width: 32px;\n",
              "      }\n",
              "\n",
              "      .colab-df-generate:hover {\n",
              "        background-color: #E2EBFA;\n",
              "        box-shadow: 0px 1px 2px rgba(60, 64, 67, 0.3), 0px 1px 3px 1px rgba(60, 64, 67, 0.15);\n",
              "        fill: #174EA6;\n",
              "      }\n",
              "\n",
              "      [theme=dark] .colab-df-generate {\n",
              "        background-color: #3B4455;\n",
              "        fill: #D2E3FC;\n",
              "      }\n",
              "\n",
              "      [theme=dark] .colab-df-generate:hover {\n",
              "        background-color: #434B5C;\n",
              "        box-shadow: 0px 1px 3px 1px rgba(0, 0, 0, 0.15);\n",
              "        filter: drop-shadow(0px 1px 2px rgba(0, 0, 0, 0.3));\n",
              "        fill: #FFFFFF;\n",
              "      }\n",
              "    </style>\n",
              "    <button class=\"colab-df-generate\" onclick=\"generateWithVariable('df_rankings')\"\n",
              "            title=\"Generate code using this dataframe.\"\n",
              "            style=\"display:none;\">\n",
              "\n",
              "  <svg xmlns=\"http://www.w3.org/2000/svg\" height=\"24px\"viewBox=\"0 0 24 24\"\n",
              "       width=\"24px\">\n",
              "    <path d=\"M7,19H8.4L18.45,9,17,7.55,7,17.6ZM5,21V16.75L18.45,3.32a2,2,0,0,1,2.83,0l1.4,1.43a1.91,1.91,0,0,1,.58,1.4,1.91,1.91,0,0,1-.58,1.4L9.25,21ZM18.45,9,17,7.55Zm-12,3A5.31,5.31,0,0,0,4.9,8.1,5.31,5.31,0,0,0,1,6.5,5.31,5.31,0,0,0,4.9,4.9,5.31,5.31,0,0,0,6.5,1,5.31,5.31,0,0,0,8.1,4.9,5.31,5.31,0,0,0,12,6.5,5.46,5.46,0,0,0,6.5,12Z\"/>\n",
              "  </svg>\n",
              "    </button>\n",
              "    <script>\n",
              "      (() => {\n",
              "      const buttonEl =\n",
              "        document.querySelector('#id_f6a9b27d-fab1-4471-97d4-df2aba2485d9 button.colab-df-generate');\n",
              "      buttonEl.style.display =\n",
              "        google.colab.kernel.accessAllowed ? 'block' : 'none';\n",
              "\n",
              "      buttonEl.onclick = () => {\n",
              "        google.colab.notebook.generateWithVariable('df_rankings');\n",
              "      }\n",
              "      })();\n",
              "    </script>\n",
              "  </div>\n",
              "\n",
              "    </div>\n",
              "  </div>\n"
            ],
            "application/vnd.google.colaboratory.intrinsic+json": {
              "type": "dataframe",
              "variable_name": "df_rankings",
              "summary": "{\n  \"name\": \"df_rankings\",\n  \"rows\": 10,\n  \"fields\": [\n    {\n      \"column\": \"TF-IDF\",\n      \"properties\": {\n        \"dtype\": \"number\",\n        \"std\": 3,\n        \"min\": 1,\n        \"max\": 10,\n        \"num_unique_values\": 10,\n        \"samples\": [\n          8,\n          2,\n          5\n        ],\n        \"semantic_type\": \"\",\n        \"description\": \"\"\n      }\n    },\n    {\n      \"column\": \"Bigram TF-IDF\",\n      \"properties\": {\n        \"dtype\": \"number\",\n        \"std\": 3,\n        \"min\": 1,\n        \"max\": 10,\n        \"num_unique_values\": 10,\n        \"samples\": [\n          10,\n          5,\n          4\n        ],\n        \"semantic_type\": \"\",\n        \"description\": \"\"\n      }\n    },\n    {\n      \"column\": \"Word2Vec\",\n      \"properties\": {\n        \"dtype\": \"number\",\n        \"std\": 3,\n        \"min\": 1,\n        \"max\": 10,\n        \"num_unique_values\": 10,\n        \"samples\": [\n          10,\n          5,\n          4\n        ],\n        \"semantic_type\": \"\",\n        \"description\": \"\"\n      }\n    },\n    {\n      \"column\": \"Train Word2Vec\",\n      \"properties\": {\n        \"dtype\": \"number\",\n        \"std\": 3,\n        \"min\": 1,\n        \"max\": 10,\n        \"num_unique_values\": 10,\n        \"samples\": [\n          10,\n          5,\n          4\n        ],\n        \"semantic_type\": \"\",\n        \"description\": \"\"\n      }\n    },\n    {\n      \"column\": \"BERT\",\n      \"properties\": {\n        \"dtype\": \"number\",\n        \"std\": 3,\n        \"min\": 1,\n        \"max\": 10,\n        \"num_unique_values\": 10,\n        \"samples\": [\n          4,\n          6,\n          10\n        ],\n        \"semantic_type\": \"\",\n        \"description\": \"\"\n      }\n    }\n  ]\n}"
            }
          },
          "metadata": {},
          "execution_count": 70
        }
      ]
    },
    {
      "cell_type": "code",
      "source": [
        "import matplotlib.pyplot as plt\n",
        "from sklearn.metrics import precision_recall_curve, auc\n",
        "import numpy as np\n",
        "from sklearn.metrics.pairwise import cosine_similarity\n",
        "\n",
        "# Assume ground truth is a binary relevance list (1 for relevant, 0 for not relevant)\n",
        "ground_truth = np.array(corpus_relevancy_label)\n",
        "\n",
        "# Function to calculate Precision-Recall curve and AUPRC\n",
        "def plot_precision_recall_curve(ground_truth, ranking_scores, method_name):\n",
        "    precision, recall, _ = precision_recall_curve(ground_truth, ranking_scores)\n",
        "    pr_auc = auc(recall, precision)\n",
        "\n",
        "    plt.plot(recall, precision, label=f'{method_name} (AUPRC = {pr_auc:.4f})')\n",
        "\n",
        "# Normalize scores if necessary\n",
        "def normalize_scores(scores):\n",
        "    min_score = min(scores)\n",
        "    max_score = max(scores)\n",
        "    if max_score == min_score:\n",
        "        return [0.5 for _ in scores]  # Handle edge case where all scores are the same\n",
        "    return [(score - min_score) / (max_score - min_score) for score in scores]\n",
        "\n",
        "# Check the score distributions for each method\n",
        "ranking_scores_tfidf = normalize_scores([score for _, score in rankings_tfidf])\n",
        "ranking_scores_bigram = normalize_scores([score for _, score in rankings_bigram])\n",
        "ranking_scores_word2vec = normalize_scores([score for _, score in rankings_word2vec])\n",
        "ranking_scores_trainword2vec = normalize_scores([score for _, score in rankings_trainword2vec])\n",
        "ranking_scores_bert = normalize_scores([score for _, score in rankings_bert])\n",
        "\n",
        "# Print distributions to check the score ranges\n",
        "print(\"TF-IDF Scores:\", ranking_scores_tfidf)\n",
        "print(\"Bigram TF-IDF Scores:\", ranking_scores_bigram)\n",
        "print(\"Word2Vec Scores:\", ranking_scores_word2vec)\n",
        "print(\"Trained Word2Vec Scores:\", ranking_scores_trainword2vec)\n",
        "print(\"BERT Scores:\", ranking_scores_bert)\n",
        "\n",
        "# Plot Precision-Recall curves\n",
        "plt.figure(figsize=(10, 8))\n",
        "\n",
        "plot_precision_recall_curve(ground_truth, ranking_scores_tfidf, 'TF-IDF')\n",
        "plot_precision_recall_curve(ground_truth, ranking_scores_bigram, 'Bigram TF-IDF')\n",
        "plot_precision_recall_curve(ground_truth, ranking_scores_word2vec, 'Word2Vec')\n",
        "plot_precision_recall_curve(ground_truth, ranking_scores_trainword2vec, 'Trained Word2Vec')\n",
        "plot_precision_recall_curve(ground_truth, ranking_scores_bert, 'BERT')\n",
        "\n",
        "# Chart settings\n",
        "plt.xlabel('Recall')\n",
        "plt.ylabel('Precision')\n",
        "plt.title('Precision-Recall Curve for Different Methods')\n",
        "plt.legend(loc='best')\n",
        "plt.grid(True)\n",
        "\n",
        "# Show the plot\n",
        "plt.show()\n"
      ],
      "metadata": {
        "colab": {
          "base_uri": "https://localhost:8080/",
          "height": 805
        },
        "id": "DicD85AgcjAH",
        "outputId": "c2de4c69-8fd6-4de4-9386-a7f3b29944c4"
      },
      "id": "DicD85AgcjAH",
      "execution_count": null,
      "outputs": [
        {
          "output_type": "stream",
          "name": "stdout",
          "text": [
            "TF-IDF Scores: [1.0, 0.5338633422885879, 0.5024482221183931, 0.0, 0.0, 0.0, 0.0, 0.0, 0.0, 0.0]\n",
            "Bigram TF-IDF Scores: [1.0, 0.9488522, 0.8144993, 0.5416301, 0.49018946, 0.41270798, 0.31725183, 0.20526347, 0.18831113, 0.0]\n",
            "Word2Vec Scores: [1.0, 0.9488522, 0.8144993, 0.5416301, 0.49018946, 0.41270798, 0.31725183, 0.20526347, 0.18831113, 0.0]\n",
            "Trained Word2Vec Scores: [1.0, 0.9488522, 0.8144993, 0.5416301, 0.49018946, 0.41270798, 0.31725183, 0.20526347, 0.18831113, 0.0]\n",
            "BERT Scores: [1.0, 0.78922707, 0.7741356, 0.7673348, 0.7550664, 0.66923755, 0.4469951, 0.34234264, 0.33168167, 0.0]\n"
          ]
        },
        {
          "output_type": "display_data",
          "data": {
            "text/plain": [
              "<Figure size 1000x800 with 1 Axes>"
            ],
            "image/png": "[encoded data removed]"
          },
          "metadata": {}
        }
      ]
    },
    {
      "cell_type": "markdown",
      "id": "7c642674-534b-4ce3-b5d7-3d0f2a22ebe8",
      "metadata": {
        "id": "7c642674-534b-4ce3-b5d7-3d0f2a22ebe8"
      },
      "source": [
        "## 💻 Assignment Submission 💻\n",
        "Write your code and display the results in this Jupyter Notebook. Then, export it as an HTML file and submit both the Jupyter Notebook and the HTML file to Cyber University. </br>\n",
        "**Please ensure that the code is executed and the outputs are visible when exporting the HTML file.**"
      ]
    }
  ],
  "metadata": {
    "kernelspec": {
      "display_name": "Python 3 (ipykernel)",
      "language": "python",
      "name": "python3"
    },
    "language_info": {
      "codemirror_mode": {
        "name": "ipython",
        "version": 3
      },
      "file_extension": ".py",
      "mimetype": "text/x-python",
      "name": "python",
      "nbconvert_exporter": "python",
      "pygments_lexer": "ipython3",
      "version": "3.11.4"
    },
    "colab": {
      "provenance": [],
      "include_colab_link": true
    },
    "widgets": {
      "application/vnd.jupyter.widget-state+json": {
        "dad4d67ccff1476aa68e81744da2ac82": {
          "model_module": "@jupyter-widgets/controls",
          "model_name": "HBoxModel",
          "model_module_version": "1.5.0",
          "state": {
            "_dom_classes": [],
            "_model_module": "@jupyter-widgets/controls",
            "_model_module_version": "1.5.0",
            "_model_name": "HBoxModel",
            "_view_count": null,
            "_view_module": "@jupyter-widgets/controls",
            "_view_module_version": "1.5.0",
            "_view_name": "HBoxView",
            "box_style": "",
            "children": [
              "IPY_MODEL_f075f330eb4a4fee9639e2c70ba2d016",
              "IPY_MODEL_6bdcde44982d4f19ac7c5d171fd58fec",
              "IPY_MODEL_7c839d98978c4a9d95f4666b7ae56b5f"
            ],
            "layout": "IPY_MODEL_2337bc9912604535a51a7310f213b4e0"
          }
        },
        "f075f330eb4a4fee9639e2c70ba2d016": {
          "model_module": "@jupyter-widgets/controls",
          "model_name": "HTMLModel",
          "model_module_version": "1.5.0",
          "state": {
            "_dom_classes": [],
            "_model_module": "@jupyter-widgets/controls",
            "_model_module_version": "1.5.0",
            "_model_name": "HTMLModel",
            "_view_count": null,
            "_view_module": "@jupyter-widgets/controls",
            "_view_module_version": "1.5.0",
            "_view_name": "HTMLView",
            "description": "",
            "description_tooltip": null,
            "layout": "IPY_MODEL_67452afa2f3a4225b56b93d93b4407bd",
            "placeholder": "​",
            "style": "IPY_MODEL_56d3d6fb0a124a85b8e9fe6a16fd28a6",
            "value": "tokenizer_config.json: 100%"
          }
        },
        "6bdcde44982d4f19ac7c5d171fd58fec": {
          "model_module": "@jupyter-widgets/controls",
          "model_name": "FloatProgressModel",
          "model_module_version": "1.5.0",
          "state": {
            "_dom_classes": [],
            "_model_module": "@jupyter-widgets/controls",
            "_model_module_version": "1.5.0",
            "_model_name": "FloatProgressModel",
            "_view_count": null,
            "_view_module": "@jupyter-widgets/controls",
            "_view_module_version": "1.5.0",
            "_view_name": "ProgressView",
            "bar_style": "success",
            "description": "",
            "description_tooltip": null,
            "layout": "IPY_MODEL_7a9e839ac8af48c69ae4197040473cbb",
            "max": 48,
            "min": 0,
            "orientation": "horizontal",
            "style": "IPY_MODEL_319fc893bb7945b8abb13651bae11f9a",
            "value": 48
          }
        },
        "7c839d98978c4a9d95f4666b7ae56b5f": {
          "model_module": "@jupyter-widgets/controls",
          "model_name": "HTMLModel",
          "model_module_version": "1.5.0",
          "state": {
            "_dom_classes": [],
            "_model_module": "@jupyter-widgets/controls",
            "_model_module_version": "1.5.0",
            "_model_name": "HTMLModel",
            "_view_count": null,
            "_view_module": "@jupyter-widgets/controls",
            "_view_module_version": "1.5.0",
            "_view_name": "HTMLView",
            "description": "",
            "description_tooltip": null,
            "layout": "IPY_MODEL_9138375cd34e407eab579bd24e8cb673",
            "placeholder": "​",
            "style": "IPY_MODEL_9244faa54f03456b8adc4a860022d157",
            "value": " 48.0/48.0 [00:00&lt;00:00, 1.80kB/s]"
          }
        },
        "2337bc9912604535a51a7310f213b4e0": {
          "model_module": "@jupyter-widgets/base",
          "model_name": "LayoutModel",
          "model_module_version": "1.2.0",
          "state": {
            "_model_module": "@jupyter-widgets/base",
            "_model_module_version": "1.2.0",
            "_model_name": "LayoutModel",
            "_view_count": null,
            "_view_module": "@jupyter-widgets/base",
            "_view_module_version": "1.2.0",
            "_view_name": "LayoutView",
            "align_content": null,
            "align_items": null,
            "align_self": null,
            "border": null,
            "bottom": null,
            "display": null,
            "flex": null,
            "flex_flow": null,
            "grid_area": null,
            "grid_auto_columns": null,
            "grid_auto_flow": null,
            "grid_auto_rows": null,
            "grid_column": null,
            "grid_gap": null,
            "grid_row": null,
            "grid_template_areas": null,
            "grid_template_columns": null,
            "grid_template_rows": null,
            "height": null,
            "justify_content": null,
            "justify_items": null,
            "left": null,
            "margin": null,
            "max_height": null,
            "max_width": null,
            "min_height": null,
            "min_width": null,
            "object_fit": null,
            "object_position": null,
            "order": null,
            "overflow": null,
            "overflow_x": null,
            "overflow_y": null,
            "padding": null,
            "right": null,
            "top": null,
            "visibility": null,
            "width": null
          }
        },
        "67452afa2f3a4225b56b93d93b4407bd": {
          "model_module": "@jupyter-widgets/base",
          "model_name": "LayoutModel",
          "model_module_version": "1.2.0",
          "state": {
            "_model_module": "@jupyter-widgets/base",
            "_model_module_version": "1.2.0",
            "_model_name": "LayoutModel",
            "_view_count": null,
            "_view_module": "@jupyter-widgets/base",
            "_view_module_version": "1.2.0",
            "_view_name": "LayoutView",
            "align_content": null,
            "align_items": null,
            "align_self": null,
            "border": null,
            "bottom": null,
            "display": null,
            "flex": null,
            "flex_flow": null,
            "grid_area": null,
            "grid_auto_columns": null,
            "grid_auto_flow": null,
            "grid_auto_rows": null,
            "grid_column": null,
            "grid_gap": null,
            "grid_row": null,
            "grid_template_areas": null,
            "grid_template_columns": null,
            "grid_template_rows": null,
            "height": null,
            "justify_content": null,
            "justify_items": null,
            "left": null,
            "margin": null,
            "max_height": null,
            "max_width": null,
            "min_height": null,
            "min_width": null,
            "object_fit": null,
            "object_position": null,
            "order": null,
            "overflow": null,
            "overflow_x": null,
            "overflow_y": null,
            "padding": null,
            "right": null,
            "top": null,
            "visibility": null,
            "width": null
          }
        },
        "56d3d6fb0a124a85b8e9fe6a16fd28a6": {
          "model_module": "@jupyter-widgets/controls",
          "model_name": "DescriptionStyleModel",
          "model_module_version": "1.5.0",
          "state": {
            "_model_module": "@jupyter-widgets/controls",
            "_model_module_version": "1.5.0",
            "_model_name": "DescriptionStyleModel",
            "_view_count": null,
            "_view_module": "@jupyter-widgets/base",
            "_view_module_version": "1.2.0",
            "_view_name": "StyleView",
            "description_width": ""
          }
        },
        "7a9e839ac8af48c69ae4197040473cbb": {
          "model_module": "@jupyter-widgets/base",
          "model_name": "LayoutModel",
          "model_module_version": "1.2.0",
          "state": {
            "_model_module": "@jupyter-widgets/base",
            "_model_module_version": "1.2.0",
            "_model_name": "LayoutModel",
            "_view_count": null,
            "_view_module": "@jupyter-widgets/base",
            "_view_module_version": "1.2.0",
            "_view_name": "LayoutView",
            "align_content": null,
            "align_items": null,
            "align_self": null,
            "border": null,
            "bottom": null,
            "display": null,
            "flex": null,
            "flex_flow": null,
            "grid_area": null,
            "grid_auto_columns": null,
            "grid_auto_flow": null,
            "grid_auto_rows": null,
            "grid_column": null,
            "grid_gap": null,
            "grid_row": null,
            "grid_template_areas": null,
            "grid_template_columns": null,
            "grid_template_rows": null,
            "height": null,
            "justify_content": null,
            "justify_items": null,
            "left": null,
            "margin": null,
            "max_height": null,
            "max_width": null,
            "min_height": null,
            "min_width": null,
            "object_fit": null,
            "object_position": null,
            "order": null,
            "overflow": null,
            "overflow_x": null,
            "overflow_y": null,
            "padding": null,
            "right": null,
            "top": null,
            "visibility": null,
            "width": null
          }
        },
        "319fc893bb7945b8abb13651bae11f9a": {
          "model_module": "@jupyter-widgets/controls",
          "model_name": "ProgressStyleModel",
          "model_module_version": "1.5.0",
          "state": {
            "_model_module": "@jupyter-widgets/controls",
            "_model_module_version": "1.5.0",
            "_model_name": "ProgressStyleModel",
            "_view_count": null,
            "_view_module": "@jupyter-widgets/base",
            "_view_module_version": "1.2.0",
            "_view_name": "StyleView",
            "bar_color": null,
            "description_width": ""
          }
        },
        "9138375cd34e407eab579bd24e8cb673": {
          "model_module": "@jupyter-widgets/base",
          "model_name": "LayoutModel",
          "model_module_version": "1.2.0",
          "state": {
            "_model_module": "@jupyter-widgets/base",
            "_model_module_version": "1.2.0",
            "_model_name": "LayoutModel",
            "_view_count": null,
            "_view_module": "@jupyter-widgets/base",
            "_view_module_version": "1.2.0",
            "_view_name": "LayoutView",
            "align_content": null,
            "align_items": null,
            "align_self": null,
            "border": null,
            "bottom": null,
            "display": null,
            "flex": null,
            "flex_flow": null,
            "grid_area": null,
            "grid_auto_columns": null,
            "grid_auto_flow": null,
            "grid_auto_rows": null,
            "grid_column": null,
            "grid_gap": null,
            "grid_row": null,
            "grid_template_areas": null,
            "grid_template_columns": null,
            "grid_template_rows": null,
            "height": null,
            "justify_content": null,
            "justify_items": null,
            "left": null,
            "margin": null,
            "max_height": null,
            "max_width": null,
            "min_height": null,
            "min_width": null,
            "object_fit": null,
            "object_position": null,
            "order": null,
            "overflow": null,
            "overflow_x": null,
            "overflow_y": null,
            "padding": null,
            "right": null,
            "top": null,
            "visibility": null,
            "width": null
          }
        },
        "9244faa54f03456b8adc4a860022d157": {
          "model_module": "@jupyter-widgets/controls",
          "model_name": "DescriptionStyleModel",
          "model_module_version": "1.5.0",
          "state": {
            "_model_module": "@jupyter-widgets/controls",
            "_model_module_version": "1.5.0",
            "_model_name": "DescriptionStyleModel",
            "_view_count": null,
            "_view_module": "@jupyter-widgets/base",
            "_view_module_version": "1.2.0",
            "_view_name": "StyleView",
            "description_width": ""
          }
        },
        "82e32450cc634ef791c8b59e05c3e099": {
          "model_module": "@jupyter-widgets/controls",
          "model_name": "HBoxModel",
          "model_module_version": "1.5.0",
          "state": {
            "_dom_classes": [],
            "_model_module": "@jupyter-widgets/controls",
            "_model_module_version": "1.5.0",
            "_model_name": "HBoxModel",
            "_view_count": null,
            "_view_module": "@jupyter-widgets/controls",
            "_view_module_version": "1.5.0",
            "_view_name": "HBoxView",
            "box_style": "",
            "children": [
              "IPY_MODEL_d39cc793f8a94a1f89b2fbe5f7cb24fd",
              "IPY_MODEL_eb3cea2557b547d8afdfd6cc2fbb1373",
              "IPY_MODEL_ddf733c030604cf38f46984e7907235f"
            ],
            "layout": "IPY_MODEL_f794967c97dd47fea9ce5e4fd49ab1c6"
          }
        },
        "d39cc793f8a94a1f89b2fbe5f7cb24fd": {
          "model_module": "@jupyter-widgets/controls",
          "model_name": "HTMLModel",
          "model_module_version": "1.5.0",
          "state": {
            "_dom_classes": [],
            "_model_module": "@jupyter-widgets/controls",
            "_model_module_version": "1.5.0",
            "_model_name": "HTMLModel",
            "_view_count": null,
            "_view_module": "@jupyter-widgets/controls",
            "_view_module_version": "1.5.0",
            "_view_name": "HTMLView",
            "description": "",
            "description_tooltip": null,
            "layout": "IPY_MODEL_85fc19516c5e48ef9d39b1fa04cd7c92",
            "placeholder": "​",
            "style": "IPY_MODEL_8abab5c31f674264a80826e876951c2e",
            "value": "vocab.txt: 100%"
          }
        },
        "eb3cea2557b547d8afdfd6cc2fbb1373": {
          "model_module": "@jupyter-widgets/controls",
          "model_name": "FloatProgressModel",
          "model_module_version": "1.5.0",
          "state": {
            "_dom_classes": [],
            "_model_module": "@jupyter-widgets/controls",
            "_model_module_version": "1.5.0",
            "_model_name": "FloatProgressModel",
            "_view_count": null,
            "_view_module": "@jupyter-widgets/controls",
            "_view_module_version": "1.5.0",
            "_view_name": "ProgressView",
            "bar_style": "success",
            "description": "",
            "description_tooltip": null,
            "layout": "IPY_MODEL_a4695480d2b0401d8293f52f4f3f7ebd",
            "max": 231508,
            "min": 0,
            "orientation": "horizontal",
            "style": "IPY_MODEL_dd34fbc8b3da4f5991d66b17fde38b42",
            "value": 231508
          }
        },
        "ddf733c030604cf38f46984e7907235f": {
          "model_module": "@jupyter-widgets/controls",
          "model_name": "HTMLModel",
          "model_module_version": "1.5.0",
          "state": {
            "_dom_classes": [],
            "_model_module": "@jupyter-widgets/controls",
            "_model_module_version": "1.5.0",
            "_model_name": "HTMLModel",
            "_view_count": null,
            "_view_module": "@jupyter-widgets/controls",
            "_view_module_version": "1.5.0",
            "_view_name": "HTMLView",
            "description": "",
            "description_tooltip": null,
            "layout": "IPY_MODEL_b10f64084fe543dfa9e7994b5b9bf6d3",
            "placeholder": "​",
            "style": "IPY_MODEL_6c7185738b0248a085fff12d3665f734",
            "value": " 232k/232k [00:00&lt;00:00, 650kB/s]"
          }
        },
        "f794967c97dd47fea9ce5e4fd49ab1c6": {
          "model_module": "@jupyter-widgets/base",
          "model_name": "LayoutModel",
          "model_module_version": "1.2.0",
          "state": {
            "_model_module": "@jupyter-widgets/base",
            "_model_module_version": "1.2.0",
            "_model_name": "LayoutModel",
            "_view_count": null,
            "_view_module": "@jupyter-widgets/base",
            "_view_module_version": "1.2.0",
            "_view_name": "LayoutView",
            "align_content": null,
            "align_items": null,
            "align_self": null,
            "border": null,
            "bottom": null,
            "display": null,
            "flex": null,
            "flex_flow": null,
            "grid_area": null,
            "grid_auto_columns": null,
            "grid_auto_flow": null,
            "grid_auto_rows": null,
            "grid_column": null,
            "grid_gap": null,
            "grid_row": null,
            "grid_template_areas": null,
            "grid_template_columns": null,
            "grid_template_rows": null,
            "height": null,
            "justify_content": null,
            "justify_items": null,
            "left": null,
            "margin": null,
            "max_height": null,
            "max_width": null,
            "min_height": null,
            "min_width": null,
            "object_fit": null,
            "object_position": null,
            "order": null,
            "overflow": null,
            "overflow_x": null,
            "overflow_y": null,
            "padding": null,
            "right": null,
            "top": null,
            "visibility": null,
            "width": null
          }
        },
        "85fc19516c5e48ef9d39b1fa04cd7c92": {
          "model_module": "@jupyter-widgets/base",
          "model_name": "LayoutModel",
          "model_module_version": "1.2.0",
          "state": {
            "_model_module": "@jupyter-widgets/base",
            "_model_module_version": "1.2.0",
            "_model_name": "LayoutModel",
            "_view_count": null,
            "_view_module": "@jupyter-widgets/base",
            "_view_module_version": "1.2.0",
            "_view_name": "LayoutView",
            "align_content": null,
            "align_items": null,
            "align_self": null,
            "border": null,
            "bottom": null,
            "display": null,
            "flex": null,
            "flex_flow": null,
            "grid_area": null,
            "grid_auto_columns": null,
            "grid_auto_flow": null,
            "grid_auto_rows": null,
            "grid_column": null,
            "grid_gap": null,
            "grid_row": null,
            "grid_template_areas": null,
            "grid_template_columns": null,
            "grid_template_rows": null,
            "height": null,
            "justify_content": null,
            "justify_items": null,
            "left": null,
            "margin": null,
            "max_height": null,
            "max_width": null,
            "min_height": null,
            "min_width": null,
            "object_fit": null,
            "object_position": null,
            "order": null,
            "overflow": null,
            "overflow_x": null,
            "overflow_y": null,
            "padding": null,
            "right": null,
            "top": null,
            "visibility": null,
            "width": null
          }
        },
        "8abab5c31f674264a80826e876951c2e": {
          "model_module": "@jupyter-widgets/controls",
          "model_name": "DescriptionStyleModel",
          "model_module_version": "1.5.0",
          "state": {
            "_model_module": "@jupyter-widgets/controls",
            "_model_module_version": "1.5.0",
            "_model_name": "DescriptionStyleModel",
            "_view_count": null,
            "_view_module": "@jupyter-widgets/base",
            "_view_module_version": "1.2.0",
            "_view_name": "StyleView",
            "description_width": ""
          }
        },
        "a4695480d2b0401d8293f52f4f3f7ebd": {
          "model_module": "@jupyter-widgets/base",
          "model_name": "LayoutModel",
          "model_module_version": "1.2.0",
          "state": {
            "_model_module": "@jupyter-widgets/base",
            "_model_module_version": "1.2.0",
            "_model_name": "LayoutModel",
            "_view_count": null,
            "_view_module": "@jupyter-widgets/base",
            "_view_module_version": "1.2.0",
            "_view_name": "LayoutView",
            "align_content": null,
            "align_items": null,
            "align_self": null,
            "border": null,
            "bottom": null,
            "display": null,
            "flex": null,
            "flex_flow": null,
            "grid_area": null,
            "grid_auto_columns": null,
            "grid_auto_flow": null,
            "grid_auto_rows": null,
            "grid_column": null,
            "grid_gap": null,
            "grid_row": null,
            "grid_template_areas": null,
            "grid_template_columns": null,
            "grid_template_rows": null,
            "height": null,
            "justify_content": null,
            "justify_items": null,
            "left": null,
            "margin": null,
            "max_height": null,
            "max_width": null,
            "min_height": null,
            "min_width": null,
            "object_fit": null,
            "object_position": null,
            "order": null,
            "overflow": null,
            "overflow_x": null,
            "overflow_y": null,
            "padding": null,
            "right": null,
            "top": null,
            "visibility": null,
            "width": null
          }
        },
        "dd34fbc8b3da4f5991d66b17fde38b42": {
          "model_module": "@jupyter-widgets/controls",
          "model_name": "ProgressStyleModel",
          "model_module_version": "1.5.0",
          "state": {
            "_model_module": "@jupyter-widgets/controls",
            "_model_module_version": "1.5.0",
            "_model_name": "ProgressStyleModel",
            "_view_count": null,
            "_view_module": "@jupyter-widgets/base",
            "_view_module_version": "1.2.0",
            "_view_name": "StyleView",
            "bar_color": null,
            "description_width": ""
          }
        },
        "b10f64084fe543dfa9e7994b5b9bf6d3": {
          "model_module": "@jupyter-widgets/base",
          "model_name": "LayoutModel",
          "model_module_version": "1.2.0",
          "state": {
            "_model_module": "@jupyter-widgets/base",
            "_model_module_version": "1.2.0",
            "_model_name": "LayoutModel",
            "_view_count": null,
            "_view_module": "@jupyter-widgets/base",
            "_view_module_version": "1.2.0",
            "_view_name": "LayoutView",
            "align_content": null,
            "align_items": null,
            "align_self": null,
            "border": null,
            "bottom": null,
            "display": null,
            "flex": null,
            "flex_flow": null,
            "grid_area": null,
            "grid_auto_columns": null,
            "grid_auto_flow": null,
            "grid_auto_rows": null,
            "grid_column": null,
            "grid_gap": null,
            "grid_row": null,
            "grid_template_areas": null,
            "grid_template_columns": null,
            "grid_template_rows": null,
            "height": null,
            "justify_content": null,
            "justify_items": null,
            "left": null,
            "margin": null,
            "max_height": null,
            "max_width": null,
            "min_height": null,
            "min_width": null,
            "object_fit": null,
            "object_position": null,
            "order": null,
            "overflow": null,
            "overflow_x": null,
            "overflow_y": null,
            "padding": null,
            "right": null,
            "top": null,
            "visibility": null,
            "width": null
          }
        },
        "6c7185738b0248a085fff12d3665f734": {
          "model_module": "@jupyter-widgets/controls",
          "model_name": "DescriptionStyleModel",
          "model_module_version": "1.5.0",
          "state": {
            "_model_module": "@jupyter-widgets/controls",
            "_model_module_version": "1.5.0",
            "_model_name": "DescriptionStyleModel",
            "_view_count": null,
            "_view_module": "@jupyter-widgets/base",
            "_view_module_version": "1.2.0",
            "_view_name": "StyleView",
            "description_width": ""
          }
        },
        "2e3e0d74dd404f16a674d0152ffc41da": {
          "model_module": "@jupyter-widgets/controls",
          "model_name": "HBoxModel",
          "model_module_version": "1.5.0",
          "state": {
            "_dom_classes": [],
            "_model_module": "@jupyter-widgets/controls",
            "_model_module_version": "1.5.0",
            "_model_name": "HBoxModel",
            "_view_count": null,
            "_view_module": "@jupyter-widgets/controls",
            "_view_module_version": "1.5.0",
            "_view_name": "HBoxView",
            "box_style": "",
            "children": [
              "IPY_MODEL_5219677f732a4b75b4df66844401d24a",
              "IPY_MODEL_d886a6f494bf4688a97a47e5733afee3",
              "IPY_MODEL_2ac3342fdc9d47759ba10eee6d4f31ab"
            ],
            "layout": "IPY_MODEL_bcfb7b2e67a5408492d3fea0110e48e3"
          }
        },
        "5219677f732a4b75b4df66844401d24a": {
          "model_module": "@jupyter-widgets/controls",
          "model_name": "HTMLModel",
          "model_module_version": "1.5.0",
          "state": {
            "_dom_classes": [],
            "_model_module": "@jupyter-widgets/controls",
            "_model_module_version": "1.5.0",
            "_model_name": "HTMLModel",
            "_view_count": null,
            "_view_module": "@jupyter-widgets/controls",
            "_view_module_version": "1.5.0",
            "_view_name": "HTMLView",
            "description": "",
            "description_tooltip": null,
            "layout": "IPY_MODEL_5749344b81a140359ec43bb917d594f9",
            "placeholder": "​",
            "style": "IPY_MODEL_486e7600d5d94d08a246472276809cc8",
            "value": "tokenizer.json: 100%"
          }
        },
        "d886a6f494bf4688a97a47e5733afee3": {
          "model_module": "@jupyter-widgets/controls",
          "model_name": "FloatProgressModel",
          "model_module_version": "1.5.0",
          "state": {
            "_dom_classes": [],
            "_model_module": "@jupyter-widgets/controls",
            "_model_module_version": "1.5.0",
            "_model_name": "FloatProgressModel",
            "_view_count": null,
            "_view_module": "@jupyter-widgets/controls",
            "_view_module_version": "1.5.0",
            "_view_name": "ProgressView",
            "bar_style": "success",
            "description": "",
            "description_tooltip": null,
            "layout": "IPY_MODEL_f7c0819d3d4c47fcbb2f4de0bd77a463",
            "max": 466062,
            "min": 0,
            "orientation": "horizontal",
            "style": "IPY_MODEL_82b83b39098e4e19a867e4eb67791939",
            "value": 466062
          }
        },
        "2ac3342fdc9d47759ba10eee6d4f31ab": {
          "model_module": "@jupyter-widgets/controls",
          "model_name": "HTMLModel",
          "model_module_version": "1.5.0",
          "state": {
            "_dom_classes": [],
            "_model_module": "@jupyter-widgets/controls",
            "_model_module_version": "1.5.0",
            "_model_name": "HTMLModel",
            "_view_count": null,
            "_view_module": "@jupyter-widgets/controls",
            "_view_module_version": "1.5.0",
            "_view_name": "HTMLView",
            "description": "",
            "description_tooltip": null,
            "layout": "IPY_MODEL_2da22409467a40b8891206b5f27d367a",
            "placeholder": "​",
            "style": "IPY_MODEL_040ed605c0c744c7a2031e615ed382eb",
            "value": " 466k/466k [00:00&lt;00:00, 903kB/s]"
          }
        },
        "bcfb7b2e67a5408492d3fea0110e48e3": {
          "model_module": "@jupyter-widgets/base",
          "model_name": "LayoutModel",
          "model_module_version": "1.2.0",
          "state": {
            "_model_module": "@jupyter-widgets/base",
            "_model_module_version": "1.2.0",
            "_model_name": "LayoutModel",
            "_view_count": null,
            "_view_module": "@jupyter-widgets/base",
            "_view_module_version": "1.2.0",
            "_view_name": "LayoutView",
            "align_content": null,
            "align_items": null,
            "align_self": null,
            "border": null,
            "bottom": null,
            "display": null,
            "flex": null,
            "flex_flow": null,
            "grid_area": null,
            "grid_auto_columns": null,
            "grid_auto_flow": null,
            "grid_auto_rows": null,
            "grid_column": null,
            "grid_gap": null,
            "grid_row": null,
            "grid_template_areas": null,
            "grid_template_columns": null,
            "grid_template_rows": null,
            "height": null,
            "justify_content": null,
            "justify_items": null,
            "left": null,
            "margin": null,
            "max_height": null,
            "max_width": null,
            "min_height": null,
            "min_width": null,
            "object_fit": null,
            "object_position": null,
            "order": null,
            "overflow": null,
            "overflow_x": null,
            "overflow_y": null,
            "padding": null,
            "right": null,
            "top": null,
            "visibility": null,
            "width": null
          }
        },
        "5749344b81a140359ec43bb917d594f9": {
          "model_module": "@jupyter-widgets/base",
          "model_name": "LayoutModel",
          "model_module_version": "1.2.0",
          "state": {
            "_model_module": "@jupyter-widgets/base",
            "_model_module_version": "1.2.0",
            "_model_name": "LayoutModel",
            "_view_count": null,
            "_view_module": "@jupyter-widgets/base",
            "_view_module_version": "1.2.0",
            "_view_name": "LayoutView",
            "align_content": null,
            "align_items": null,
            "align_self": null,
            "border": null,
            "bottom": null,
            "display": null,
            "flex": null,
            "flex_flow": null,
            "grid_area": null,
            "grid_auto_columns": null,
            "grid_auto_flow": null,
            "grid_auto_rows": null,
            "grid_column": null,
            "grid_gap": null,
            "grid_row": null,
            "grid_template_areas": null,
            "grid_template_columns": null,
            "grid_template_rows": null,
            "height": null,
            "justify_content": null,
            "justify_items": null,
            "left": null,
            "margin": null,
            "max_height": null,
            "max_width": null,
            "min_height": null,
            "min_width": null,
            "object_fit": null,
            "object_position": null,
            "order": null,
            "overflow": null,
            "overflow_x": null,
            "overflow_y": null,
            "padding": null,
            "right": null,
            "top": null,
            "visibility": null,
            "width": null
          }
        },
        "486e7600d5d94d08a246472276809cc8": {
          "model_module": "@jupyter-widgets/controls",
          "model_name": "DescriptionStyleModel",
          "model_module_version": "1.5.0",
          "state": {
            "_model_module": "@jupyter-widgets/controls",
            "_model_module_version": "1.5.0",
            "_model_name": "DescriptionStyleModel",
            "_view_count": null,
            "_view_module": "@jupyter-widgets/base",
            "_view_module_version": "1.2.0",
            "_view_name": "StyleView",
            "description_width": ""
          }
        },
        "f7c0819d3d4c47fcbb2f4de0bd77a463": {
          "model_module": "@jupyter-widgets/base",
          "model_name": "LayoutModel",
          "model_module_version": "1.2.0",
          "state": {
            "_model_module": "@jupyter-widgets/base",
            "_model_module_version": "1.2.0",
            "_model_name": "LayoutModel",
            "_view_count": null,
            "_view_module": "@jupyter-widgets/base",
            "_view_module_version": "1.2.0",
            "_view_name": "LayoutView",
            "align_content": null,
            "align_items": null,
            "align_self": null,
            "border": null,
            "bottom": null,
            "display": null,
            "flex": null,
            "flex_flow": null,
            "grid_area": null,
            "grid_auto_columns": null,
            "grid_auto_flow": null,
            "grid_auto_rows": null,
            "grid_column": null,
            "grid_gap": null,
            "grid_row": null,
            "grid_template_areas": null,
            "grid_template_columns": null,
            "grid_template_rows": null,
            "height": null,
            "justify_content": null,
            "justify_items": null,
            "left": null,
            "margin": null,
            "max_height": null,
            "max_width": null,
            "min_height": null,
            "min_width": null,
            "object_fit": null,
            "object_position": null,
            "order": null,
            "overflow": null,
            "overflow_x": null,
            "overflow_y": null,
            "padding": null,
            "right": null,
            "top": null,
            "visibility": null,
            "width": null
          }
        },
        "82b83b39098e4e19a867e4eb67791939": {
          "model_module": "@jupyter-widgets/controls",
          "model_name": "ProgressStyleModel",
          "model_module_version": "1.5.0",
          "state": {
            "_model_module": "@jupyter-widgets/controls",
            "_model_module_version": "1.5.0",
            "_model_name": "ProgressStyleModel",
            "_view_count": null,
            "_view_module": "@jupyter-widgets/base",
            "_view_module_version": "1.2.0",
            "_view_name": "StyleView",
            "bar_color": null,
            "description_width": ""
          }
        },
        "2da22409467a40b8891206b5f27d367a": {
          "model_module": "@jupyter-widgets/base",
          "model_name": "LayoutModel",
          "model_module_version": "1.2.0",
          "state": {
            "_model_module": "@jupyter-widgets/base",
            "_model_module_version": "1.2.0",
            "_model_name": "LayoutModel",
            "_view_count": null,
            "_view_module": "@jupyter-widgets/base",
            "_view_module_version": "1.2.0",
            "_view_name": "LayoutView",
            "align_content": null,
            "align_items": null,
            "align_self": null,
            "border": null,
            "bottom": null,
            "display": null,
            "flex": null,
            "flex_flow": null,
            "grid_area": null,
            "grid_auto_columns": null,
            "grid_auto_flow": null,
            "grid_auto_rows": null,
            "grid_column": null,
            "grid_gap": null,
            "grid_row": null,
            "grid_template_areas": null,
            "grid_template_columns": null,
            "grid_template_rows": null,
            "height": null,
            "justify_content": null,
            "justify_items": null,
            "left": null,
            "margin": null,
            "max_height": null,
            "max_width": null,
            "min_height": null,
            "min_width": null,
            "object_fit": null,
            "object_position": null,
            "order": null,
            "overflow": null,
            "overflow_x": null,
            "overflow_y": null,
            "padding": null,
            "right": null,
            "top": null,
            "visibility": null,
            "width": null
          }
        },
        "040ed605c0c744c7a2031e615ed382eb": {
          "model_module": "@jupyter-widgets/controls",
          "model_name": "DescriptionStyleModel",
          "model_module_version": "1.5.0",
          "state": {
            "_model_module": "@jupyter-widgets/controls",
            "_model_module_version": "1.5.0",
            "_model_name": "DescriptionStyleModel",
            "_view_count": null,
            "_view_module": "@jupyter-widgets/base",
            "_view_module_version": "1.2.0",
            "_view_name": "StyleView",
            "description_width": ""
          }
        },
        "d625f68d5ad64e7e86c73be996f7cc71": {
          "model_module": "@jupyter-widgets/controls",
          "model_name": "HBoxModel",
          "model_module_version": "1.5.0",
          "state": {
            "_dom_classes": [],
            "_model_module": "@jupyter-widgets/controls",
            "_model_module_version": "1.5.0",
            "_model_name": "HBoxModel",
            "_view_count": null,
            "_view_module": "@jupyter-widgets/controls",
            "_view_module_version": "1.5.0",
            "_view_name": "HBoxView",
            "box_style": "",
            "children": [
              "IPY_MODEL_b9f7c37ab10c4a9d9e61667818a841aa",
              "IPY_MODEL_9a1035e9322b457a92fad1389f937b28",
              "IPY_MODEL_356507271a4848d8b1943a4148d62035"
            ],
            "layout": "IPY_MODEL_747d2b04d42d481488fb482c43d75c9d"
          }
        },
        "b9f7c37ab10c4a9d9e61667818a841aa": {
          "model_module": "@jupyter-widgets/controls",
          "model_name": "HTMLModel",
          "model_module_version": "1.5.0",
          "state": {
            "_dom_classes": [],
            "_model_module": "@jupyter-widgets/controls",
            "_model_module_version": "1.5.0",
            "_model_name": "HTMLModel",
            "_view_count": null,
            "_view_module": "@jupyter-widgets/controls",
            "_view_module_version": "1.5.0",
            "_view_name": "HTMLView",
            "description": "",
            "description_tooltip": null,
            "layout": "IPY_MODEL_6646bca992b543aa9a19c8930fb579dc",
            "placeholder": "​",
            "style": "IPY_MODEL_e6980eb8a2e3465bbd1c9aedeae2a608",
            "value": "config.json: 100%"
          }
        },
        "9a1035e9322b457a92fad1389f937b28": {
          "model_module": "@jupyter-widgets/controls",
          "model_name": "FloatProgressModel",
          "model_module_version": "1.5.0",
          "state": {
            "_dom_classes": [],
            "_model_module": "@jupyter-widgets/controls",
            "_model_module_version": "1.5.0",
            "_model_name": "FloatProgressModel",
            "_view_count": null,
            "_view_module": "@jupyter-widgets/controls",
            "_view_module_version": "1.5.0",
            "_view_name": "ProgressView",
            "bar_style": "success",
            "description": "",
            "description_tooltip": null,
            "layout": "IPY_MODEL_fbffb6e41f694c60a2ae70ba9030ba28",
            "max": 570,
            "min": 0,
            "orientation": "horizontal",
            "style": "IPY_MODEL_6dfd2daa68e34cf1a5a83e779e99878f",
            "value": 570
          }
        },
        "356507271a4848d8b1943a4148d62035": {
          "model_module": "@jupyter-widgets/controls",
          "model_name": "HTMLModel",
          "model_module_version": "1.5.0",
          "state": {
            "_dom_classes": [],
            "_model_module": "@jupyter-widgets/controls",
            "_model_module_version": "1.5.0",
            "_model_name": "HTMLModel",
            "_view_count": null,
            "_view_module": "@jupyter-widgets/controls",
            "_view_module_version": "1.5.0",
            "_view_name": "HTMLView",
            "description": "",
            "description_tooltip": null,
            "layout": "IPY_MODEL_ea2dc541740a457d8254ace921b787d5",
            "placeholder": "​",
            "style": "IPY_MODEL_33a28a72249c44219312197c5dae9447",
            "value": " 570/570 [00:00&lt;00:00, 27.2kB/s]"
          }
        },
        "747d2b04d42d481488fb482c43d75c9d": {
          "model_module": "@jupyter-widgets/base",
          "model_name": "LayoutModel",
          "model_module_version": "1.2.0",
          "state": {
            "_model_module": "@jupyter-widgets/base",
            "_model_module_version": "1.2.0",
            "_model_name": "LayoutModel",
            "_view_count": null,
            "_view_module": "@jupyter-widgets/base",
            "_view_module_version": "1.2.0",
            "_view_name": "LayoutView",
            "align_content": null,
            "align_items": null,
            "align_self": null,
            "border": null,
            "bottom": null,
            "display": null,
            "flex": null,
            "flex_flow": null,
            "grid_area": null,
            "grid_auto_columns": null,
            "grid_auto_flow": null,
            "grid_auto_rows": null,
            "grid_column": null,
            "grid_gap": null,
            "grid_row": null,
            "grid_template_areas": null,
            "grid_template_columns": null,
            "grid_template_rows": null,
            "height": null,
            "justify_content": null,
            "justify_items": null,
            "left": null,
            "margin": null,
            "max_height": null,
            "max_width": null,
            "min_height": null,
            "min_width": null,
            "object_fit": null,
            "object_position": null,
            "order": null,
            "overflow": null,
            "overflow_x": null,
            "overflow_y": null,
            "padding": null,
            "right": null,
            "top": null,
            "visibility": null,
            "width": null
          }
        },
        "6646bca992b543aa9a19c8930fb579dc": {
          "model_module": "@jupyter-widgets/base",
          "model_name": "LayoutModel",
          "model_module_version": "1.2.0",
          "state": {
            "_model_module": "@jupyter-widgets/base",
            "_model_module_version": "1.2.0",
            "_model_name": "LayoutModel",
            "_view_count": null,
            "_view_module": "@jupyter-widgets/base",
            "_view_module_version": "1.2.0",
            "_view_name": "LayoutView",
            "align_content": null,
            "align_items": null,
            "align_self": null,
            "border": null,
            "bottom": null,
            "display": null,
            "flex": null,
            "flex_flow": null,
            "grid_area": null,
            "grid_auto_columns": null,
            "grid_auto_flow": null,
            "grid_auto_rows": null,
            "grid_column": null,
            "grid_gap": null,
            "grid_row": null,
            "grid_template_areas": null,
            "grid_template_columns": null,
            "grid_template_rows": null,
            "height": null,
            "justify_content": null,
            "justify_items": null,
            "left": null,
            "margin": null,
            "max_height": null,
            "max_width": null,
            "min_height": null,
            "min_width": null,
            "object_fit": null,
            "object_position": null,
            "order": null,
            "overflow": null,
            "overflow_x": null,
            "overflow_y": null,
            "padding": null,
            "right": null,
            "top": null,
            "visibility": null,
            "width": null
          }
        },
        "e6980eb8a2e3465bbd1c9aedeae2a608": {
          "model_module": "@jupyter-widgets/controls",
          "model_name": "DescriptionStyleModel",
          "model_module_version": "1.5.0",
          "state": {
            "_model_module": "@jupyter-widgets/controls",
            "_model_module_version": "1.5.0",
            "_model_name": "DescriptionStyleModel",
            "_view_count": null,
            "_view_module": "@jupyter-widgets/base",
            "_view_module_version": "1.2.0",
            "_view_name": "StyleView",
            "description_width": ""
          }
        },
        "fbffb6e41f694c60a2ae70ba9030ba28": {
          "model_module": "@jupyter-widgets/base",
          "model_name": "LayoutModel",
          "model_module_version": "1.2.0",
          "state": {
            "_model_module": "@jupyter-widgets/base",
            "_model_module_version": "1.2.0",
            "_model_name": "LayoutModel",
            "_view_count": null,
            "_view_module": "@jupyter-widgets/base",
            "_view_module_version": "1.2.0",
            "_view_name": "LayoutView",
            "align_content": null,
            "align_items": null,
            "align_self": null,
            "border": null,
            "bottom": null,
            "display": null,
            "flex": null,
            "flex_flow": null,
            "grid_area": null,
            "grid_auto_columns": null,
            "grid_auto_flow": null,
            "grid_auto_rows": null,
            "grid_column": null,
            "grid_gap": null,
            "grid_row": null,
            "grid_template_areas": null,
            "grid_template_columns": null,
            "grid_template_rows": null,
            "height": null,
            "justify_content": null,
            "justify_items": null,
            "left": null,
            "margin": null,
            "max_height": null,
            "max_width": null,
            "min_height": null,
            "min_width": null,
            "object_fit": null,
            "object_position": null,
            "order": null,
            "overflow": null,
            "overflow_x": null,
            "overflow_y": null,
            "padding": null,
            "right": null,
            "top": null,
            "visibility": null,
            "width": null
          }
        },
        "6dfd2daa68e34cf1a5a83e779e99878f": {
          "model_module": "@jupyter-widgets/controls",
          "model_name": "ProgressStyleModel",
          "model_module_version": "1.5.0",
          "state": {
            "_model_module": "@jupyter-widgets/controls",
            "_model_module_version": "1.5.0",
            "_model_name": "ProgressStyleModel",
            "_view_count": null,
            "_view_module": "@jupyter-widgets/base",
            "_view_module_version": "1.2.0",
            "_view_name": "StyleView",
            "bar_color": null,
            "description_width": ""
          }
        },
        "ea2dc541740a457d8254ace921b787d5": {
          "model_module": "@jupyter-widgets/base",
          "model_name": "LayoutModel",
          "model_module_version": "1.2.0",
          "state": {
            "_model_module": "@jupyter-widgets/base",
            "_model_module_version": "1.2.0",
            "_model_name": "LayoutModel",
            "_view_count": null,
            "_view_module": "@jupyter-widgets/base",
            "_view_module_version": "1.2.0",
            "_view_name": "LayoutView",
            "align_content": null,
            "align_items": null,
            "align_self": null,
            "border": null,
            "bottom": null,
            "display": null,
            "flex": null,
            "flex_flow": null,
            "grid_area": null,
            "grid_auto_columns": null,
            "grid_auto_flow": null,
            "grid_auto_rows": null,
            "grid_column": null,
            "grid_gap": null,
            "grid_row": null,
            "grid_template_areas": null,
            "grid_template_columns": null,
            "grid_template_rows": null,
            "height": null,
            "justify_content": null,
            "justify_items": null,
            "left": null,
            "margin": null,
            "max_height": null,
            "max_width": null,
            "min_height": null,
            "min_width": null,
            "object_fit": null,
            "object_position": null,
            "order": null,
            "overflow": null,
            "overflow_x": null,
            "overflow_y": null,
            "padding": null,
            "right": null,
            "top": null,
            "visibility": null,
            "width": null
          }
        },
        "33a28a72249c44219312197c5dae9447": {
          "model_module": "@jupyter-widgets/controls",
          "model_name": "DescriptionStyleModel",
          "model_module_version": "1.5.0",
          "state": {
            "_model_module": "@jupyter-widgets/controls",
            "_model_module_version": "1.5.0",
            "_model_name": "DescriptionStyleModel",
            "_view_count": null,
            "_view_module": "@jupyter-widgets/base",
            "_view_module_version": "1.2.0",
            "_view_name": "StyleView",
            "description_width": ""
          }
        },
        "0b15ec74350947b58bfe176191e3b57e": {
          "model_module": "@jupyter-widgets/controls",
          "model_name": "HBoxModel",
          "model_module_version": "1.5.0",
          "state": {
            "_dom_classes": [],
            "_model_module": "@jupyter-widgets/controls",
            "_model_module_version": "1.5.0",
            "_model_name": "HBoxModel",
            "_view_count": null,
            "_view_module": "@jupyter-widgets/controls",
            "_view_module_version": "1.5.0",
            "_view_name": "HBoxView",
            "box_style": "",
            "children": [
              "IPY_MODEL_6f0956f8ea0a448f96ef069a6c313fe4",
              "IPY_MODEL_8a699e82606848a0879ad1d0d547cb68",
              "IPY_MODEL_6e88d5dba2f046f59fd9c8891d0bb380"
            ],
            "layout": "IPY_MODEL_b12c1f3b0c34473197b3292834c6b86a"
          }
        },
        "6f0956f8ea0a448f96ef069a6c313fe4": {
          "model_module": "@jupyter-widgets/controls",
          "model_name": "HTMLModel",
          "model_module_version": "1.5.0",
          "state": {
            "_dom_classes": [],
            "_model_module": "@jupyter-widgets/controls",
            "_model_module_version": "1.5.0",
            "_model_name": "HTMLModel",
            "_view_count": null,
            "_view_module": "@jupyter-widgets/controls",
            "_view_module_version": "1.5.0",
            "_view_name": "HTMLView",
            "description": "",
            "description_tooltip": null,
            "layout": "IPY_MODEL_ba3b08b96e134a43a22abdae23479de4",
            "placeholder": "​",
            "style": "IPY_MODEL_f4a25d5fd3814c76b6954d5f3c9544da",
            "value": "model.safetensors: 100%"
          }
        },
        "8a699e82606848a0879ad1d0d547cb68": {
          "model_module": "@jupyter-widgets/controls",
          "model_name": "FloatProgressModel",
          "model_module_version": "1.5.0",
          "state": {
            "_dom_classes": [],
            "_model_module": "@jupyter-widgets/controls",
            "_model_module_version": "1.5.0",
            "_model_name": "FloatProgressModel",
            "_view_count": null,
            "_view_module": "@jupyter-widgets/controls",
            "_view_module_version": "1.5.0",
            "_view_name": "ProgressView",
            "bar_style": "success",
            "description": "",
            "description_tooltip": null,
            "layout": "IPY_MODEL_0aa7cd0f6f344c32a105350f26c86f3f",
            "max": 440449768,
            "min": 0,
            "orientation": "horizontal",
            "style": "IPY_MODEL_3a0af720fbf8499c9dd547eb1816d79c",
            "value": 440449768
          }
        },
        "6e88d5dba2f046f59fd9c8891d0bb380": {
          "model_module": "@jupyter-widgets/controls",
          "model_name": "HTMLModel",
          "model_module_version": "1.5.0",
          "state": {
            "_dom_classes": [],
            "_model_module": "@jupyter-widgets/controls",
            "_model_module_version": "1.5.0",
            "_model_name": "HTMLModel",
            "_view_count": null,
            "_view_module": "@jupyter-widgets/controls",
            "_view_module_version": "1.5.0",
            "_view_name": "HTMLView",
            "description": "",
            "description_tooltip": null,
            "layout": "IPY_MODEL_c8b2818eb2424312aa363ce58107479f",
            "placeholder": "​",
            "style": "IPY_MODEL_f41433bc257c41638808e97ba92690ca",
            "value": " 440M/440M [00:05&lt;00:00, 37.0MB/s]"
          }
        },
        "b12c1f3b0c34473197b3292834c6b86a": {
          "model_module": "@jupyter-widgets/base",
          "model_name": "LayoutModel",
          "model_module_version": "1.2.0",
          "state": {
            "_model_module": "@jupyter-widgets/base",
            "_model_module_version": "1.2.0",
            "_model_name": "LayoutModel",
            "_view_count": null,
            "_view_module": "@jupyter-widgets/base",
            "_view_module_version": "1.2.0",
            "_view_name": "LayoutView",
            "align_content": null,
            "align_items": null,
            "align_self": null,
            "border": null,
            "bottom": null,
            "display": null,
            "flex": null,
            "flex_flow": null,
            "grid_area": null,
            "grid_auto_columns": null,
            "grid_auto_flow": null,
            "grid_auto_rows": null,
            "grid_column": null,
            "grid_gap": null,
            "grid_row": null,
            "grid_template_areas": null,
            "grid_template_columns": null,
            "grid_template_rows": null,
            "height": null,
            "justify_content": null,
            "justify_items": null,
            "left": null,
            "margin": null,
            "max_height": null,
            "max_width": null,
            "min_height": null,
            "min_width": null,
            "object_fit": null,
            "object_position": null,
            "order": null,
            "overflow": null,
            "overflow_x": null,
            "overflow_y": null,
            "padding": null,
            "right": null,
            "top": null,
            "visibility": null,
            "width": null
          }
        },
        "ba3b08b96e134a43a22abdae23479de4": {
          "model_module": "@jupyter-widgets/base",
          "model_name": "LayoutModel",
          "model_module_version": "1.2.0",
          "state": {
            "_model_module": "@jupyter-widgets/base",
            "_model_module_version": "1.2.0",
            "_model_name": "LayoutModel",
            "_view_count": null,
            "_view_module": "@jupyter-widgets/base",
            "_view_module_version": "1.2.0",
            "_view_name": "LayoutView",
            "align_content": null,
            "align_items": null,
            "align_self": null,
            "border": null,
            "bottom": null,
            "display": null,
            "flex": null,
            "flex_flow": null,
            "grid_area": null,
            "grid_auto_columns": null,
            "grid_auto_flow": null,
            "grid_auto_rows": null,
            "grid_column": null,
            "grid_gap": null,
            "grid_row": null,
            "grid_template_areas": null,
            "grid_template_columns": null,
            "grid_template_rows": null,
            "height": null,
            "justify_content": null,
            "justify_items": null,
            "left": null,
            "margin": null,
            "max_height": null,
            "max_width": null,
            "min_height": null,
            "min_width": null,
            "object_fit": null,
            "object_position": null,
            "order": null,
            "overflow": null,
            "overflow_x": null,
            "overflow_y": null,
            "padding": null,
            "right": null,
            "top": null,
            "visibility": null,
            "width": null
          }
        },
        "f4a25d5fd3814c76b6954d5f3c9544da": {
          "model_module": "@jupyter-widgets/controls",
          "model_name": "DescriptionStyleModel",
          "model_module_version": "1.5.0",
          "state": {
            "_model_module": "@jupyter-widgets/controls",
            "_model_module_version": "1.5.0",
            "_model_name": "DescriptionStyleModel",
            "_view_count": null,
            "_view_module": "@jupyter-widgets/base",
            "_view_module_version": "1.2.0",
            "_view_name": "StyleView",
            "description_width": ""
          }
        },
        "0aa7cd0f6f344c32a105350f26c86f3f": {
          "model_module": "@jupyter-widgets/base",
          "model_name": "LayoutModel",
          "model_module_version": "1.2.0",
          "state": {
            "_model_module": "@jupyter-widgets/base",
            "_model_module_version": "1.2.0",
            "_model_name": "LayoutModel",
            "_view_count": null,
            "_view_module": "@jupyter-widgets/base",
            "_view_module_version": "1.2.0",
            "_view_name": "LayoutView",
            "align_content": null,
            "align_items": null,
            "align_self": null,
            "border": null,
            "bottom": null,
            "display": null,
            "flex": null,
            "flex_flow": null,
            "grid_area": null,
            "grid_auto_columns": null,
            "grid_auto_flow": null,
            "grid_auto_rows": null,
            "grid_column": null,
            "grid_gap": null,
            "grid_row": null,
            "grid_template_areas": null,
            "grid_template_columns": null,
            "grid_template_rows": null,
            "height": null,
            "justify_content": null,
            "justify_items": null,
            "left": null,
            "margin": null,
            "max_height": null,
            "max_width": null,
            "min_height": null,
            "min_width": null,
            "object_fit": null,
            "object_position": null,
            "order": null,
            "overflow": null,
            "overflow_x": null,
            "overflow_y": null,
            "padding": null,
            "right": null,
            "top": null,
            "visibility": null,
            "width": null
          }
        },
        "3a0af720fbf8499c9dd547eb1816d79c": {
          "model_module": "@jupyter-widgets/controls",
          "model_name": "ProgressStyleModel",
          "model_module_version": "1.5.0",
          "state": {
            "_model_module": "@jupyter-widgets/controls",
            "_model_module_version": "1.5.0",
            "_model_name": "ProgressStyleModel",
            "_view_count": null,
            "_view_module": "@jupyter-widgets/base",
            "_view_module_version": "1.2.0",
            "_view_name": "StyleView",
            "bar_color": null,
            "description_width": ""
          }
        },
        "c8b2818eb2424312aa363ce58107479f": {
          "model_module": "@jupyter-widgets/base",
          "model_name": "LayoutModel",
          "model_module_version": "1.2.0",
          "state": {
            "_model_module": "@jupyter-widgets/base",
            "_model_module_version": "1.2.0",
            "_model_name": "LayoutModel",
            "_view_count": null,
            "_view_module": "@jupyter-widgets/base",
            "_view_module_version": "1.2.0",
            "_view_name": "LayoutView",
            "align_content": null,
            "align_items": null,
            "align_self": null,
            "border": null,
            "bottom": null,
            "display": null,
            "flex": null,
            "flex_flow": null,
            "grid_area": null,
            "grid_auto_columns": null,
            "grid_auto_flow": null,
            "grid_auto_rows": null,
            "grid_column": null,
            "grid_gap": null,
            "grid_row": null,
            "grid_template_areas": null,
            "grid_template_columns": null,
            "grid_template_rows": null,
            "height": null,
            "justify_content": null,
            "justify_items": null,
            "left": null,
            "margin": null,
            "max_height": null,
            "max_width": null,
            "min_height": null,
            "min_width": null,
            "object_fit": null,
            "object_position": null,
            "order": null,
            "overflow": null,
            "overflow_x": null,
            "overflow_y": null,
            "padding": null,
            "right": null,
            "top": null,
            "visibility": null,
            "width": null
          }
        },
        "f41433bc257c41638808e97ba92690ca": {
          "model_module": "@jupyter-widgets/controls",
          "model_name": "DescriptionStyleModel",
          "model_module_version": "1.5.0",
          "state": {
            "_model_module": "@jupyter-widgets/controls",
            "_model_module_version": "1.5.0",
            "_model_name": "DescriptionStyleModel",
            "_view_count": null,
            "_view_module": "@jupyter-widgets/base",
            "_view_module_version": "1.2.0",
            "_view_name": "StyleView",
            "description_width": ""
          }
        }
      }
    }
  },
  "nbformat": 4,
  "nbformat_minor": 5
}